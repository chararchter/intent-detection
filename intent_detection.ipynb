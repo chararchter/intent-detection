{
  "nbformat": 4,
  "nbformat_minor": 0,
  "metadata": {
    "colab": {
      "provenance": []
    },
    "kernelspec": {
      "name": "python3",
      "display_name": "Python 3"
    },
    "language_info": {
      "name": "python"
    }
  },
  "cells": [
    {
      "cell_type": "code",
      "execution_count": null,
      "metadata": {
        "id": "jEP12XTE1Zva",
        "colab": {
          "base_uri": "https://localhost:8080/"
        },
        "outputId": "493a2d5f-231e-4279-c61d-107be13b5bd2"
      },
      "outputs": [
        {
          "output_type": "stream",
          "name": "stdout",
          "text": [
            "Looking in indexes: https://pypi.org/simple, https://us-python.pkg.dev/colab-wheels/public/simple/\n",
            "Requirement already satisfied: transformers in /usr/local/lib/python3.8/dist-packages (4.25.1)\n",
            "Requirement already satisfied: requests in /usr/local/lib/python3.8/dist-packages (from transformers) (2.23.0)\n",
            "Requirement already satisfied: numpy>=1.17 in /usr/local/lib/python3.8/dist-packages (from transformers) (1.21.6)\n",
            "Requirement already satisfied: regex!=2019.12.17 in /usr/local/lib/python3.8/dist-packages (from transformers) (2022.6.2)\n",
            "Requirement already satisfied: tokenizers!=0.11.3,<0.14,>=0.11.1 in /usr/local/lib/python3.8/dist-packages (from transformers) (0.13.2)\n",
            "Requirement already satisfied: tqdm>=4.27 in /usr/local/lib/python3.8/dist-packages (from transformers) (4.64.1)\n",
            "Requirement already satisfied: packaging>=20.0 in /usr/local/lib/python3.8/dist-packages (from transformers) (21.3)\n",
            "Requirement already satisfied: filelock in /usr/local/lib/python3.8/dist-packages (from transformers) (3.8.0)\n",
            "Requirement already satisfied: huggingface-hub<1.0,>=0.10.0 in /usr/local/lib/python3.8/dist-packages (from transformers) (0.11.1)\n",
            "Requirement already satisfied: pyyaml>=5.1 in /usr/local/lib/python3.8/dist-packages (from transformers) (6.0)\n",
            "Requirement already satisfied: typing-extensions>=3.7.4.3 in /usr/local/lib/python3.8/dist-packages (from huggingface-hub<1.0,>=0.10.0->transformers) (4.4.0)\n",
            "Requirement already satisfied: pyparsing!=3.0.5,>=2.0.2 in /usr/local/lib/python3.8/dist-packages (from packaging>=20.0->transformers) (3.0.9)\n",
            "Requirement already satisfied: idna<3,>=2.5 in /usr/local/lib/python3.8/dist-packages (from requests->transformers) (2.10)\n",
            "Requirement already satisfied: urllib3!=1.25.0,!=1.25.1,<1.26,>=1.21.1 in /usr/local/lib/python3.8/dist-packages (from requests->transformers) (1.24.3)\n",
            "Requirement already satisfied: chardet<4,>=3.0.2 in /usr/local/lib/python3.8/dist-packages (from requests->transformers) (3.0.4)\n",
            "Requirement already satisfied: certifi>=2017.4.17 in /usr/local/lib/python3.8/dist-packages (from requests->transformers) (2022.9.24)\n"
          ]
        }
      ],
      "source": [
        "!pip install transformers\n",
        "# !pip install datasets\n",
        "# !pip install PyGithub\n",
        "# !pip install dagshub"
      ]
    },
    {
      "cell_type": "code",
      "source": [
        "import os\n",
        "from pathlib import Path\n",
        "from typing import List\n",
        "\n",
        "from transformers import AutoModelForSequenceClassification, AutoTokenizer\n",
        "from transformers import BertTokenizer, TFBertModel\n",
        "\n",
        "# to mount google drive and access NLU-datasets\n",
        "from google.colab import drive\n",
        "\n",
        "# imports from NLU-datasets\n",
        "import tensorflow as tf\n",
        "\n",
        "from keras.utils.vis_utils import plot_model\n",
        "from keras.models import Sequential, Model\n",
        "from keras.layers import (Dense, Activation, Conv1D, MaxPooling1D, \n",
        "                          Dropout, Flatten, Input, Add, Average,\n",
        "                          LSTM, Lambda, AveragePooling1D,\n",
        "                          Reshape)\n",
        "from tensorflow.keras.optimizers import SGD, Adam\n",
        "from keras import regularizers\n",
        "from keras import backend as K\n",
        "from sklearn.model_selection import StratifiedKFold"
      ],
      "metadata": {
        "id": "rPkjjO49zRpN"
      },
      "execution_count": null,
      "outputs": []
    },
    {
      "cell_type": "markdown",
      "source": [
        "Mount google drive to access NLU-datasets https://github.com/tilde-nlp/NLU-datasets that I presaved in my google drive in NLU-datasets directory. This will trigger a pop up window that asks for permission to access google drive.\n",
        "\n",
        "TODO: Upload it to huggingface and use directly from there https://huggingface.co/docs/datasets/upload_dataset (the dataset has Creative Commons Attribution-ShareAlike 4.0 International License, which allows it)"
      ],
      "metadata": {
        "id": "9UWpPBl3Ebjj"
      }
    },
    {
      "cell_type": "code",
      "source": [
        "drive.mount('/content/drive')"
      ],
      "metadata": {
        "colab": {
          "base_uri": "https://localhost:8080/"
        },
        "id": "N-8kRT0F24H2",
        "outputId": "797ef9fd-de54-4bf2-a0f0-3673234e6b3d"
      },
      "execution_count": null,
      "outputs": [
        {
          "output_type": "stream",
          "name": "stdout",
          "text": [
            "Drive already mounted at /content/drive; to attempt to forcibly remount, call drive.mount(\"/content/drive\", force_remount=True).\n"
          ]
        }
      ]
    },
    {
      "cell_type": "code",
      "source": [
        "if \"NLU-datasets\" not in os.getcwd():\n",
        "  os.chdir(\"drive/My Drive/NLU-datasets\")"
      ],
      "metadata": {
        "id": "xc-cNkn_3RT9"
      },
      "execution_count": null,
      "outputs": []
    },
    {
      "cell_type": "code",
      "source": [
        "!ls"
      ],
      "metadata": {
        "colab": {
          "base_uri": "https://localhost:8080/"
        },
        "id": "2yGYNtrJ3pOG",
        "outputId": "d6de66a1-0d02-4a10-fafb-d64a0b816bb3"
      },
      "execution_count": null,
      "outputs": [
        {
          "output_type": "stream",
          "name": "stdout",
          "text": [
            "askubuntu  chatbot  README.md  webapps\n"
          ]
        }
      ]
    },
    {
      "cell_type": "code",
      "source": [
        "def get_data(path: str) -> List[str]:\n",
        "  with open(path) as f:\n",
        "    array = []\n",
        "    for line in list(f):\n",
        "      array.append(line.split('\\n')[0])\n",
        "    return array\n",
        "\n",
        "\n",
        "pathlist = Path(\"chatbot\").glob(\"**/*.txt\")\n",
        "\n",
        "for path in pathlist:\n",
        "  # because path is object not string\n",
        "  path_in_str = str(path)\n",
        "  print(path_in_str)\n",
        "  if path_in_str == \"chatbot/chatbot_train_ans.txt\":\n",
        "    chatbot_train_ans = get_data(path_in_str)\n",
        "  elif path_in_str == \"chatbot/chatbot_test_ans.txt\":\n",
        "    chatbot_test_ans  = get_data(path_in_str)\n",
        "  elif path_in_str == \"chatbot/en/chatbot_test_q.txt\":\n",
        "    en_test  = get_data(path_in_str)\n",
        "  elif path_in_str == \"chatbot/en/chatbot_train_q.txt\":\n",
        "    en_train  = get_data(path_in_str)\n",
        "  elif path_in_str == \"chatbot/lv/chatbot_test_q.txt\":\n",
        "    lv_test  = get_data(path_in_str)\n",
        "  elif path_in_str == \"chatbot/lv/chatbot_train_q.txt\":\n",
        "    lv_train  = get_data(path_in_str)\n",
        "\n",
        "print(chatbot_train_ans)\n",
        "print(chatbot_test_ans)\n",
        "print(en_test)"
      ],
      "metadata": {
        "colab": {
          "base_uri": "https://localhost:8080/"
        },
        "id": "DVT2iJ687_Hj",
        "outputId": "0791d4ab-a804-4d51-d9dd-5aff27536be1"
      },
      "execution_count": null,
      "outputs": [
        {
          "output_type": "stream",
          "name": "stdout",
          "text": [
            "chatbot/chatbot_train_ans.txt\n",
            "chatbot/chatbot_test_ans.txt\n",
            "chatbot/en/chatbot_test_q.txt\n",
            "chatbot/en/chatbot_train_q.txt\n",
            "chatbot/lv/chatbot_test_q.txt\n",
            "chatbot/lv/chatbot_train_q.txt\n",
            "chatbot/et/chatbot_train_q.txt\n",
            "chatbot/et/chatbot_test_q.txt\n",
            "chatbot/ru/chatbot_train_q.txt\n",
            "chatbot/ru/chatbot_test_q.txt\n",
            "chatbot/lt/chatbot_test_q.txt\n",
            "chatbot/lt/chatbot_train_q.txt\n",
            "['FindConnection', 'FindConnection', 'FindConnection', 'FindConnection', 'FindConnection', 'FindConnection', 'FindConnection', 'FindConnection', 'FindConnection', 'FindConnection', 'FindConnection', 'FindConnection', 'FindConnection', 'FindConnection', 'FindConnection', 'FindConnection', 'FindConnection', 'FindConnection', 'FindConnection', 'FindConnection', 'FindConnection', 'DepartureTime', 'FindConnection', 'FindConnection', 'DepartureTime', 'FindConnection', 'FindConnection', 'FindConnection', 'FindConnection', 'FindConnection', 'FindConnection', 'DepartureTime', 'DepartureTime', 'DepartureTime', 'DepartureTime', 'DepartureTime', 'DepartureTime', 'DepartureTime', 'DepartureTime', 'DepartureTime', 'DepartureTime', 'DepartureTime', 'DepartureTime', 'DepartureTime', 'DepartureTime', 'DepartureTime', 'DepartureTime', 'DepartureTime', 'DepartureTime', 'DepartureTime', 'DepartureTime', 'DepartureTime', 'DepartureTime', 'DepartureTime', 'DepartureTime', 'DepartureTime', 'DepartureTime', 'DepartureTime', 'DepartureTime', 'DepartureTime', 'DepartureTime', 'DepartureTime', 'FindConnection', 'DepartureTime', 'FindConnection', 'FindConnection', 'FindConnection', 'FindConnection', 'DepartureTime', 'DepartureTime', 'DepartureTime', 'DepartureTime', 'FindConnection', 'FindConnection', 'FindConnection', 'FindConnection', 'FindConnection', 'FindConnection', 'FindConnection', 'DepartureTime', 'FindConnection', 'FindConnection', 'FindConnection', 'FindConnection', 'DepartureTime', 'FindConnection', 'FindConnection', 'FindConnection', 'FindConnection', 'FindConnection', 'FindConnection', 'FindConnection', 'FindConnection', 'DepartureTime', 'DepartureTime', 'FindConnection', 'FindConnection', 'DepartureTime', 'FindConnection', 'FindConnection']\n",
            "['FindConnection', 'DepartureTime', 'DepartureTime', 'FindConnection', 'FindConnection', 'FindConnection', 'FindConnection', 'FindConnection', 'FindConnection', 'FindConnection', 'FindConnection', 'DepartureTime', 'FindConnection', 'FindConnection', 'FindConnection', 'FindConnection', 'FindConnection', 'DepartureTime', 'FindConnection', 'FindConnection', 'FindConnection', 'DepartureTime', 'FindConnection', 'FindConnection', 'FindConnection', 'FindConnection', 'DepartureTime', 'FindConnection', 'FindConnection', 'FindConnection', 'FindConnection', 'FindConnection', 'DepartureTime', 'FindConnection', 'DepartureTime', 'FindConnection', 'DepartureTime', 'FindConnection', 'FindConnection', 'FindConnection', 'FindConnection', 'FindConnection', 'FindConnection', 'FindConnection', 'DepartureTime', 'FindConnection', 'DepartureTime', 'FindConnection', 'FindConnection', 'DepartureTime', 'DepartureTime', 'DepartureTime', 'DepartureTime', 'DepartureTime', 'DepartureTime', 'DepartureTime', 'FindConnection', 'DepartureTime', 'FindConnection', 'DepartureTime', 'FindConnection', 'DepartureTime', 'DepartureTime', 'DepartureTime', 'DepartureTime', 'FindConnection', 'FindConnection', 'FindConnection', 'FindConnection', 'FindConnection', 'FindConnection', 'FindConnection', 'FindConnection', 'FindConnection', 'FindConnection', 'FindConnection', 'FindConnection', 'FindConnection', 'DepartureTime', 'FindConnection', 'FindConnection', 'FindConnection', 'FindConnection', 'DepartureTime', 'DepartureTime', 'DepartureTime', 'DepartureTime', 'DepartureTime', 'DepartureTime', 'FindConnection', 'FindConnection', 'FindConnection', 'FindConnection', 'DepartureTime', 'FindConnection', 'FindConnection', 'DepartureTime', 'DepartureTime', 'FindConnection', 'FindConnection', 'FindConnection', 'FindConnection', 'FindConnection', 'FindConnection', 'DepartureTime', 'FindConnection']\n",
            "['i want to go marienplatz', 'when is the next train in muncher freiheit?', 'when does the next u-bahn leaves from garching forschungszentrum?', 'from olympia einkaufszentrum to hauptbahnhof', 'when is the next train from winterstraße 12 to kieferngarten', 'when is the next rocket from winterstraße 12 to kieferngarte', 'can you find a connection from garching to hauptbahnhof?', 'how to get from untere strassäcker 21 to fröttmaning', 'how i can get from marienplatz to garching', 'connection from boltzmannstraße to kieferngarten', 'how to get from bonner platz to freimann?', 'when is the next s-bahn leaving at garching?', 'how do i get from oez to hbf?', 'how to get from winterstrasse 12 to fröttmaning', 'how do i get from garching forschungszentrum to pasing', 'theresienstraße to assling', 'how can i get from theresienstraße to munich east?', 'when does the next bus starts from garching?', 'from quiddestraße to garching?', 'can you find a connection from kurt-eisner-straße to garching forschungszentrum?', 'can you find a connection from quiddestraße to garching forschungszentrum?', 'when does the next train leaves at garching?', 'from hauptbahnhof to garching?', 'how can i get to glockenbachviertel from garching forschungszentrum?', 'how i can get from garching to nordfriedhof', 'how can i get to glockenbachviertel from garching forschungszentrum?', 'when is the next train leaving in garching forschungszentrum', 'how can i get from moosach to quiddestraße?', 'how can i get from moosach to poccistraße?', 'how can i get from kurt-eisner-straße to garching forschungszentrum?', 'how can i get from moosach to quiddestraße?', 'how can i get from moosach to odeonsplatz?', 'when does the next bus starts at garching?', \"what's the shortest way from quiddestraße to odeonsplatz?\", 'when is the next bus from ostbahnhof', 'how i can get from garching to neuperlach sued', 'when is the next train in munchner freiheit?', 'how i can get from marienplatz to garching?', 'how do i get from poccistraße to laim', 'i want to go garching from marienplatz', 'how i can get from marienplatz to garching?', 'how can i get from hauptbahnhof to odeonsplatz', 'prinzregentenplatz to rotkreuzplatz', 'i want to go to garching from marienplatz', 'next train from garching', 'from prinzregentenplatz to rotkreuzplatz', 'when is the next subway from garching forschungszentrum', 'from garching to klinikum', 'from garching foschungszentrum to odeonsplatz', 'next bus in garching', 'when does the train leaving in garching forschungszentrum', 'next subway from garching forschungszentrum', 'tell me the next bus from garching', '\"next bus from garching, please.\"', 'next bus from garching', 'next bus from central station', 'from garching to marienplatz', 'next bus from garching.', 'connection from garching to hauptbahnhof?', 'when does the next bus departs from garching?', 'find connection from hauptbahnhof to odeonsplatz', 'when does the next u-bahn departs at garching forschungszentrum?', 'when does the next u-bahn departs at garching?', 'when does the next subway departs at garching', 'when is the next train in garching?', 'how to get from münchner freiheit to garching ?', 'implerstraße to ostbahnhof', 'how can i get from hauptbahnhof to odeonsplatz?', 'how can i go from garching forschungszentrum to prinzregentenplatz', 'how can i get from mangfallplatz to garching', 'how can i get to hohenlindenerstraße', 'harthaus to hackerbrücke', 'how can i get from feldmoching to garching forschungszentrum?', 'from marienplatz to petershausen', 'when is the train from garching to marienplatz', 'neufahrn to garching', 'how can i get from mangfallplatz to garching', 'how can i get to hohenlindenerstr', 'when is the next bus from garching forschungzentrum', 'how do i get from spitzingplatz to poccistraße?', 'how can i get from garching forschungszentrum to marienplatz', 'how can i get from klinkum to marienplatz?', 'how to get from alte heide to marienplatz', 'next train from muenchen freicheit', '\"depart in garching, i assume\"', 'when does the next u-bahn depart at garching?', 'the next bus from garching forschungzentrum', 'when is the next train in alte heide?', 'or depart from garching', 'hello munich city bot! how do i get from münchner freiheit to scheidplatz?', 'how can i get from garching forschungszentrum to prinzregentenplatz', 'how can i get from neufahrn to garching', 'take me to the airport', 'when does the next u6 leave from garching forschungszentrum', 'how i can get from munchner freiheit to nordfriedhof?', 'from harthaus to hackerbrücke', 'when is the train from garching', 'what is the next train from münchner freiheit', 'how can i get from theresienstrasse to garching forschungszentrum', 'how can i get from münchner freiheit to odeonsplatz', 'from garching to hauptbahnhof', 'how can i get from garching to odeonsplatz', 'start: neufahrn end:garching', 'how can i get from studentenstadt to garching', 'when is the next bus from garching', 'take me from hauptbahnhof to odeonsplatz']\n"
          ]
        }
      ]
    },
    {
      "cell_type": "markdown",
      "source": [
        "what tokenizer does? what model does?\n",
        "\n",
        "enconded_input shape changes by increasing word count: 4 words: (1, 6), 5 words: (1, 9); 7 words: (1, 13) what shape should go into classifier? sentence vector or individual word vectors? what do input_ids, token_type_ids and attention_mask mean in encoded_input? which one should i pass to classifier? probably input_ids because its the only one different from 0 and 1\n"
      ],
      "metadata": {
        "id": "Cf7N2yoxOQ9g"
      }
    },
    {
      "cell_type": "code",
      "source": [
        "model_name = \"bert-base-multilingual-cased\"\n",
        "\n",
        "tokenizer = BertTokenizer.from_pretrained(model_name)\n",
        "model = TFBertModel.from_pretrained(model_name)"
      ],
      "metadata": {
        "colab": {
          "base_uri": "https://localhost:8080/"
        },
        "id": "vWlJLyQkkNls",
        "outputId": "219496de-45d4-4d71-dc13-a72f145753c8"
      },
      "execution_count": null,
      "outputs": [
        {
          "output_type": "stream",
          "name": "stderr",
          "text": [
            "Some layers from the model checkpoint at bert-base-multilingual-cased were not used when initializing TFBertModel: ['nsp___cls', 'mlm___cls']\n",
            "- This IS expected if you are initializing TFBertModel from the checkpoint of a model trained on another task or with another architecture (e.g. initializing a BertForSequenceClassification model from a BertForPreTraining model).\n",
            "- This IS NOT expected if you are initializing TFBertModel from the checkpoint of a model that you expect to be exactly identical (initializing a BertForSequenceClassification model from a BertForSequenceClassification model).\n",
            "All the layers of TFBertModel were initialized from the model checkpoint at bert-base-multilingual-cased.\n",
            "If your task is similar to the task the model of the checkpoint was trained on, you can already use TFBertModel for predictions without further training.\n"
          ]
        }
      ]
    },
    {
      "cell_type": "code",
      "source": [
        "encoded_input = tokenizer(en_test[0], return_tensors='tf')\n",
        "output = model(encoded_input)\n",
        "\n",
        "print(encoded_input)\n",
        "print(output)"
      ],
      "metadata": {
        "colab": {
          "base_uri": "https://localhost:8080/"
        },
        "id": "uQ5fZd7sl75y",
        "outputId": "c0af8f59-3e49-42d1-f119-bb5c3e482a92"
      },
      "execution_count": null,
      "outputs": [
        {
          "output_type": "stream",
          "name": "stdout",
          "text": [
            "{'input_ids': <tf.Tensor: shape=(1, 9), dtype=int32, numpy=\n",
            "array([[  101,   177, 21528, 10114, 11783, 24538, 10136, 20732,   102]],\n",
            "      dtype=int32)>, 'token_type_ids': <tf.Tensor: shape=(1, 9), dtype=int32, numpy=array([[0, 0, 0, 0, 0, 0, 0, 0, 0]], dtype=int32)>, 'attention_mask': <tf.Tensor: shape=(1, 9), dtype=int32, numpy=array([[1, 1, 1, 1, 1, 1, 1, 1, 1]], dtype=int32)>}\n",
            "TFBaseModelOutputWithPoolingAndCrossAttentions(last_hidden_state=<tf.Tensor: shape=(1, 9, 768), dtype=float32, numpy=\n",
            "array([[[-0.0801831 ,  0.03810783,  0.27046812, ...,  0.39124072,\n",
            "         -0.11388044, -0.04561077],\n",
            "        [-0.13535482, -0.61088157,  0.83754325, ...,  0.6064948 ,\n",
            "         -0.36229783,  0.06997249],\n",
            "        [-0.9340398 , -0.27897775,  0.34910437, ...,  1.0008146 ,\n",
            "         -0.27053565,  0.39220393],\n",
            "        ...,\n",
            "        [-0.64944226,  0.01610355,  0.06948492, ...,  0.9110723 ,\n",
            "         -0.3397322 , -0.44170964],\n",
            "        [-0.43947974,  0.11158036,  0.09911749, ...,  0.7545632 ,\n",
            "          0.0909415 , -0.18004197],\n",
            "        [-0.285816  , -0.20664008,  1.011271  , ...,  0.43730527,\n",
            "         -0.19045143,  0.07825344]]], dtype=float32)>, pooler_output=<tf.Tensor: shape=(1, 768), dtype=float32, numpy=\n",
            "array([[ 0.24232776, -0.05618617,  0.26164398, -0.18765198, -0.06455288,\n",
            "         0.46789142,  0.22187352,  0.2141517 , -0.4258368 ,  0.29156756,\n",
            "        -0.11752241, -0.18155742, -0.06530014, -0.216204  ,  0.17977302,\n",
            "        -0.19529663,  0.58109397,  0.05634778,  0.08462804, -0.3879821 ,\n",
            "        -0.99998695, -0.10416292, -0.30478424, -0.07286783, -0.3380697 ,\n",
            "         0.08212507, -0.18015948,  0.03782568,  0.2093541 , -0.19827893,\n",
            "         0.02490435, -0.99998635,  0.6165414 ,  0.5865973 ,  0.16271679,\n",
            "        -0.14495029,  0.14894848,  0.19415428,  0.3326741 , -0.4574388 ,\n",
            "        -0.12462359,  0.0160442 , -0.06251244,  0.15347779, -0.16285157,\n",
            "        -0.13825466, -0.17305022,  0.23588929, -0.25791693,  0.10568984,\n",
            "         0.04876266,  0.24903104,  0.4764629 ,  0.3414033 ,  0.2347064 ,\n",
            "         0.135139  ,  0.3381268 ,  0.17920765,  0.2548092 , -0.22910838,\n",
            "         0.104372  ,  0.20882404,  0.12598369, -0.20330548, -0.2649352 ,\n",
            "        -0.34574223,  0.06662578, -0.1095832 ,  0.52087855, -0.06793378,\n",
            "        -0.1433982 , -0.4179438 , -0.19371396,  0.20427915,  0.17209235,\n",
            "        -0.15335043,  0.2969203 ,  0.3493509 ,  0.01971053, -0.08284772,\n",
            "        -0.32395294, -0.51309824, -0.20078844,  0.24605948, -0.20606466,\n",
            "         0.21046858,  0.30571407, -0.32283875,  0.15065049, -0.0315976 ,\n",
            "         0.27051443,  0.52857995, -0.2884668 ,  0.29927233, -0.11269142,\n",
            "        -0.1628941 , -0.75594926, -0.06938048, -0.09728778, -0.36411792,\n",
            "        -0.1650775 ,  0.12249114, -0.32296124, -0.17143996, -0.2307166 ,\n",
            "        -0.27896237,  0.15811506,  0.2888429 , -0.16779414,  0.3293045 ,\n",
            "         0.08590876, -0.36918098, -0.25086617,  0.06250824, -0.20347258,\n",
            "         0.94457096, -0.18778552,  0.10080887, -0.05169692, -0.18025914,\n",
            "        -0.5868383 ,  0.9999886 ,  0.09179714, -0.18645048,  0.06576976,\n",
            "         0.17460726, -0.5830255 ,  0.16584915,  0.26594514,  0.19902164,\n",
            "         0.14343223, -0.11045916, -0.16183795, -0.37560463, -0.71854365,\n",
            "        -0.22926167, -0.16664708,  0.22292764, -0.27732947, -0.22696753,\n",
            "         0.1772707 ,  0.48412263,  0.13182618, -0.09331826, -0.06564654,\n",
            "         0.0164351 ,  0.24957292, -0.2406485 ,  0.99998593,  0.6490045 ,\n",
            "        -0.12972425, -0.2766909 ,  0.4524959 , -0.63711226, -0.30463532,\n",
            "        -0.26609856, -0.3198329 , -0.43857503,  0.27750087,  0.14790791,\n",
            "         0.05697864, -0.15109976, -0.10980632, -0.22093812,  0.30210358,\n",
            "        -0.6313071 , -0.14017023,  0.32548654,  0.35715917,  0.26926765,\n",
            "        -0.09429876,  0.27027804,  0.11266764, -0.15978286,  0.01210872,\n",
            "         0.19305855,  0.11712766, -0.0485367 , -0.12266688, -0.12446146,\n",
            "         0.19152959, -0.10552263, -0.3845768 ,  0.02281725, -0.09960522,\n",
            "        -0.45459586,  0.11685489, -0.08052403, -0.24212252,  0.2767204 ,\n",
            "        -0.1248429 ,  0.25991726, -0.23264763,  0.1354778 ,  0.30008537,\n",
            "         0.0959168 , -0.38296556,  0.3054893 ,  0.32211623,  0.32973152,\n",
            "         0.26017055,  0.12671502,  0.14626631,  0.07372178, -0.07507659,\n",
            "        -0.50458896,  0.1644027 ,  0.11583091,  0.3667879 , -0.16686036,\n",
            "        -0.4336349 , -0.17470859,  0.57558274,  0.33613896, -0.3172789 ,\n",
            "         0.10809432,  0.19746934, -0.10580697, -0.17105506,  0.22659276,\n",
            "        -0.12105503, -0.4066554 , -0.23523952, -0.16884224, -0.05507449,\n",
            "         0.26865104,  0.14290798,  0.19301857,  0.19090916, -0.19836219,\n",
            "        -0.12285282, -0.12664923,  0.06950495,  0.3103272 , -0.04528724,\n",
            "         0.74226004, -0.22385977,  0.24980047, -0.45618626, -0.13096328,\n",
            "         0.36582702, -0.15952589,  0.26448813,  0.89488935,  0.17346358,\n",
            "        -0.20882787,  0.18839955,  0.19629245,  0.23744361, -0.14788683,\n",
            "        -0.0138278 , -0.56272674,  0.62372667,  0.15402536,  0.05887984,\n",
            "        -0.99998444,  0.1515349 ,  0.16248351,  0.46758735,  0.26257312,\n",
            "         0.22329216,  0.08521714,  0.21060117,  0.8207374 , -0.34074637,\n",
            "        -0.36313245, -0.30720887, -0.20767273, -0.4912554 , -0.19929793,\n",
            "        -0.11529712, -0.24285726, -0.07102514, -0.00764845, -0.08959517,\n",
            "         0.1671369 ,  0.31336638, -0.9728311 ,  0.7813901 ,  0.16532749,\n",
            "        -0.06722888, -0.00432475,  0.2783819 , -0.9999855 ,  0.2799525 ,\n",
            "        -0.05082904, -0.14949936,  0.26635653, -0.42327946, -0.23430729,\n",
            "         0.1772348 ,  0.43671116,  0.26923454,  0.2625476 ,  0.26389462,\n",
            "         0.44254023, -0.12421029,  0.06137368,  0.1692887 , -0.06226459,\n",
            "         0.50127405,  0.03208344,  0.07038097,  0.3664622 , -0.15819807,\n",
            "         0.28732154, -0.07258389,  0.28386194,  0.36464706,  0.08507951,\n",
            "         0.13552311, -0.2551335 ,  0.2573839 , -0.6732215 ,  0.0480192 ,\n",
            "        -0.25611436, -0.09197341, -0.06855584,  0.10372074, -0.12070605,\n",
            "        -0.32020426,  0.09339134, -0.18827306,  0.99998724,  0.23770912,\n",
            "        -0.11039474, -0.36407846,  0.60350174,  0.38086376, -0.19675888,\n",
            "        -0.5507619 , -0.15454376,  0.5758996 ,  0.3541546 ,  0.25632265,\n",
            "         0.07222614, -0.09279234,  0.21038696, -0.2368035 , -0.13632381,\n",
            "         0.08825435, -0.37756976,  0.21939966, -0.11911331, -0.2294221 ,\n",
            "         0.1992355 , -0.10525559, -0.13297734, -0.74937254,  0.26748598,\n",
            "         0.08229565,  0.11621219,  0.18570659,  0.22679205, -0.2964073 ,\n",
            "         0.5193764 ,  0.3250995 , -0.20612054, -0.35330448, -0.30367786,\n",
            "        -0.30717212, -0.06812316, -0.29418284, -0.2972102 ,  0.13088575,\n",
            "        -0.602966  ,  0.11374373,  0.02738595, -0.17504483, -0.268013  ,\n",
            "         0.28861964, -0.999989  , -0.24024469,  0.21860802, -0.33333555,\n",
            "         0.19612302, -0.3928602 , -0.23199861,  0.23300327,  0.20822127,\n",
            "        -0.02044431,  0.0039045 , -0.3781687 ,  0.1128334 , -0.0924137 ,\n",
            "         0.08266841,  0.801714  ,  0.41705382,  0.12097165, -0.23572004,\n",
            "         0.0805043 , -0.5183028 , -0.11076853,  0.14667118,  0.2374932 ,\n",
            "        -0.21113966,  0.19556822,  0.10593133,  0.14596677, -0.07577449,\n",
            "         0.24407572, -0.17559043, -0.12100147,  0.24076723,  0.04977656,\n",
            "        -0.18407154, -0.13631624,  0.2530054 , -0.4105658 ,  0.22030985,\n",
            "         0.06844499,  0.2937085 ,  0.15820017,  0.28058875, -0.22193162,\n",
            "         0.00147453, -0.10323745, -0.04097252, -0.23642841, -0.18251081,\n",
            "        -0.1065336 ,  0.9999876 ,  0.35018888,  0.40003303, -0.32014328,\n",
            "         0.13358885,  0.1994749 , -0.359436  ,  0.159598  ,  0.19656584,\n",
            "         0.23033817, -0.2002267 ,  0.02254284,  0.0533751 ,  0.3283855 ,\n",
            "         0.2913559 ,  0.10178182,  0.40174347, -0.1985984 ,  0.60006124,\n",
            "        -0.11190743, -0.33091465, -0.9724219 ,  0.12298226,  0.19479805,\n",
            "        -0.31411684, -0.40885267,  0.06335936, -0.27536467,  0.0694645 ,\n",
            "        -0.01135688,  0.18243617,  0.11206473, -0.07024113,  0.25351712,\n",
            "        -0.2962302 ,  0.9999874 , -0.0966216 ,  0.11582557,  0.26493782,\n",
            "         0.18150197, -0.18930712, -0.02619475, -0.074867  ,  0.3014734 ,\n",
            "        -0.09069552,  0.15354612, -0.88246465,  0.19738647,  0.05238445,\n",
            "         0.3269051 , -0.15079375,  0.16666971, -0.30966365,  0.22185008,\n",
            "        -0.07934596, -0.12990654, -0.28168228,  0.22770008, -0.3425583 ,\n",
            "         0.4302314 , -0.16272075,  0.15080151, -0.29925993,  0.25192222,\n",
            "        -0.12154683,  0.25302163, -0.11053551,  0.25634474, -0.10383511,\n",
            "        -0.30948496, -0.32902226,  0.11701312, -0.416589  ,  0.99998677,\n",
            "        -0.08439645,  0.09367781, -0.18193106,  0.17715263, -0.22264381,\n",
            "         0.31705064,  0.58123803, -0.32207632,  0.21783635,  0.26921067,\n",
            "        -0.5147018 ,  0.1526358 , -0.07250395, -0.6872009 , -0.25161964,\n",
            "         0.9072695 ,  0.15630528,  0.4088658 ,  0.19831188,  0.1238008 ,\n",
            "         0.03442975, -0.15300089,  0.24482839,  0.79762733,  0.22282954,\n",
            "         0.22279365,  0.20259409,  0.0040839 , -0.23096098, -0.11891899,\n",
            "         0.9999848 ,  0.9999843 ,  0.07806823,  0.41654244, -0.29286668,\n",
            "        -0.28344223, -0.17747705,  0.2159048 ,  0.22796795,  0.25619683,\n",
            "        -0.16872531, -0.0894512 , -0.26588124, -0.24764022, -0.14058454,\n",
            "        -0.12931897, -0.20724452,  0.13358578, -0.22219859,  0.41451958,\n",
            "         0.36740214,  0.00585786,  0.40634087,  0.22774197,  0.06651971,\n",
            "        -0.06876257, -0.23319653,  0.46355474, -0.17159335, -0.0884221 ,\n",
            "        -0.3214538 ,  0.0321693 , -0.99998075, -0.17823122, -0.29201546,\n",
            "        -0.19391909,  0.43389043,  0.22508106,  0.11719789, -0.3110008 ,\n",
            "        -0.05733541, -0.22572012,  0.28040773,  0.10240889, -0.03934113,\n",
            "        -0.11397199, -0.38983333,  0.4103473 , -0.38885483,  0.20040865,\n",
            "        -0.23743634, -0.24477741, -0.55221736, -0.17495239, -0.24742806,\n",
            "         0.24161889, -0.21726355, -0.19900344,  0.18841551,  0.29228047,\n",
            "         0.24242526, -0.21749859,  0.3492984 , -0.32990992,  0.10182428,\n",
            "         0.2931386 ,  0.23093177,  0.20872092, -0.29058686, -0.286276  ,\n",
            "        -0.11197598, -0.16615538, -0.20999092,  0.3229433 , -0.27574888,\n",
            "         0.2652925 , -0.07542387,  0.19347475, -0.26192072,  0.07527652,\n",
            "         0.2511332 ,  0.427633  , -0.27975476,  0.4013632 ,  0.218311  ,\n",
            "        -0.12230741,  0.40176117, -0.03221956, -0.24969801, -0.16555807,\n",
            "         0.99998885,  0.44394702,  0.2421346 ,  0.18314725, -0.15278593,\n",
            "         0.31293043,  0.1629801 ,  0.4275122 , -0.40619376,  0.7443151 ,\n",
            "        -0.21982032,  0.20447162,  0.05369847,  0.27041483,  0.01171075,\n",
            "         0.21632305,  0.351659  ,  0.6895466 ,  0.11637004,  0.14976798,\n",
            "         0.16637251,  0.2601424 ,  0.28394493,  0.3188559 ,  0.24261542,\n",
            "         0.35311997,  0.37101915, -0.1539602 ,  0.18452008,  0.00943711,\n",
            "        -0.17233734, -0.06490244, -0.15054499, -0.21573675,  0.20302498,\n",
            "        -0.23101088, -0.19715564, -0.12501952,  0.38342512, -0.23397428,\n",
            "         0.29771566, -0.1492366 , -0.3645547 ,  0.5364872 , -0.3931308 ,\n",
            "         0.10538925, -0.17958649,  0.11473594, -0.7356784 ,  0.02463754,\n",
            "        -0.19101559, -0.49034578, -0.18266831, -0.4166937 ,  0.17487727,\n",
            "         0.21368013, -0.05847037,  0.23686159, -0.20667629,  0.2647897 ,\n",
            "        -0.17719242, -0.14374803,  0.14514227, -0.99998796,  0.02852355,\n",
            "         0.0856948 , -0.21936439,  0.11582783,  0.07985752,  0.21785751,\n",
            "         0.16434234, -0.23990144, -0.18497701, -0.01892193,  0.20262375,\n",
            "        -0.27580985,  0.01353155,  0.17490113, -0.36191005, -0.25757015,\n",
            "         0.01111374, -0.09126335,  0.17004208,  0.28724495, -0.2717582 ,\n",
            "         0.15231206, -0.30123436,  0.25435102, -0.07980824,  0.25223738,\n",
            "        -0.24300334, -0.20408154,  0.28960598, -0.42646614, -0.30784214,\n",
            "        -0.18931301,  0.08753522, -0.09628374,  0.04968998,  0.08904836,\n",
            "        -0.16971639,  0.3685835 , -0.11618015,  0.26065573, -0.27912405,\n",
            "         0.25341743, -0.7259753 , -0.30252108, -0.23771799, -0.19329454,\n",
            "         0.317074  ,  0.2744068 ,  0.0751178 ,  0.20567761, -0.08300208,\n",
            "         0.1779926 , -0.11622905,  0.08164931,  0.24501684, -0.14514706,\n",
            "         0.08913749, -0.14130296,  0.37284744, -0.33671522,  0.13173608,\n",
            "        -0.9678071 , -0.24601614,  0.12715209,  0.3203416 ,  0.34080395,\n",
            "        -0.22942635, -0.08909457, -0.22619489, -0.07071286,  0.14493607,\n",
            "         0.31539366,  0.2486999 ,  0.1072394 ,  0.25737807, -0.15506083,\n",
            "        -0.07636297,  0.5801629 , -0.30703995,  0.04130704,  0.37944925,\n",
            "         0.14497125,  0.7452645 ,  0.2831058 ,  0.24065055,  0.1979634 ,\n",
            "        -0.3486825 ,  0.24804878,  0.2646354 ]], dtype=float32)>, past_key_values=None, hidden_states=None, attentions=None, cross_attentions=None)\n"
          ]
        }
      ]
    },
    {
      "cell_type": "code",
      "source": [
        "encoded_input['input_ids']"
      ],
      "metadata": {
        "id": "SrwjN0GImcrT",
        "colab": {
          "base_uri": "https://localhost:8080/"
        },
        "outputId": "ec79e122-b4b7-4f10-b3d3-4eb984fca3ad"
      },
      "execution_count": null,
      "outputs": [
        {
          "output_type": "execute_result",
          "data": {
            "text/plain": [
              "<tf.Tensor: shape=(1, 9), dtype=int32, numpy=\n",
              "array([[  101,   177, 21528, 10114, 11783, 24538, 10136, 20732,   102]],\n",
              "      dtype=int32)>"
            ]
          },
          "metadata": {},
          "execution_count": 49
        }
      ]
    },
    {
      "cell_type": "code",
      "source": [
        "encoded_input['token_type_ids']"
      ],
      "metadata": {
        "colab": {
          "base_uri": "https://localhost:8080/"
        },
        "id": "uVmJ_O-Os-hk",
        "outputId": "391dcd2b-9fdd-4db5-e44e-4c49dcaefa47"
      },
      "execution_count": null,
      "outputs": [
        {
          "output_type": "execute_result",
          "data": {
            "text/plain": [
              "<tf.Tensor: shape=(1, 9), dtype=int32, numpy=array([[0, 0, 0, 0, 0, 0, 0, 0, 0]], dtype=int32)>"
            ]
          },
          "metadata": {},
          "execution_count": 50
        }
      ]
    },
    {
      "cell_type": "code",
      "source": [
        "encoded_input['attention_mask']"
      ],
      "metadata": {
        "colab": {
          "base_uri": "https://localhost:8080/"
        },
        "id": "bOY89JKXtI1y",
        "outputId": "7f60cba4-9250-4458-e47b-708190c701b5"
      },
      "execution_count": null,
      "outputs": [
        {
          "output_type": "execute_result",
          "data": {
            "text/plain": [
              "<tf.Tensor: shape=(1, 9), dtype=int32, numpy=array([[1, 1, 1, 1, 1, 1, 1, 1, 1]], dtype=int32)>"
            ]
          },
          "metadata": {},
          "execution_count": 51
        }
      ]
    },
    {
      "cell_type": "code",
      "source": [
        "output[\"last_hidden_state\"]"
      ],
      "metadata": {
        "colab": {
          "base_uri": "https://localhost:8080/"
        },
        "id": "YKWfoNOTaMKX",
        "outputId": "72460dd7-2ed0-4c3e-eec1-901b7bfadcba"
      },
      "execution_count": null,
      "outputs": [
        {
          "output_type": "execute_result",
          "data": {
            "text/plain": [
              "<tf.Tensor: shape=(1, 9, 768), dtype=float32, numpy=\n",
              "array([[[-0.0801831 ,  0.03810783,  0.27046812, ...,  0.39124072,\n",
              "         -0.11388044, -0.04561077],\n",
              "        [-0.13535482, -0.61088157,  0.83754325, ...,  0.6064948 ,\n",
              "         -0.36229783,  0.06997249],\n",
              "        [-0.9340398 , -0.27897775,  0.34910437, ...,  1.0008146 ,\n",
              "         -0.27053565,  0.39220393],\n",
              "        ...,\n",
              "        [-0.64944226,  0.01610355,  0.06948492, ...,  0.9110723 ,\n",
              "         -0.3397322 , -0.44170964],\n",
              "        [-0.43947974,  0.11158036,  0.09911749, ...,  0.7545632 ,\n",
              "          0.0909415 , -0.18004197],\n",
              "        [-0.285816  , -0.20664008,  1.011271  , ...,  0.43730527,\n",
              "         -0.19045143,  0.07825344]]], dtype=float32)>"
            ]
          },
          "metadata": {},
          "execution_count": 52
        }
      ]
    },
    {
      "cell_type": "code",
      "source": [
        "output[\"last_hidden_state\"][-1][-1]"
      ],
      "metadata": {
        "colab": {
          "base_uri": "https://localhost:8080/"
        },
        "id": "M_yIv5FsZokb",
        "outputId": "b6ad7e58-0462-458e-8be8-73737a838ad2"
      },
      "execution_count": null,
      "outputs": [
        {
          "output_type": "execute_result",
          "data": {
            "text/plain": [
              "<tf.Tensor: shape=(768,), dtype=float32, numpy=\n",
              "array([-2.85816014e-01, -2.06640080e-01,  1.01127100e+00,  1.69525176e-01,\n",
              "        4.14485633e-01,  4.47487175e-01, -8.07733178e-01, -3.04685310e-02,\n",
              "        6.30859196e-01,  1.63276196e-01,  4.42684628e-02,  2.33403414e-01,\n",
              "        2.33043224e-01,  9.90195721e-02,  7.55262300e-02, -3.19861114e-01,\n",
              "        1.78901434e-01,  1.21485806e+00,  4.84490991e-02,  3.46210748e-01,\n",
              "        1.32622540e-01, -1.11739404e-01, -6.08280838e-01, -8.09180886e-02,\n",
              "        6.48078442e-01, -8.46020579e-02, -6.56183600e-01,  5.01036942e-01,\n",
              "       -3.52555335e-01, -1.67581841e-01,  1.31201386e-01,  1.03604302e-01,\n",
              "        6.91107363e-02, -2.77195930e-01,  3.67443085e-01,  1.57708913e-01,\n",
              "       -2.31118336e-01, -2.12883919e-01, -2.05561489e-01, -3.60636055e-01,\n",
              "       -5.36699593e-01,  3.67783636e-01,  5.39841056e-02,  1.12445541e-02,\n",
              "        8.39076579e-01, -2.81842649e-01,  3.12413156e-01,  2.32986987e-01,\n",
              "        4.03369904e-01, -6.85853839e-01,  4.51510876e-01, -2.10318848e-01,\n",
              "        2.84557879e-01,  2.58255869e-01, -5.63610137e-01,  4.21300948e-01,\n",
              "        9.46423188e-02,  1.32348444e-02, -4.05708820e-01,  1.88809216e-01,\n",
              "       -1.44207045e-01,  3.87139052e-01,  2.44498104e-01, -1.04778320e-01,\n",
              "       -3.45820248e-01,  4.68845695e-01,  2.78002918e-01,  2.04301015e-01,\n",
              "       -2.18669340e-01,  4.27456319e-01, -2.19885975e-01,  5.75292259e-02,\n",
              "       -1.26908958e-01, -5.16487360e-02, -1.53261632e-01,  2.24426523e-01,\n",
              "        8.11321199e-01, -4.95804548e-01, -4.01497275e-01, -9.19825360e-02,\n",
              "        4.68911290e-01,  4.82408196e-01,  3.94808203e-02, -2.93489546e-03,\n",
              "       -2.83888727e-01, -1.36572406e-01,  2.09817693e-01, -5.48421979e-01,\n",
              "       -2.05540657e-02, -3.32252026e-01, -1.12188365e-02, -1.91230446e-01,\n",
              "       -4.45192009e-02,  1.93768740e-03, -4.50222492e-01,  1.92824915e-01,\n",
              "        1.98964030e-01,  2.95937270e-01, -2.32716396e-01, -3.54259402e-01,\n",
              "        2.01173685e-02,  4.12118196e-01,  9.03980315e-01, -3.57013077e-01,\n",
              "        2.49629587e-01,  9.73813385e-02, -9.96097922e-02,  2.35421449e-01,\n",
              "        7.02706099e-01,  1.75871134e-01,  4.19463396e-01,  3.82103860e-01,\n",
              "        3.19059312e-01, -3.64236891e-01,  4.62170720e-01, -6.67077541e-01,\n",
              "       -2.44159564e-01, -1.53169334e-01, -4.35915649e-01, -5.49264014e-01,\n",
              "        5.13580322e-01,  2.19663411e-01, -1.22415617e-01, -4.19830829e-02,\n",
              "        4.54382859e-02, -2.06553131e-01, -3.21208179e-01,  1.52795553e-01,\n",
              "        5.17704368e-01,  1.17602460e-01,  3.49385560e-01, -1.59361549e-02,\n",
              "        1.08301863e-01, -4.14139986e-01,  6.79191470e-01, -1.98098868e-01,\n",
              "        1.61974803e-01,  2.56566465e-01, -6.25634342e-02,  5.97929478e-01,\n",
              "        2.69412875e-01, -8.55486840e-03,  3.65313768e-01, -7.47420251e-01,\n",
              "       -3.57180417e-01,  7.44899064e-02, -4.90381330e-01,  6.62856698e-01,\n",
              "       -4.24646944e-01, -6.03128910e-01,  1.73317209e-01, -4.63161945e-01,\n",
              "       -1.69517875e-01,  3.93769592e-01, -7.85244256e-02, -6.84221834e-02,\n",
              "       -8.78732726e-02,  5.67883439e-02, -8.84527683e-01,  8.60206127e-01,\n",
              "        8.19394737e-02,  1.28018260e-01, -2.17226833e-01,  1.17579675e+00,\n",
              "       -2.43896544e-02,  4.35458809e-01, -1.81569651e-01, -3.39139640e-01,\n",
              "       -2.71363497e-01,  2.69403636e-01,  1.20889515e-01, -6.05949536e-02,\n",
              "        1.95134729e-01, -1.57936782e-01, -5.31452484e-02,  2.13355824e-01,\n",
              "       -4.16825414e-01, -2.24935114e-02, -6.04171515e-01, -1.66436851e-01,\n",
              "        7.80298039e-02,  1.27279207e-01,  3.20868671e-01, -4.38308626e-01,\n",
              "       -1.30322963e-01,  6.23460189e-02,  5.72400153e-01, -6.66642427e-01,\n",
              "        4.00330245e-01, -3.18447262e-01,  4.57220599e-02, -8.70797187e-02,\n",
              "        5.41860342e-01,  5.25675535e-01,  1.49866849e-01,  3.60416800e-01,\n",
              "        3.08892876e-01,  5.72001562e-03,  5.60817271e-02,  3.13636214e-01,\n",
              "        5.11407629e-02,  3.45627069e-01,  3.72931153e-01,  1.17385909e-01,\n",
              "       -2.74848253e-01,  8.41779768e-01, -5.43144494e-02, -3.26077044e-01,\n",
              "        2.78972000e-01,  6.49879992e-01, -3.08778375e-01,  1.39830366e-01,\n",
              "       -4.99592364e-01,  3.81206632e-01,  5.46358407e-01,  1.38149679e-01,\n",
              "        2.72831887e-01,  1.56108245e-01,  1.59385487e-01,  7.32686341e-01,\n",
              "        6.05927743e-02,  5.40769100e-02,  6.71959817e-02,  3.29531878e-01,\n",
              "       -3.80939841e-01,  5.70557918e-03, -1.67265117e-01, -4.39212322e-02,\n",
              "        1.87274575e-01, -4.70083058e-02,  6.19620681e-01, -1.03310585e-01,\n",
              "        1.30680412e-01,  6.30404055e-02, -1.35994583e-01, -2.62013316e-01,\n",
              "        5.86318552e-01, -4.32818234e-01, -5.10477483e-01, -9.56841558e-02,\n",
              "        1.64153427e-01,  4.44056988e-01,  1.27369016e-01,  1.78020701e-01,\n",
              "        4.76168305e-01,  2.03438997e-01, -3.77374470e-01, -1.10471629e-01,\n",
              "        2.81329304e-01, -1.26291692e-01,  1.07341677e-01, -2.83406198e-01,\n",
              "       -2.34891623e-01, -9.06383693e-01, -1.89784631e-01,  3.76104414e-01,\n",
              "        1.31106883e-01, -4.41240996e-01,  6.49642587e-01, -3.18239868e-01,\n",
              "        1.97111458e-01,  5.92044927e-02, -9.19915318e-01,  3.59331965e-01,\n",
              "        2.38291115e-01,  3.71294618e-02,  1.77036911e-01,  3.23552519e-01,\n",
              "        1.03888847e-01,  4.77386266e-02, -3.59365016e-01, -2.33725756e-02,\n",
              "       -7.12817907e-03, -1.45022362e-01,  6.20605722e-02,  7.50772834e-01,\n",
              "       -8.59633684e-02,  5.27193367e-01,  9.71226022e-02,  3.26107442e-02,\n",
              "       -3.32436323e-01, -9.65549797e-02,  6.45876378e-02,  6.31062165e-02,\n",
              "        1.94391325e-01,  6.59416616e-02, -4.48928416e-01, -4.42695856e-01,\n",
              "        6.76456571e-01, -4.45428252e-01, -1.59397908e-02, -4.66791987e-01,\n",
              "       -4.57705885e-01, -3.76626432e-01, -6.01714700e-02, -7.09636450e-01,\n",
              "       -1.37758955e-01,  1.67053025e-02,  4.14628267e-01,  6.14049509e-02,\n",
              "        1.82371289e-02,  1.34255663e-02,  4.27764177e-01,  2.68416822e-01,\n",
              "       -5.30354023e-01,  2.98982054e-01,  7.67687708e-02,  3.96752477e-01,\n",
              "        7.06507504e-01,  2.15185702e-01, -5.69128692e-01,  1.65979996e-01,\n",
              "       -2.00982422e-01, -5.16050696e-01, -5.74900210e-01,  6.94389641e-03,\n",
              "        2.43657053e-01,  9.54559743e-02, -3.38462889e-01,  3.60025644e-01,\n",
              "       -4.26431119e-01, -2.23152637e-02,  3.35906655e-01,  3.34956050e-01,\n",
              "        6.89531922e-01, -5.78617603e-02, -6.96334064e-01,  1.45707607e-01,\n",
              "        5.85923083e-02, -4.19518709e-01, -1.52045088e-02,  1.12363207e+00,\n",
              "       -1.59252793e-01, -4.39666331e-01, -9.53890383e-02,  2.03922898e-01,\n",
              "       -6.79944277e-01, -2.35162884e-01,  1.11788567e-02, -2.49766469e-01,\n",
              "        3.94428611e-01, -1.11095503e-01,  7.98156977e-01, -8.71082395e-03,\n",
              "        3.08948427e-01, -7.05546215e-02,  2.52335191e-01, -9.25362706e-01,\n",
              "        4.50949699e-01,  3.89005184e-01,  3.40767622e-01,  4.09752280e-01,\n",
              "        1.16664030e-01, -2.48010963e-01,  3.13341320e-01,  2.85425484e-02,\n",
              "       -3.50882888e-01, -1.16871551e-01, -2.20195055e-01,  2.36313120e-01,\n",
              "       -2.56663471e-01,  5.98741770e-01,  2.61334568e-01, -1.20855063e-01,\n",
              "       -1.48609981e-01, -4.47836518e-02, -1.13649920e-01, -5.77469528e-01,\n",
              "        1.12387918e-01,  5.82270145e-01,  2.37785339e-01,  8.46617997e-01,\n",
              "        3.17186654e-01, -1.03964007e+00,  1.17253676e-01, -4.76830713e-02,\n",
              "        1.63087949e-01, -1.39188364e-01, -1.80286139e-01,  2.00927436e-01,\n",
              "        1.94118410e-01, -8.54068175e-02,  4.92367595e-01,  4.12422121e-01,\n",
              "       -1.58446044e-01, -4.36132818e-01, -2.36982763e-01, -3.22809428e-01,\n",
              "       -4.75310415e-01, -3.42006892e-01, -1.75786942e-01,  1.24056198e-01,\n",
              "       -6.60768807e-01, -4.16538745e-01, -1.35152161e-01, -4.60847914e-02,\n",
              "       -3.62289399e-02, -5.08158803e-01,  3.02726865e-01, -1.20898776e-01,\n",
              "        1.29482418e-01,  6.86049461e-05,  2.52349854e-01,  5.51285803e-01,\n",
              "       -1.95860729e-01,  6.47259831e-01,  4.93434459e-01,  5.36372304e-01,\n",
              "       -2.36729741e-01, -5.30318201e-01,  5.69343150e-01, -4.21287179e-01,\n",
              "        6.04071200e-01,  2.49169305e-01, -6.25003055e-02,  5.29597342e-01,\n",
              "        6.90572113e-02,  2.94274330e-01,  1.85477644e-01,  8.70893747e-02,\n",
              "        2.42106706e-01, -1.81197345e-01,  2.09177256e-01, -2.62410194e-01,\n",
              "       -4.21385728e-02,  4.97217953e-01, -7.18235373e-02, -1.42972156e-01,\n",
              "        2.41115496e-01, -1.36599928e-01, -2.86010712e-01,  2.45658338e-01,\n",
              "        1.78141207e-01, -3.23620558e-01,  2.84671783e-04, -3.30172122e-01,\n",
              "       -7.60148466e-01,  3.45204830e-01, -2.41937965e-01, -2.46228933e-01,\n",
              "        5.55310726e-01,  1.00405455e-01, -2.77250469e-01, -4.09297168e-01,\n",
              "       -8.71887505e-02, -1.73547670e-01,  2.45168731e-01, -4.76635434e-02,\n",
              "        3.78547087e-02,  1.43223196e-01,  6.56522810e-01, -7.09633350e-01,\n",
              "        2.67187804e-01, -2.57690877e-01, -1.78659081e-01,  9.92665291e-02,\n",
              "       -2.88079053e-01, -7.80299306e-03,  7.48426840e-03,  4.30483401e-01,\n",
              "       -1.25212580e-01,  4.38182503e-02,  8.03192034e-02, -3.14659864e-01,\n",
              "        9.84101743e-02, -6.69232190e-01,  2.95109570e-01, -1.06098995e-01,\n",
              "       -6.66113853e-01,  5.42845428e-01, -1.68367222e-01, -2.57126302e-01,\n",
              "       -1.81225598e-01, -6.88810766e-01, -7.90517211e-01, -5.73376864e-02,\n",
              "        3.17683995e-01,  9.50790346e-02, -3.14332277e-01, -2.22909331e-01,\n",
              "        1.93632886e-01, -1.35151193e-01, -1.47720188e-01, -3.16717803e-01,\n",
              "       -1.38223767e-01,  2.61771739e-01,  1.63825661e-01, -1.67614639e-01,\n",
              "       -1.90041453e-01,  3.02418083e-01,  4.73224610e-01,  1.76332355e-01,\n",
              "       -1.56253055e-01, -8.95073831e-01, -3.05069447e-01,  2.58753300e-01,\n",
              "        4.39184457e-01,  5.08795500e-01, -1.66541219e-01,  6.26367331e-02,\n",
              "        9.86550152e-02,  1.37590766e-01,  4.70214970e-02,  2.39685461e-01,\n",
              "       -2.80978918e-01,  1.09004378e-02, -4.43042189e-01,  3.07913005e-01,\n",
              "       -4.83941227e-01,  9.15616751e-04,  4.99923140e-01, -8.17624867e-01,\n",
              "       -2.93857098e-01,  4.63313937e-01, -5.06011732e-02,  6.14790805e-03,\n",
              "        1.36105806e-01, -2.95474529e-02, -2.34592240e-02, -2.64125168e-02,\n",
              "        8.10874581e-01,  5.14767691e-02, -6.64942414e-02, -3.65823567e-01,\n",
              "       -4.21175838e-01,  6.34000599e-02, -6.82030320e-01, -7.74077475e-01,\n",
              "        2.64785260e-01,  1.56100571e-01, -2.54985690e-01, -3.67181540e-01,\n",
              "        3.62849504e-01, -4.00209337e-01, -2.35196084e-01, -2.16208905e-01,\n",
              "       -4.08104658e-01, -7.52452090e-02, -2.86137871e-02, -1.78851962e-01,\n",
              "       -3.93949077e-02, -4.18641627e-01, -2.67352641e-01,  1.61864936e-01,\n",
              "       -1.12993181e-01,  7.41495013e-01, -9.99383479e-02,  7.19415396e-03,\n",
              "        1.38307720e-01, -1.41391143e-01,  1.15504116e-02,  5.54997087e-01,\n",
              "        1.90380767e-01, -1.29043460e-01,  6.04736470e-02, -5.96010983e-02,\n",
              "        1.00561082e-01, -2.84037858e-01, -3.73124331e-01, -1.60772249e-01,\n",
              "        3.38832200e-01,  1.05463684e-01,  1.87083423e-01, -2.91792452e-01,\n",
              "        5.30131102e-01, -1.53511047e-01, -2.43731320e-01,  5.79493821e-01,\n",
              "       -4.48026747e-01, -5.64985514e-01, -1.76453650e-01,  9.27974463e-01,\n",
              "       -3.83208781e-01, -3.44717503e-01,  9.64852631e-01, -2.68157154e-01,\n",
              "        4.52101082e-02, -2.97783613e-02,  1.80308640e-01,  1.23893708e-01,\n",
              "        4.11581427e-01, -2.45346203e-01, -4.82725471e-01,  1.74866170e-02,\n",
              "       -3.17304790e-01,  1.64379060e-01, -1.28541678e-01,  1.21512115e-01,\n",
              "        2.31435001e-02, -6.09168649e-01,  3.24698269e-01, -1.67121202e-01,\n",
              "        5.18700600e-01,  2.44335741e-01,  3.96151304e-01,  5.70004344e-01,\n",
              "        1.25744581e-01, -2.79412955e-01,  1.09607451e-01, -3.76889259e-02,\n",
              "        7.73679256e-01,  1.46494314e-01,  7.47731254e-02, -2.06387535e-01,\n",
              "       -5.69466233e-01, -7.28281885e-02,  4.70534228e-02,  5.60408652e-01,\n",
              "       -3.97506475e-01, -2.75590241e-01,  3.08578730e-01,  3.62201482e-01,\n",
              "        1.27736315e-01,  1.21515900e-01,  2.86970079e-01, -6.33757859e-02,\n",
              "       -1.10089946e+00, -3.12928826e-01,  3.84608984e-01,  9.62480754e-02,\n",
              "        6.39833331e-01,  1.61126018e-01, -5.12563348e-01, -1.01031110e-01,\n",
              "       -1.78194791e-01, -4.02538806e-01, -1.11376330e-01, -2.30566666e-01,\n",
              "        1.55033872e-01, -4.26173270e-01, -4.11963582e-01, -9.98285264e-02,\n",
              "        4.64542091e-01,  1.11154601e-01,  6.71861887e-01, -1.09924257e-01,\n",
              "       -3.71593267e-01, -5.68120360e-01, -1.51594162e-01,  3.51967037e-01,\n",
              "       -2.53997184e-03, -2.27937371e-01,  5.07026389e-02, -3.27710986e-01,\n",
              "       -2.11561814e-01, -3.54315162e-01, -5.59670210e-01,  4.68993783e-01,\n",
              "        1.11513391e-01,  4.11674380e-01,  6.68358803e-01,  9.91537273e-02,\n",
              "        6.00885004e-02, -2.15515390e-01, -3.66470754e-01,  1.28733784e-01,\n",
              "       -1.03945121e-01, -2.42616162e-01, -3.02589089e-02,  1.68920934e-01,\n",
              "        5.39802253e-01,  1.55235633e-01, -5.85147738e-02,  2.52358139e-01,\n",
              "       -4.31718469e-01,  1.10532247e-01,  2.45176852e-02, -1.37205079e-01,\n",
              "       -5.78830391e-02, -2.26015985e-01,  4.74803358e-01,  1.05264693e-01,\n",
              "        4.38713908e-01,  8.06266442e-02, -1.55077502e-02, -2.39286453e-01,\n",
              "       -2.95301765e-01,  5.44720113e-01,  4.09555256e-01, -4.23218429e-01,\n",
              "       -1.32793456e-01,  1.12116903e-01, -4.12389636e-01,  7.78916329e-02,\n",
              "        5.81267774e-02, -2.83251613e-01, -6.00816607e-01,  2.77925223e-01,\n",
              "        8.91803354e-02,  4.46160704e-01,  3.34344625e-01,  1.47307783e-01,\n",
              "       -1.77429765e-02, -1.98334053e-01, -2.32896805e-01, -1.27014086e-01,\n",
              "       -7.22842366e-02,  2.81922132e-01,  2.67958105e-01, -3.55866700e-01,\n",
              "        4.27255109e-02, -6.10264897e-01, -1.36279613e-01, -1.20306961e-01,\n",
              "       -5.20313382e-01, -8.24899524e-02, -1.09901935e-01, -4.46082979e-01,\n",
              "       -3.24514508e-01, -1.89207748e-01,  3.25707763e-01,  4.87749994e-01,\n",
              "       -1.17498837e-01,  3.49850714e-01, -1.73081517e-01,  3.74769568e-02,\n",
              "        8.04480016e-02, -3.46427023e-01, -1.87402606e-01,  1.78140000e-01,\n",
              "        3.09378356e-01,  3.36175621e-01, -8.75707716e-02,  2.53735602e-01,\n",
              "       -2.88125902e-01,  1.33395031e-01, -1.73565701e-01, -1.13275647e-01,\n",
              "       -5.21813706e-02, -1.64722264e-01,  3.27756554e-02, -1.94929004e+00,\n",
              "       -4.58866805e-01,  3.07324305e-02, -4.65006858e-01, -2.12245971e-01,\n",
              "       -2.93509722e-01,  5.78222036e-01, -1.23930797e-01,  2.66766667e-01,\n",
              "        1.39501631e-01, -1.96275398e-01, -3.17313313e-01, -1.61551833e-01,\n",
              "        3.02685611e-02, -2.97903091e-01, -7.86186278e-01, -2.18155637e-01,\n",
              "       -4.89708543e-01, -7.15894639e-01,  2.80782193e-01, -5.84632277e-01,\n",
              "       -1.39306746e-02, -1.21601880e-01, -4.28091526e-01,  8.85992348e-02,\n",
              "        3.25245082e-01,  4.68613580e-02,  2.92554468e-01,  5.31755328e-01,\n",
              "       -6.81952059e-01, -4.36719716e-01,  4.81319904e-01,  1.81273118e-01,\n",
              "        2.98608124e-01,  4.37305272e-01, -1.90451428e-01,  7.82534406e-02],\n",
              "      dtype=float32)>"
            ]
          },
          "metadata": {},
          "execution_count": 53
        }
      ]
    },
    {
      "cell_type": "markdown",
      "source": [
        "**batch_size** -  number of data points sampled to calculate the gradient on each iteration\n",
        "\n",
        "large vs small batch size performance table2 https://arxiv.org/pdf/1609.04836.pdf\n",
        "\n",
        "**sequence_length** -  number of tokens (words) in a sentence. causes the layer to pad or truncate sequences to exactly sequence_length values. how to handle variable-length inputs (sentences of different lengths)?\n",
        "\n",
        "**hidden_size** (int, optional, defaults to 768) — Dimensionality of the encoder layers and the pooler layer.\n",
        "\n",
        "**last_hidden_state** (tf.Tensor of shape (batch_size, sequence_length, hidden_size)) — Sequence of hidden-states at the output of the last layer of the model.\n",
        "\n",
        "\n",
        "**pooler_output** (tf.Tensor of shape (batch_size, hidden_size)) — Last layer hidden-state of the first token of the sequence (classification token) further processed by a Linear layer and a Tanh activation function. The Linear layer weights are trained from the next sentence prediction (classification) objective during pretraining.\n",
        "\n",
        "This output is usually not a good summary of the semantic content of the input, you’re often better with averaging or pooling the sequence of hidden-states for the whole input sequence.\n",
        "\n",
        "https://huggingface.co/docs/transformers/main_classes/output#transformers.modeling_outputs.BaseModelOutputWithPooling"
      ],
      "metadata": {
        "id": "2Gp4Go7dYfLs"
      }
    },
    {
      "cell_type": "code",
      "source": [
        "# which one (last_hidden_state or pooler_output) should be passed to classifier?\n",
        "# i guess try both and see how it works\n",
        "output"
      ],
      "metadata": {
        "colab": {
          "base_uri": "https://localhost:8080/"
        },
        "id": "Dg448LAPtN5y",
        "outputId": "9598d56d-9894-4762-9348-3908598bde00"
      },
      "execution_count": null,
      "outputs": [
        {
          "output_type": "execute_result",
          "data": {
            "text/plain": [
              "TFBaseModelOutputWithPoolingAndCrossAttentions(last_hidden_state=<tf.Tensor: shape=(1, 9, 768), dtype=float32, numpy=\n",
              "array([[[-0.0801831 ,  0.03810783,  0.27046812, ...,  0.39124072,\n",
              "         -0.11388044, -0.04561077],\n",
              "        [-0.13535482, -0.61088157,  0.83754325, ...,  0.6064948 ,\n",
              "         -0.36229783,  0.06997249],\n",
              "        [-0.9340398 , -0.27897775,  0.34910437, ...,  1.0008146 ,\n",
              "         -0.27053565,  0.39220393],\n",
              "        ...,\n",
              "        [-0.64944226,  0.01610355,  0.06948492, ...,  0.9110723 ,\n",
              "         -0.3397322 , -0.44170964],\n",
              "        [-0.43947974,  0.11158036,  0.09911749, ...,  0.7545632 ,\n",
              "          0.0909415 , -0.18004197],\n",
              "        [-0.285816  , -0.20664008,  1.011271  , ...,  0.43730527,\n",
              "         -0.19045143,  0.07825344]]], dtype=float32)>, pooler_output=<tf.Tensor: shape=(1, 768), dtype=float32, numpy=\n",
              "array([[ 0.24232776, -0.05618617,  0.26164398, -0.18765198, -0.06455288,\n",
              "         0.46789142,  0.22187352,  0.2141517 , -0.4258368 ,  0.29156756,\n",
              "        -0.11752241, -0.18155742, -0.06530014, -0.216204  ,  0.17977302,\n",
              "        -0.19529663,  0.58109397,  0.05634778,  0.08462804, -0.3879821 ,\n",
              "        -0.99998695, -0.10416292, -0.30478424, -0.07286783, -0.3380697 ,\n",
              "         0.08212507, -0.18015948,  0.03782568,  0.2093541 , -0.19827893,\n",
              "         0.02490435, -0.99998635,  0.6165414 ,  0.5865973 ,  0.16271679,\n",
              "        -0.14495029,  0.14894848,  0.19415428,  0.3326741 , -0.4574388 ,\n",
              "        -0.12462359,  0.0160442 , -0.06251244,  0.15347779, -0.16285157,\n",
              "        -0.13825466, -0.17305022,  0.23588929, -0.25791693,  0.10568984,\n",
              "         0.04876266,  0.24903104,  0.4764629 ,  0.3414033 ,  0.2347064 ,\n",
              "         0.135139  ,  0.3381268 ,  0.17920765,  0.2548092 , -0.22910838,\n",
              "         0.104372  ,  0.20882404,  0.12598369, -0.20330548, -0.2649352 ,\n",
              "        -0.34574223,  0.06662578, -0.1095832 ,  0.52087855, -0.06793378,\n",
              "        -0.1433982 , -0.4179438 , -0.19371396,  0.20427915,  0.17209235,\n",
              "        -0.15335043,  0.2969203 ,  0.3493509 ,  0.01971053, -0.08284772,\n",
              "        -0.32395294, -0.51309824, -0.20078844,  0.24605948, -0.20606466,\n",
              "         0.21046858,  0.30571407, -0.32283875,  0.15065049, -0.0315976 ,\n",
              "         0.27051443,  0.52857995, -0.2884668 ,  0.29927233, -0.11269142,\n",
              "        -0.1628941 , -0.75594926, -0.06938048, -0.09728778, -0.36411792,\n",
              "        -0.1650775 ,  0.12249114, -0.32296124, -0.17143996, -0.2307166 ,\n",
              "        -0.27896237,  0.15811506,  0.2888429 , -0.16779414,  0.3293045 ,\n",
              "         0.08590876, -0.36918098, -0.25086617,  0.06250824, -0.20347258,\n",
              "         0.94457096, -0.18778552,  0.10080887, -0.05169692, -0.18025914,\n",
              "        -0.5868383 ,  0.9999886 ,  0.09179714, -0.18645048,  0.06576976,\n",
              "         0.17460726, -0.5830255 ,  0.16584915,  0.26594514,  0.19902164,\n",
              "         0.14343223, -0.11045916, -0.16183795, -0.37560463, -0.71854365,\n",
              "        -0.22926167, -0.16664708,  0.22292764, -0.27732947, -0.22696753,\n",
              "         0.1772707 ,  0.48412263,  0.13182618, -0.09331826, -0.06564654,\n",
              "         0.0164351 ,  0.24957292, -0.2406485 ,  0.99998593,  0.6490045 ,\n",
              "        -0.12972425, -0.2766909 ,  0.4524959 , -0.63711226, -0.30463532,\n",
              "        -0.26609856, -0.3198329 , -0.43857503,  0.27750087,  0.14790791,\n",
              "         0.05697864, -0.15109976, -0.10980632, -0.22093812,  0.30210358,\n",
              "        -0.6313071 , -0.14017023,  0.32548654,  0.35715917,  0.26926765,\n",
              "        -0.09429876,  0.27027804,  0.11266764, -0.15978286,  0.01210872,\n",
              "         0.19305855,  0.11712766, -0.0485367 , -0.12266688, -0.12446146,\n",
              "         0.19152959, -0.10552263, -0.3845768 ,  0.02281725, -0.09960522,\n",
              "        -0.45459586,  0.11685489, -0.08052403, -0.24212252,  0.2767204 ,\n",
              "        -0.1248429 ,  0.25991726, -0.23264763,  0.1354778 ,  0.30008537,\n",
              "         0.0959168 , -0.38296556,  0.3054893 ,  0.32211623,  0.32973152,\n",
              "         0.26017055,  0.12671502,  0.14626631,  0.07372178, -0.07507659,\n",
              "        -0.50458896,  0.1644027 ,  0.11583091,  0.3667879 , -0.16686036,\n",
              "        -0.4336349 , -0.17470859,  0.57558274,  0.33613896, -0.3172789 ,\n",
              "         0.10809432,  0.19746934, -0.10580697, -0.17105506,  0.22659276,\n",
              "        -0.12105503, -0.4066554 , -0.23523952, -0.16884224, -0.05507449,\n",
              "         0.26865104,  0.14290798,  0.19301857,  0.19090916, -0.19836219,\n",
              "        -0.12285282, -0.12664923,  0.06950495,  0.3103272 , -0.04528724,\n",
              "         0.74226004, -0.22385977,  0.24980047, -0.45618626, -0.13096328,\n",
              "         0.36582702, -0.15952589,  0.26448813,  0.89488935,  0.17346358,\n",
              "        -0.20882787,  0.18839955,  0.19629245,  0.23744361, -0.14788683,\n",
              "        -0.0138278 , -0.56272674,  0.62372667,  0.15402536,  0.05887984,\n",
              "        -0.99998444,  0.1515349 ,  0.16248351,  0.46758735,  0.26257312,\n",
              "         0.22329216,  0.08521714,  0.21060117,  0.8207374 , -0.34074637,\n",
              "        -0.36313245, -0.30720887, -0.20767273, -0.4912554 , -0.19929793,\n",
              "        -0.11529712, -0.24285726, -0.07102514, -0.00764845, -0.08959517,\n",
              "         0.1671369 ,  0.31336638, -0.9728311 ,  0.7813901 ,  0.16532749,\n",
              "        -0.06722888, -0.00432475,  0.2783819 , -0.9999855 ,  0.2799525 ,\n",
              "        -0.05082904, -0.14949936,  0.26635653, -0.42327946, -0.23430729,\n",
              "         0.1772348 ,  0.43671116,  0.26923454,  0.2625476 ,  0.26389462,\n",
              "         0.44254023, -0.12421029,  0.06137368,  0.1692887 , -0.06226459,\n",
              "         0.50127405,  0.03208344,  0.07038097,  0.3664622 , -0.15819807,\n",
              "         0.28732154, -0.07258389,  0.28386194,  0.36464706,  0.08507951,\n",
              "         0.13552311, -0.2551335 ,  0.2573839 , -0.6732215 ,  0.0480192 ,\n",
              "        -0.25611436, -0.09197341, -0.06855584,  0.10372074, -0.12070605,\n",
              "        -0.32020426,  0.09339134, -0.18827306,  0.99998724,  0.23770912,\n",
              "        -0.11039474, -0.36407846,  0.60350174,  0.38086376, -0.19675888,\n",
              "        -0.5507619 , -0.15454376,  0.5758996 ,  0.3541546 ,  0.25632265,\n",
              "         0.07222614, -0.09279234,  0.21038696, -0.2368035 , -0.13632381,\n",
              "         0.08825435, -0.37756976,  0.21939966, -0.11911331, -0.2294221 ,\n",
              "         0.1992355 , -0.10525559, -0.13297734, -0.74937254,  0.26748598,\n",
              "         0.08229565,  0.11621219,  0.18570659,  0.22679205, -0.2964073 ,\n",
              "         0.5193764 ,  0.3250995 , -0.20612054, -0.35330448, -0.30367786,\n",
              "        -0.30717212, -0.06812316, -0.29418284, -0.2972102 ,  0.13088575,\n",
              "        -0.602966  ,  0.11374373,  0.02738595, -0.17504483, -0.268013  ,\n",
              "         0.28861964, -0.999989  , -0.24024469,  0.21860802, -0.33333555,\n",
              "         0.19612302, -0.3928602 , -0.23199861,  0.23300327,  0.20822127,\n",
              "        -0.02044431,  0.0039045 , -0.3781687 ,  0.1128334 , -0.0924137 ,\n",
              "         0.08266841,  0.801714  ,  0.41705382,  0.12097165, -0.23572004,\n",
              "         0.0805043 , -0.5183028 , -0.11076853,  0.14667118,  0.2374932 ,\n",
              "        -0.21113966,  0.19556822,  0.10593133,  0.14596677, -0.07577449,\n",
              "         0.24407572, -0.17559043, -0.12100147,  0.24076723,  0.04977656,\n",
              "        -0.18407154, -0.13631624,  0.2530054 , -0.4105658 ,  0.22030985,\n",
              "         0.06844499,  0.2937085 ,  0.15820017,  0.28058875, -0.22193162,\n",
              "         0.00147453, -0.10323745, -0.04097252, -0.23642841, -0.18251081,\n",
              "        -0.1065336 ,  0.9999876 ,  0.35018888,  0.40003303, -0.32014328,\n",
              "         0.13358885,  0.1994749 , -0.359436  ,  0.159598  ,  0.19656584,\n",
              "         0.23033817, -0.2002267 ,  0.02254284,  0.0533751 ,  0.3283855 ,\n",
              "         0.2913559 ,  0.10178182,  0.40174347, -0.1985984 ,  0.60006124,\n",
              "        -0.11190743, -0.33091465, -0.9724219 ,  0.12298226,  0.19479805,\n",
              "        -0.31411684, -0.40885267,  0.06335936, -0.27536467,  0.0694645 ,\n",
              "        -0.01135688,  0.18243617,  0.11206473, -0.07024113,  0.25351712,\n",
              "        -0.2962302 ,  0.9999874 , -0.0966216 ,  0.11582557,  0.26493782,\n",
              "         0.18150197, -0.18930712, -0.02619475, -0.074867  ,  0.3014734 ,\n",
              "        -0.09069552,  0.15354612, -0.88246465,  0.19738647,  0.05238445,\n",
              "         0.3269051 , -0.15079375,  0.16666971, -0.30966365,  0.22185008,\n",
              "        -0.07934596, -0.12990654, -0.28168228,  0.22770008, -0.3425583 ,\n",
              "         0.4302314 , -0.16272075,  0.15080151, -0.29925993,  0.25192222,\n",
              "        -0.12154683,  0.25302163, -0.11053551,  0.25634474, -0.10383511,\n",
              "        -0.30948496, -0.32902226,  0.11701312, -0.416589  ,  0.99998677,\n",
              "        -0.08439645,  0.09367781, -0.18193106,  0.17715263, -0.22264381,\n",
              "         0.31705064,  0.58123803, -0.32207632,  0.21783635,  0.26921067,\n",
              "        -0.5147018 ,  0.1526358 , -0.07250395, -0.6872009 , -0.25161964,\n",
              "         0.9072695 ,  0.15630528,  0.4088658 ,  0.19831188,  0.1238008 ,\n",
              "         0.03442975, -0.15300089,  0.24482839,  0.79762733,  0.22282954,\n",
              "         0.22279365,  0.20259409,  0.0040839 , -0.23096098, -0.11891899,\n",
              "         0.9999848 ,  0.9999843 ,  0.07806823,  0.41654244, -0.29286668,\n",
              "        -0.28344223, -0.17747705,  0.2159048 ,  0.22796795,  0.25619683,\n",
              "        -0.16872531, -0.0894512 , -0.26588124, -0.24764022, -0.14058454,\n",
              "        -0.12931897, -0.20724452,  0.13358578, -0.22219859,  0.41451958,\n",
              "         0.36740214,  0.00585786,  0.40634087,  0.22774197,  0.06651971,\n",
              "        -0.06876257, -0.23319653,  0.46355474, -0.17159335, -0.0884221 ,\n",
              "        -0.3214538 ,  0.0321693 , -0.99998075, -0.17823122, -0.29201546,\n",
              "        -0.19391909,  0.43389043,  0.22508106,  0.11719789, -0.3110008 ,\n",
              "        -0.05733541, -0.22572012,  0.28040773,  0.10240889, -0.03934113,\n",
              "        -0.11397199, -0.38983333,  0.4103473 , -0.38885483,  0.20040865,\n",
              "        -0.23743634, -0.24477741, -0.55221736, -0.17495239, -0.24742806,\n",
              "         0.24161889, -0.21726355, -0.19900344,  0.18841551,  0.29228047,\n",
              "         0.24242526, -0.21749859,  0.3492984 , -0.32990992,  0.10182428,\n",
              "         0.2931386 ,  0.23093177,  0.20872092, -0.29058686, -0.286276  ,\n",
              "        -0.11197598, -0.16615538, -0.20999092,  0.3229433 , -0.27574888,\n",
              "         0.2652925 , -0.07542387,  0.19347475, -0.26192072,  0.07527652,\n",
              "         0.2511332 ,  0.427633  , -0.27975476,  0.4013632 ,  0.218311  ,\n",
              "        -0.12230741,  0.40176117, -0.03221956, -0.24969801, -0.16555807,\n",
              "         0.99998885,  0.44394702,  0.2421346 ,  0.18314725, -0.15278593,\n",
              "         0.31293043,  0.1629801 ,  0.4275122 , -0.40619376,  0.7443151 ,\n",
              "        -0.21982032,  0.20447162,  0.05369847,  0.27041483,  0.01171075,\n",
              "         0.21632305,  0.351659  ,  0.6895466 ,  0.11637004,  0.14976798,\n",
              "         0.16637251,  0.2601424 ,  0.28394493,  0.3188559 ,  0.24261542,\n",
              "         0.35311997,  0.37101915, -0.1539602 ,  0.18452008,  0.00943711,\n",
              "        -0.17233734, -0.06490244, -0.15054499, -0.21573675,  0.20302498,\n",
              "        -0.23101088, -0.19715564, -0.12501952,  0.38342512, -0.23397428,\n",
              "         0.29771566, -0.1492366 , -0.3645547 ,  0.5364872 , -0.3931308 ,\n",
              "         0.10538925, -0.17958649,  0.11473594, -0.7356784 ,  0.02463754,\n",
              "        -0.19101559, -0.49034578, -0.18266831, -0.4166937 ,  0.17487727,\n",
              "         0.21368013, -0.05847037,  0.23686159, -0.20667629,  0.2647897 ,\n",
              "        -0.17719242, -0.14374803,  0.14514227, -0.99998796,  0.02852355,\n",
              "         0.0856948 , -0.21936439,  0.11582783,  0.07985752,  0.21785751,\n",
              "         0.16434234, -0.23990144, -0.18497701, -0.01892193,  0.20262375,\n",
              "        -0.27580985,  0.01353155,  0.17490113, -0.36191005, -0.25757015,\n",
              "         0.01111374, -0.09126335,  0.17004208,  0.28724495, -0.2717582 ,\n",
              "         0.15231206, -0.30123436,  0.25435102, -0.07980824,  0.25223738,\n",
              "        -0.24300334, -0.20408154,  0.28960598, -0.42646614, -0.30784214,\n",
              "        -0.18931301,  0.08753522, -0.09628374,  0.04968998,  0.08904836,\n",
              "        -0.16971639,  0.3685835 , -0.11618015,  0.26065573, -0.27912405,\n",
              "         0.25341743, -0.7259753 , -0.30252108, -0.23771799, -0.19329454,\n",
              "         0.317074  ,  0.2744068 ,  0.0751178 ,  0.20567761, -0.08300208,\n",
              "         0.1779926 , -0.11622905,  0.08164931,  0.24501684, -0.14514706,\n",
              "         0.08913749, -0.14130296,  0.37284744, -0.33671522,  0.13173608,\n",
              "        -0.9678071 , -0.24601614,  0.12715209,  0.3203416 ,  0.34080395,\n",
              "        -0.22942635, -0.08909457, -0.22619489, -0.07071286,  0.14493607,\n",
              "         0.31539366,  0.2486999 ,  0.1072394 ,  0.25737807, -0.15506083,\n",
              "        -0.07636297,  0.5801629 , -0.30703995,  0.04130704,  0.37944925,\n",
              "         0.14497125,  0.7452645 ,  0.2831058 ,  0.24065055,  0.1979634 ,\n",
              "        -0.3486825 ,  0.24804878,  0.2646354 ]], dtype=float32)>, past_key_values=None, hidden_states=None, attentions=None, cross_attentions=None)"
            ]
          },
          "metadata": {},
          "execution_count": 54
        }
      ]
    },
    {
      "cell_type": "code",
      "source": [
        "max_features = 10000\n",
        "embedding_dim = 16"
      ],
      "metadata": {
        "id": "WLm2kfG1XB9M"
      },
      "execution_count": null,
      "outputs": []
    },
    {
      "cell_type": "code",
      "source": [
        "# model = tf.keras.Sequential([\n",
        "#   layers.Embedding(max_features + 1, embedding_dim),\n",
        "#   layers.Dropout(0.2),\n",
        "#   layers.GlobalAveragePooling1D(),\n",
        "#   layers.Dropout(0.2),\n",
        "#   layers.Dense(1)])\n",
        "\n",
        "# model.summary()\n"
      ],
      "metadata": {
        "id": "27X-RxfQXzWU"
      },
      "execution_count": null,
      "outputs": []
    }
  ]
}