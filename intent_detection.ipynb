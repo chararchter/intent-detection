{
  "nbformat": 4,
  "nbformat_minor": 0,
  "metadata": {
    "colab": {
      "provenance": [],
      "authorship_tag": "ABX9TyOiXRWEHIHarLnbi9HeyM56",
      "include_colab_link": true
    },
    "kernelspec": {
      "name": "python3",
      "display_name": "Python 3"
    },
    "language_info": {
      "name": "python"
    },
    "widgets": {
      "application/vnd.jupyter.widget-state+json": {
        "a8710a91cdb149dcab4e84060326f65a": {
          "model_module": "@jupyter-widgets/controls",
          "model_name": "HBoxModel",
          "model_module_version": "1.5.0",
          "state": {
            "_dom_classes": [],
            "_model_module": "@jupyter-widgets/controls",
            "_model_module_version": "1.5.0",
            "_model_name": "HBoxModel",
            "_view_count": null,
            "_view_module": "@jupyter-widgets/controls",
            "_view_module_version": "1.5.0",
            "_view_name": "HBoxView",
            "box_style": "",
            "children": [
              "IPY_MODEL_0e4d829d066d4dbabae23c09a5531f4d",
              "IPY_MODEL_3159236e93e548bd87f5708947a59c3a",
              "IPY_MODEL_cf6cd653d9c848f7925c89bbcb4ba9b5"
            ],
            "layout": "IPY_MODEL_87d9598d6d804683990bb67acd3ea2a5"
          }
        },
        "0e4d829d066d4dbabae23c09a5531f4d": {
          "model_module": "@jupyter-widgets/controls",
          "model_name": "HTMLModel",
          "model_module_version": "1.5.0",
          "state": {
            "_dom_classes": [],
            "_model_module": "@jupyter-widgets/controls",
            "_model_module_version": "1.5.0",
            "_model_name": "HTMLModel",
            "_view_count": null,
            "_view_module": "@jupyter-widgets/controls",
            "_view_module_version": "1.5.0",
            "_view_name": "HTMLView",
            "description": "",
            "description_tooltip": null,
            "layout": "IPY_MODEL_3b208ee501044bb7bced50d5ea8c0d71",
            "placeholder": "​",
            "style": "IPY_MODEL_e551c866583c444d9a01cb81bf73ef2e",
            "value": "Downloading: 100%"
          }
        },
        "3159236e93e548bd87f5708947a59c3a": {
          "model_module": "@jupyter-widgets/controls",
          "model_name": "FloatProgressModel",
          "model_module_version": "1.5.0",
          "state": {
            "_dom_classes": [],
            "_model_module": "@jupyter-widgets/controls",
            "_model_module_version": "1.5.0",
            "_model_name": "FloatProgressModel",
            "_view_count": null,
            "_view_module": "@jupyter-widgets/controls",
            "_view_module_version": "1.5.0",
            "_view_name": "ProgressView",
            "bar_style": "success",
            "description": "",
            "description_tooltip": null,
            "layout": "IPY_MODEL_6232ba3b4592482490881ce1cf3bcd51",
            "max": 995526,
            "min": 0,
            "orientation": "horizontal",
            "style": "IPY_MODEL_b948fd2b55394935b3563f4aee728022",
            "value": 995526
          }
        },
        "cf6cd653d9c848f7925c89bbcb4ba9b5": {
          "model_module": "@jupyter-widgets/controls",
          "model_name": "HTMLModel",
          "model_module_version": "1.5.0",
          "state": {
            "_dom_classes": [],
            "_model_module": "@jupyter-widgets/controls",
            "_model_module_version": "1.5.0",
            "_model_name": "HTMLModel",
            "_view_count": null,
            "_view_module": "@jupyter-widgets/controls",
            "_view_module_version": "1.5.0",
            "_view_name": "HTMLView",
            "description": "",
            "description_tooltip": null,
            "layout": "IPY_MODEL_e558fcbcd6d74250adeb830d030c07db",
            "placeholder": "​",
            "style": "IPY_MODEL_de588febd9ed4d2a9e799cda7da5caaf",
            "value": " 996k/996k [00:00&lt;00:00, 1.43MB/s]"
          }
        },
        "87d9598d6d804683990bb67acd3ea2a5": {
          "model_module": "@jupyter-widgets/base",
          "model_name": "LayoutModel",
          "model_module_version": "1.2.0",
          "state": {
            "_model_module": "@jupyter-widgets/base",
            "_model_module_version": "1.2.0",
            "_model_name": "LayoutModel",
            "_view_count": null,
            "_view_module": "@jupyter-widgets/base",
            "_view_module_version": "1.2.0",
            "_view_name": "LayoutView",
            "align_content": null,
            "align_items": null,
            "align_self": null,
            "border": null,
            "bottom": null,
            "display": null,
            "flex": null,
            "flex_flow": null,
            "grid_area": null,
            "grid_auto_columns": null,
            "grid_auto_flow": null,
            "grid_auto_rows": null,
            "grid_column": null,
            "grid_gap": null,
            "grid_row": null,
            "grid_template_areas": null,
            "grid_template_columns": null,
            "grid_template_rows": null,
            "height": null,
            "justify_content": null,
            "justify_items": null,
            "left": null,
            "margin": null,
            "max_height": null,
            "max_width": null,
            "min_height": null,
            "min_width": null,
            "object_fit": null,
            "object_position": null,
            "order": null,
            "overflow": null,
            "overflow_x": null,
            "overflow_y": null,
            "padding": null,
            "right": null,
            "top": null,
            "visibility": null,
            "width": null
          }
        },
        "3b208ee501044bb7bced50d5ea8c0d71": {
          "model_module": "@jupyter-widgets/base",
          "model_name": "LayoutModel",
          "model_module_version": "1.2.0",
          "state": {
            "_model_module": "@jupyter-widgets/base",
            "_model_module_version": "1.2.0",
            "_model_name": "LayoutModel",
            "_view_count": null,
            "_view_module": "@jupyter-widgets/base",
            "_view_module_version": "1.2.0",
            "_view_name": "LayoutView",
            "align_content": null,
            "align_items": null,
            "align_self": null,
            "border": null,
            "bottom": null,
            "display": null,
            "flex": null,
            "flex_flow": null,
            "grid_area": null,
            "grid_auto_columns": null,
            "grid_auto_flow": null,
            "grid_auto_rows": null,
            "grid_column": null,
            "grid_gap": null,
            "grid_row": null,
            "grid_template_areas": null,
            "grid_template_columns": null,
            "grid_template_rows": null,
            "height": null,
            "justify_content": null,
            "justify_items": null,
            "left": null,
            "margin": null,
            "max_height": null,
            "max_width": null,
            "min_height": null,
            "min_width": null,
            "object_fit": null,
            "object_position": null,
            "order": null,
            "overflow": null,
            "overflow_x": null,
            "overflow_y": null,
            "padding": null,
            "right": null,
            "top": null,
            "visibility": null,
            "width": null
          }
        },
        "e551c866583c444d9a01cb81bf73ef2e": {
          "model_module": "@jupyter-widgets/controls",
          "model_name": "DescriptionStyleModel",
          "model_module_version": "1.5.0",
          "state": {
            "_model_module": "@jupyter-widgets/controls",
            "_model_module_version": "1.5.0",
            "_model_name": "DescriptionStyleModel",
            "_view_count": null,
            "_view_module": "@jupyter-widgets/base",
            "_view_module_version": "1.2.0",
            "_view_name": "StyleView",
            "description_width": ""
          }
        },
        "6232ba3b4592482490881ce1cf3bcd51": {
          "model_module": "@jupyter-widgets/base",
          "model_name": "LayoutModel",
          "model_module_version": "1.2.0",
          "state": {
            "_model_module": "@jupyter-widgets/base",
            "_model_module_version": "1.2.0",
            "_model_name": "LayoutModel",
            "_view_count": null,
            "_view_module": "@jupyter-widgets/base",
            "_view_module_version": "1.2.0",
            "_view_name": "LayoutView",
            "align_content": null,
            "align_items": null,
            "align_self": null,
            "border": null,
            "bottom": null,
            "display": null,
            "flex": null,
            "flex_flow": null,
            "grid_area": null,
            "grid_auto_columns": null,
            "grid_auto_flow": null,
            "grid_auto_rows": null,
            "grid_column": null,
            "grid_gap": null,
            "grid_row": null,
            "grid_template_areas": null,
            "grid_template_columns": null,
            "grid_template_rows": null,
            "height": null,
            "justify_content": null,
            "justify_items": null,
            "left": null,
            "margin": null,
            "max_height": null,
            "max_width": null,
            "min_height": null,
            "min_width": null,
            "object_fit": null,
            "object_position": null,
            "order": null,
            "overflow": null,
            "overflow_x": null,
            "overflow_y": null,
            "padding": null,
            "right": null,
            "top": null,
            "visibility": null,
            "width": null
          }
        },
        "b948fd2b55394935b3563f4aee728022": {
          "model_module": "@jupyter-widgets/controls",
          "model_name": "ProgressStyleModel",
          "model_module_version": "1.5.0",
          "state": {
            "_model_module": "@jupyter-widgets/controls",
            "_model_module_version": "1.5.0",
            "_model_name": "ProgressStyleModel",
            "_view_count": null,
            "_view_module": "@jupyter-widgets/base",
            "_view_module_version": "1.2.0",
            "_view_name": "StyleView",
            "bar_color": null,
            "description_width": ""
          }
        },
        "e558fcbcd6d74250adeb830d030c07db": {
          "model_module": "@jupyter-widgets/base",
          "model_name": "LayoutModel",
          "model_module_version": "1.2.0",
          "state": {
            "_model_module": "@jupyter-widgets/base",
            "_model_module_version": "1.2.0",
            "_model_name": "LayoutModel",
            "_view_count": null,
            "_view_module": "@jupyter-widgets/base",
            "_view_module_version": "1.2.0",
            "_view_name": "LayoutView",
            "align_content": null,
            "align_items": null,
            "align_self": null,
            "border": null,
            "bottom": null,
            "display": null,
            "flex": null,
            "flex_flow": null,
            "grid_area": null,
            "grid_auto_columns": null,
            "grid_auto_flow": null,
            "grid_auto_rows": null,
            "grid_column": null,
            "grid_gap": null,
            "grid_row": null,
            "grid_template_areas": null,
            "grid_template_columns": null,
            "grid_template_rows": null,
            "height": null,
            "justify_content": null,
            "justify_items": null,
            "left": null,
            "margin": null,
            "max_height": null,
            "max_width": null,
            "min_height": null,
            "min_width": null,
            "object_fit": null,
            "object_position": null,
            "order": null,
            "overflow": null,
            "overflow_x": null,
            "overflow_y": null,
            "padding": null,
            "right": null,
            "top": null,
            "visibility": null,
            "width": null
          }
        },
        "de588febd9ed4d2a9e799cda7da5caaf": {
          "model_module": "@jupyter-widgets/controls",
          "model_name": "DescriptionStyleModel",
          "model_module_version": "1.5.0",
          "state": {
            "_model_module": "@jupyter-widgets/controls",
            "_model_module_version": "1.5.0",
            "_model_name": "DescriptionStyleModel",
            "_view_count": null,
            "_view_module": "@jupyter-widgets/base",
            "_view_module_version": "1.2.0",
            "_view_name": "StyleView",
            "description_width": ""
          }
        },
        "3f254814229d492b94c505e9f5d79b9a": {
          "model_module": "@jupyter-widgets/controls",
          "model_name": "HBoxModel",
          "model_module_version": "1.5.0",
          "state": {
            "_dom_classes": [],
            "_model_module": "@jupyter-widgets/controls",
            "_model_module_version": "1.5.0",
            "_model_name": "HBoxModel",
            "_view_count": null,
            "_view_module": "@jupyter-widgets/controls",
            "_view_module_version": "1.5.0",
            "_view_name": "HBoxView",
            "box_style": "",
            "children": [
              "IPY_MODEL_c238d991283b4aed8daab5bdf3b5199a",
              "IPY_MODEL_4a27e1f7e99146bc889f296a413a509e",
              "IPY_MODEL_2e795710c7ed4fceb719c99617e48f8b"
            ],
            "layout": "IPY_MODEL_4d150f63ccd0439fab9d61c2efeccdd3"
          }
        },
        "c238d991283b4aed8daab5bdf3b5199a": {
          "model_module": "@jupyter-widgets/controls",
          "model_name": "HTMLModel",
          "model_module_version": "1.5.0",
          "state": {
            "_dom_classes": [],
            "_model_module": "@jupyter-widgets/controls",
            "_model_module_version": "1.5.0",
            "_model_name": "HTMLModel",
            "_view_count": null,
            "_view_module": "@jupyter-widgets/controls",
            "_view_module_version": "1.5.0",
            "_view_name": "HTMLView",
            "description": "",
            "description_tooltip": null,
            "layout": "IPY_MODEL_e2018b2d5e6942ac8f363230ce0a5863",
            "placeholder": "​",
            "style": "IPY_MODEL_eaf60ff7f8174ee9a7454bf12bd3ce65",
            "value": "Downloading: 100%"
          }
        },
        "4a27e1f7e99146bc889f296a413a509e": {
          "model_module": "@jupyter-widgets/controls",
          "model_name": "FloatProgressModel",
          "model_module_version": "1.5.0",
          "state": {
            "_dom_classes": [],
            "_model_module": "@jupyter-widgets/controls",
            "_model_module_version": "1.5.0",
            "_model_name": "FloatProgressModel",
            "_view_count": null,
            "_view_module": "@jupyter-widgets/controls",
            "_view_module_version": "1.5.0",
            "_view_name": "ProgressView",
            "bar_style": "success",
            "description": "",
            "description_tooltip": null,
            "layout": "IPY_MODEL_4428dba5b44a4180b5b6b255dc1f4e0c",
            "max": 29,
            "min": 0,
            "orientation": "horizontal",
            "style": "IPY_MODEL_a61580962b124549b95019db444e440b",
            "value": 29
          }
        },
        "2e795710c7ed4fceb719c99617e48f8b": {
          "model_module": "@jupyter-widgets/controls",
          "model_name": "HTMLModel",
          "model_module_version": "1.5.0",
          "state": {
            "_dom_classes": [],
            "_model_module": "@jupyter-widgets/controls",
            "_model_module_version": "1.5.0",
            "_model_name": "HTMLModel",
            "_view_count": null,
            "_view_module": "@jupyter-widgets/controls",
            "_view_module_version": "1.5.0",
            "_view_name": "HTMLView",
            "description": "",
            "description_tooltip": null,
            "layout": "IPY_MODEL_f26d0979273942808e56b47de11bffb3",
            "placeholder": "​",
            "style": "IPY_MODEL_4d40b7ad4cd54ce897705add5ad1db99",
            "value": " 29.0/29.0 [00:00&lt;00:00, 539B/s]"
          }
        },
        "4d150f63ccd0439fab9d61c2efeccdd3": {
          "model_module": "@jupyter-widgets/base",
          "model_name": "LayoutModel",
          "model_module_version": "1.2.0",
          "state": {
            "_model_module": "@jupyter-widgets/base",
            "_model_module_version": "1.2.0",
            "_model_name": "LayoutModel",
            "_view_count": null,
            "_view_module": "@jupyter-widgets/base",
            "_view_module_version": "1.2.0",
            "_view_name": "LayoutView",
            "align_content": null,
            "align_items": null,
            "align_self": null,
            "border": null,
            "bottom": null,
            "display": null,
            "flex": null,
            "flex_flow": null,
            "grid_area": null,
            "grid_auto_columns": null,
            "grid_auto_flow": null,
            "grid_auto_rows": null,
            "grid_column": null,
            "grid_gap": null,
            "grid_row": null,
            "grid_template_areas": null,
            "grid_template_columns": null,
            "grid_template_rows": null,
            "height": null,
            "justify_content": null,
            "justify_items": null,
            "left": null,
            "margin": null,
            "max_height": null,
            "max_width": null,
            "min_height": null,
            "min_width": null,
            "object_fit": null,
            "object_position": null,
            "order": null,
            "overflow": null,
            "overflow_x": null,
            "overflow_y": null,
            "padding": null,
            "right": null,
            "top": null,
            "visibility": null,
            "width": null
          }
        },
        "e2018b2d5e6942ac8f363230ce0a5863": {
          "model_module": "@jupyter-widgets/base",
          "model_name": "LayoutModel",
          "model_module_version": "1.2.0",
          "state": {
            "_model_module": "@jupyter-widgets/base",
            "_model_module_version": "1.2.0",
            "_model_name": "LayoutModel",
            "_view_count": null,
            "_view_module": "@jupyter-widgets/base",
            "_view_module_version": "1.2.0",
            "_view_name": "LayoutView",
            "align_content": null,
            "align_items": null,
            "align_self": null,
            "border": null,
            "bottom": null,
            "display": null,
            "flex": null,
            "flex_flow": null,
            "grid_area": null,
            "grid_auto_columns": null,
            "grid_auto_flow": null,
            "grid_auto_rows": null,
            "grid_column": null,
            "grid_gap": null,
            "grid_row": null,
            "grid_template_areas": null,
            "grid_template_columns": null,
            "grid_template_rows": null,
            "height": null,
            "justify_content": null,
            "justify_items": null,
            "left": null,
            "margin": null,
            "max_height": null,
            "max_width": null,
            "min_height": null,
            "min_width": null,
            "object_fit": null,
            "object_position": null,
            "order": null,
            "overflow": null,
            "overflow_x": null,
            "overflow_y": null,
            "padding": null,
            "right": null,
            "top": null,
            "visibility": null,
            "width": null
          }
        },
        "eaf60ff7f8174ee9a7454bf12bd3ce65": {
          "model_module": "@jupyter-widgets/controls",
          "model_name": "DescriptionStyleModel",
          "model_module_version": "1.5.0",
          "state": {
            "_model_module": "@jupyter-widgets/controls",
            "_model_module_version": "1.5.0",
            "_model_name": "DescriptionStyleModel",
            "_view_count": null,
            "_view_module": "@jupyter-widgets/base",
            "_view_module_version": "1.2.0",
            "_view_name": "StyleView",
            "description_width": ""
          }
        },
        "4428dba5b44a4180b5b6b255dc1f4e0c": {
          "model_module": "@jupyter-widgets/base",
          "model_name": "LayoutModel",
          "model_module_version": "1.2.0",
          "state": {
            "_model_module": "@jupyter-widgets/base",
            "_model_module_version": "1.2.0",
            "_model_name": "LayoutModel",
            "_view_count": null,
            "_view_module": "@jupyter-widgets/base",
            "_view_module_version": "1.2.0",
            "_view_name": "LayoutView",
            "align_content": null,
            "align_items": null,
            "align_self": null,
            "border": null,
            "bottom": null,
            "display": null,
            "flex": null,
            "flex_flow": null,
            "grid_area": null,
            "grid_auto_columns": null,
            "grid_auto_flow": null,
            "grid_auto_rows": null,
            "grid_column": null,
            "grid_gap": null,
            "grid_row": null,
            "grid_template_areas": null,
            "grid_template_columns": null,
            "grid_template_rows": null,
            "height": null,
            "justify_content": null,
            "justify_items": null,
            "left": null,
            "margin": null,
            "max_height": null,
            "max_width": null,
            "min_height": null,
            "min_width": null,
            "object_fit": null,
            "object_position": null,
            "order": null,
            "overflow": null,
            "overflow_x": null,
            "overflow_y": null,
            "padding": null,
            "right": null,
            "top": null,
            "visibility": null,
            "width": null
          }
        },
        "a61580962b124549b95019db444e440b": {
          "model_module": "@jupyter-widgets/controls",
          "model_name": "ProgressStyleModel",
          "model_module_version": "1.5.0",
          "state": {
            "_model_module": "@jupyter-widgets/controls",
            "_model_module_version": "1.5.0",
            "_model_name": "ProgressStyleModel",
            "_view_count": null,
            "_view_module": "@jupyter-widgets/base",
            "_view_module_version": "1.2.0",
            "_view_name": "StyleView",
            "bar_color": null,
            "description_width": ""
          }
        },
        "f26d0979273942808e56b47de11bffb3": {
          "model_module": "@jupyter-widgets/base",
          "model_name": "LayoutModel",
          "model_module_version": "1.2.0",
          "state": {
            "_model_module": "@jupyter-widgets/base",
            "_model_module_version": "1.2.0",
            "_model_name": "LayoutModel",
            "_view_count": null,
            "_view_module": "@jupyter-widgets/base",
            "_view_module_version": "1.2.0",
            "_view_name": "LayoutView",
            "align_content": null,
            "align_items": null,
            "align_self": null,
            "border": null,
            "bottom": null,
            "display": null,
            "flex": null,
            "flex_flow": null,
            "grid_area": null,
            "grid_auto_columns": null,
            "grid_auto_flow": null,
            "grid_auto_rows": null,
            "grid_column": null,
            "grid_gap": null,
            "grid_row": null,
            "grid_template_areas": null,
            "grid_template_columns": null,
            "grid_template_rows": null,
            "height": null,
            "justify_content": null,
            "justify_items": null,
            "left": null,
            "margin": null,
            "max_height": null,
            "max_width": null,
            "min_height": null,
            "min_width": null,
            "object_fit": null,
            "object_position": null,
            "order": null,
            "overflow": null,
            "overflow_x": null,
            "overflow_y": null,
            "padding": null,
            "right": null,
            "top": null,
            "visibility": null,
            "width": null
          }
        },
        "4d40b7ad4cd54ce897705add5ad1db99": {
          "model_module": "@jupyter-widgets/controls",
          "model_name": "DescriptionStyleModel",
          "model_module_version": "1.5.0",
          "state": {
            "_model_module": "@jupyter-widgets/controls",
            "_model_module_version": "1.5.0",
            "_model_name": "DescriptionStyleModel",
            "_view_count": null,
            "_view_module": "@jupyter-widgets/base",
            "_view_module_version": "1.2.0",
            "_view_name": "StyleView",
            "description_width": ""
          }
        },
        "d21b44c50f94412fb545919110cc0157": {
          "model_module": "@jupyter-widgets/controls",
          "model_name": "HBoxModel",
          "model_module_version": "1.5.0",
          "state": {
            "_dom_classes": [],
            "_model_module": "@jupyter-widgets/controls",
            "_model_module_version": "1.5.0",
            "_model_name": "HBoxModel",
            "_view_count": null,
            "_view_module": "@jupyter-widgets/controls",
            "_view_module_version": "1.5.0",
            "_view_name": "HBoxView",
            "box_style": "",
            "children": [
              "IPY_MODEL_e9a0a1e327354a67a89c5a6522ac3b04",
              "IPY_MODEL_480853c6b5d5443d915747a30f42026f",
              "IPY_MODEL_0852afe1b3454c45911b12ea54b9686f"
            ],
            "layout": "IPY_MODEL_f0d0931e9668458eaa0998e183421661"
          }
        },
        "e9a0a1e327354a67a89c5a6522ac3b04": {
          "model_module": "@jupyter-widgets/controls",
          "model_name": "HTMLModel",
          "model_module_version": "1.5.0",
          "state": {
            "_dom_classes": [],
            "_model_module": "@jupyter-widgets/controls",
            "_model_module_version": "1.5.0",
            "_model_name": "HTMLModel",
            "_view_count": null,
            "_view_module": "@jupyter-widgets/controls",
            "_view_module_version": "1.5.0",
            "_view_name": "HTMLView",
            "description": "",
            "description_tooltip": null,
            "layout": "IPY_MODEL_9069cbd0a68e4273b04679169e014f38",
            "placeholder": "​",
            "style": "IPY_MODEL_b7719de98aa74c14bd50c7a4c465a6e3",
            "value": "Downloading: 100%"
          }
        },
        "480853c6b5d5443d915747a30f42026f": {
          "model_module": "@jupyter-widgets/controls",
          "model_name": "FloatProgressModel",
          "model_module_version": "1.5.0",
          "state": {
            "_dom_classes": [],
            "_model_module": "@jupyter-widgets/controls",
            "_model_module_version": "1.5.0",
            "_model_name": "FloatProgressModel",
            "_view_count": null,
            "_view_module": "@jupyter-widgets/controls",
            "_view_module_version": "1.5.0",
            "_view_name": "ProgressView",
            "bar_style": "success",
            "description": "",
            "description_tooltip": null,
            "layout": "IPY_MODEL_7faebfdd0c054131a02de498f4acc2be",
            "max": 625,
            "min": 0,
            "orientation": "horizontal",
            "style": "IPY_MODEL_1d3a4468f3374c14b4368a8bd53e6645",
            "value": 625
          }
        },
        "0852afe1b3454c45911b12ea54b9686f": {
          "model_module": "@jupyter-widgets/controls",
          "model_name": "HTMLModel",
          "model_module_version": "1.5.0",
          "state": {
            "_dom_classes": [],
            "_model_module": "@jupyter-widgets/controls",
            "_model_module_version": "1.5.0",
            "_model_name": "HTMLModel",
            "_view_count": null,
            "_view_module": "@jupyter-widgets/controls",
            "_view_module_version": "1.5.0",
            "_view_name": "HTMLView",
            "description": "",
            "description_tooltip": null,
            "layout": "IPY_MODEL_36996534111644a59c8773ee61b69951",
            "placeholder": "​",
            "style": "IPY_MODEL_1900d56e3e5142d29cf98a7efd583d12",
            "value": " 625/625 [00:00&lt;00:00, 10.3kB/s]"
          }
        },
        "f0d0931e9668458eaa0998e183421661": {
          "model_module": "@jupyter-widgets/base",
          "model_name": "LayoutModel",
          "model_module_version": "1.2.0",
          "state": {
            "_model_module": "@jupyter-widgets/base",
            "_model_module_version": "1.2.0",
            "_model_name": "LayoutModel",
            "_view_count": null,
            "_view_module": "@jupyter-widgets/base",
            "_view_module_version": "1.2.0",
            "_view_name": "LayoutView",
            "align_content": null,
            "align_items": null,
            "align_self": null,
            "border": null,
            "bottom": null,
            "display": null,
            "flex": null,
            "flex_flow": null,
            "grid_area": null,
            "grid_auto_columns": null,
            "grid_auto_flow": null,
            "grid_auto_rows": null,
            "grid_column": null,
            "grid_gap": null,
            "grid_row": null,
            "grid_template_areas": null,
            "grid_template_columns": null,
            "grid_template_rows": null,
            "height": null,
            "justify_content": null,
            "justify_items": null,
            "left": null,
            "margin": null,
            "max_height": null,
            "max_width": null,
            "min_height": null,
            "min_width": null,
            "object_fit": null,
            "object_position": null,
            "order": null,
            "overflow": null,
            "overflow_x": null,
            "overflow_y": null,
            "padding": null,
            "right": null,
            "top": null,
            "visibility": null,
            "width": null
          }
        },
        "9069cbd0a68e4273b04679169e014f38": {
          "model_module": "@jupyter-widgets/base",
          "model_name": "LayoutModel",
          "model_module_version": "1.2.0",
          "state": {
            "_model_module": "@jupyter-widgets/base",
            "_model_module_version": "1.2.0",
            "_model_name": "LayoutModel",
            "_view_count": null,
            "_view_module": "@jupyter-widgets/base",
            "_view_module_version": "1.2.0",
            "_view_name": "LayoutView",
            "align_content": null,
            "align_items": null,
            "align_self": null,
            "border": null,
            "bottom": null,
            "display": null,
            "flex": null,
            "flex_flow": null,
            "grid_area": null,
            "grid_auto_columns": null,
            "grid_auto_flow": null,
            "grid_auto_rows": null,
            "grid_column": null,
            "grid_gap": null,
            "grid_row": null,
            "grid_template_areas": null,
            "grid_template_columns": null,
            "grid_template_rows": null,
            "height": null,
            "justify_content": null,
            "justify_items": null,
            "left": null,
            "margin": null,
            "max_height": null,
            "max_width": null,
            "min_height": null,
            "min_width": null,
            "object_fit": null,
            "object_position": null,
            "order": null,
            "overflow": null,
            "overflow_x": null,
            "overflow_y": null,
            "padding": null,
            "right": null,
            "top": null,
            "visibility": null,
            "width": null
          }
        },
        "b7719de98aa74c14bd50c7a4c465a6e3": {
          "model_module": "@jupyter-widgets/controls",
          "model_name": "DescriptionStyleModel",
          "model_module_version": "1.5.0",
          "state": {
            "_model_module": "@jupyter-widgets/controls",
            "_model_module_version": "1.5.0",
            "_model_name": "DescriptionStyleModel",
            "_view_count": null,
            "_view_module": "@jupyter-widgets/base",
            "_view_module_version": "1.2.0",
            "_view_name": "StyleView",
            "description_width": ""
          }
        },
        "7faebfdd0c054131a02de498f4acc2be": {
          "model_module": "@jupyter-widgets/base",
          "model_name": "LayoutModel",
          "model_module_version": "1.2.0",
          "state": {
            "_model_module": "@jupyter-widgets/base",
            "_model_module_version": "1.2.0",
            "_model_name": "LayoutModel",
            "_view_count": null,
            "_view_module": "@jupyter-widgets/base",
            "_view_module_version": "1.2.0",
            "_view_name": "LayoutView",
            "align_content": null,
            "align_items": null,
            "align_self": null,
            "border": null,
            "bottom": null,
            "display": null,
            "flex": null,
            "flex_flow": null,
            "grid_area": null,
            "grid_auto_columns": null,
            "grid_auto_flow": null,
            "grid_auto_rows": null,
            "grid_column": null,
            "grid_gap": null,
            "grid_row": null,
            "grid_template_areas": null,
            "grid_template_columns": null,
            "grid_template_rows": null,
            "height": null,
            "justify_content": null,
            "justify_items": null,
            "left": null,
            "margin": null,
            "max_height": null,
            "max_width": null,
            "min_height": null,
            "min_width": null,
            "object_fit": null,
            "object_position": null,
            "order": null,
            "overflow": null,
            "overflow_x": null,
            "overflow_y": null,
            "padding": null,
            "right": null,
            "top": null,
            "visibility": null,
            "width": null
          }
        },
        "1d3a4468f3374c14b4368a8bd53e6645": {
          "model_module": "@jupyter-widgets/controls",
          "model_name": "ProgressStyleModel",
          "model_module_version": "1.5.0",
          "state": {
            "_model_module": "@jupyter-widgets/controls",
            "_model_module_version": "1.5.0",
            "_model_name": "ProgressStyleModel",
            "_view_count": null,
            "_view_module": "@jupyter-widgets/base",
            "_view_module_version": "1.2.0",
            "_view_name": "StyleView",
            "bar_color": null,
            "description_width": ""
          }
        },
        "36996534111644a59c8773ee61b69951": {
          "model_module": "@jupyter-widgets/base",
          "model_name": "LayoutModel",
          "model_module_version": "1.2.0",
          "state": {
            "_model_module": "@jupyter-widgets/base",
            "_model_module_version": "1.2.0",
            "_model_name": "LayoutModel",
            "_view_count": null,
            "_view_module": "@jupyter-widgets/base",
            "_view_module_version": "1.2.0",
            "_view_name": "LayoutView",
            "align_content": null,
            "align_items": null,
            "align_self": null,
            "border": null,
            "bottom": null,
            "display": null,
            "flex": null,
            "flex_flow": null,
            "grid_area": null,
            "grid_auto_columns": null,
            "grid_auto_flow": null,
            "grid_auto_rows": null,
            "grid_column": null,
            "grid_gap": null,
            "grid_row": null,
            "grid_template_areas": null,
            "grid_template_columns": null,
            "grid_template_rows": null,
            "height": null,
            "justify_content": null,
            "justify_items": null,
            "left": null,
            "margin": null,
            "max_height": null,
            "max_width": null,
            "min_height": null,
            "min_width": null,
            "object_fit": null,
            "object_position": null,
            "order": null,
            "overflow": null,
            "overflow_x": null,
            "overflow_y": null,
            "padding": null,
            "right": null,
            "top": null,
            "visibility": null,
            "width": null
          }
        },
        "1900d56e3e5142d29cf98a7efd583d12": {
          "model_module": "@jupyter-widgets/controls",
          "model_name": "DescriptionStyleModel",
          "model_module_version": "1.5.0",
          "state": {
            "_model_module": "@jupyter-widgets/controls",
            "_model_module_version": "1.5.0",
            "_model_name": "DescriptionStyleModel",
            "_view_count": null,
            "_view_module": "@jupyter-widgets/base",
            "_view_module_version": "1.2.0",
            "_view_name": "StyleView",
            "description_width": ""
          }
        },
        "495a6d6ca4c84b749dbfc1d11e007950": {
          "model_module": "@jupyter-widgets/controls",
          "model_name": "HBoxModel",
          "model_module_version": "1.5.0",
          "state": {
            "_dom_classes": [],
            "_model_module": "@jupyter-widgets/controls",
            "_model_module_version": "1.5.0",
            "_model_name": "HBoxModel",
            "_view_count": null,
            "_view_module": "@jupyter-widgets/controls",
            "_view_module_version": "1.5.0",
            "_view_name": "HBoxView",
            "box_style": "",
            "children": [
              "IPY_MODEL_0ddc0a9598e04be89920bd3eb7780ce2",
              "IPY_MODEL_f6b7cc76c3dd4b55b27b1be893ab481d",
              "IPY_MODEL_1c6a04f55b1f42089e72d6db6842b3f1"
            ],
            "layout": "IPY_MODEL_ed75b728d48940d881b63855e11efc31"
          }
        },
        "0ddc0a9598e04be89920bd3eb7780ce2": {
          "model_module": "@jupyter-widgets/controls",
          "model_name": "HTMLModel",
          "model_module_version": "1.5.0",
          "state": {
            "_dom_classes": [],
            "_model_module": "@jupyter-widgets/controls",
            "_model_module_version": "1.5.0",
            "_model_name": "HTMLModel",
            "_view_count": null,
            "_view_module": "@jupyter-widgets/controls",
            "_view_module_version": "1.5.0",
            "_view_name": "HTMLView",
            "description": "",
            "description_tooltip": null,
            "layout": "IPY_MODEL_813fb35b9d1d425d841b662c9c2139a1",
            "placeholder": "​",
            "style": "IPY_MODEL_e4134c5c1429459cb288db7854b5deba",
            "value": "Downloading: 100%"
          }
        },
        "f6b7cc76c3dd4b55b27b1be893ab481d": {
          "model_module": "@jupyter-widgets/controls",
          "model_name": "FloatProgressModel",
          "model_module_version": "1.5.0",
          "state": {
            "_dom_classes": [],
            "_model_module": "@jupyter-widgets/controls",
            "_model_module_version": "1.5.0",
            "_model_name": "FloatProgressModel",
            "_view_count": null,
            "_view_module": "@jupyter-widgets/controls",
            "_view_module_version": "1.5.0",
            "_view_name": "ProgressView",
            "bar_style": "success",
            "description": "",
            "description_tooltip": null,
            "layout": "IPY_MODEL_b3bc4a8527ae462ab3dff73edf3577c6",
            "max": 1083389348,
            "min": 0,
            "orientation": "horizontal",
            "style": "IPY_MODEL_f1e752ca11884044aee7ebf95055c376",
            "value": 1083389348
          }
        },
        "1c6a04f55b1f42089e72d6db6842b3f1": {
          "model_module": "@jupyter-widgets/controls",
          "model_name": "HTMLModel",
          "model_module_version": "1.5.0",
          "state": {
            "_dom_classes": [],
            "_model_module": "@jupyter-widgets/controls",
            "_model_module_version": "1.5.0",
            "_model_name": "HTMLModel",
            "_view_count": null,
            "_view_module": "@jupyter-widgets/controls",
            "_view_module_version": "1.5.0",
            "_view_name": "HTMLView",
            "description": "",
            "description_tooltip": null,
            "layout": "IPY_MODEL_e0fe11a5e1a443168d72061af459e61b",
            "placeholder": "​",
            "style": "IPY_MODEL_f34d3b575dca45c492cdd7a78406846b",
            "value": " 1.08G/1.08G [00:18&lt;00:00, 64.2MB/s]"
          }
        },
        "ed75b728d48940d881b63855e11efc31": {
          "model_module": "@jupyter-widgets/base",
          "model_name": "LayoutModel",
          "model_module_version": "1.2.0",
          "state": {
            "_model_module": "@jupyter-widgets/base",
            "_model_module_version": "1.2.0",
            "_model_name": "LayoutModel",
            "_view_count": null,
            "_view_module": "@jupyter-widgets/base",
            "_view_module_version": "1.2.0",
            "_view_name": "LayoutView",
            "align_content": null,
            "align_items": null,
            "align_self": null,
            "border": null,
            "bottom": null,
            "display": null,
            "flex": null,
            "flex_flow": null,
            "grid_area": null,
            "grid_auto_columns": null,
            "grid_auto_flow": null,
            "grid_auto_rows": null,
            "grid_column": null,
            "grid_gap": null,
            "grid_row": null,
            "grid_template_areas": null,
            "grid_template_columns": null,
            "grid_template_rows": null,
            "height": null,
            "justify_content": null,
            "justify_items": null,
            "left": null,
            "margin": null,
            "max_height": null,
            "max_width": null,
            "min_height": null,
            "min_width": null,
            "object_fit": null,
            "object_position": null,
            "order": null,
            "overflow": null,
            "overflow_x": null,
            "overflow_y": null,
            "padding": null,
            "right": null,
            "top": null,
            "visibility": null,
            "width": null
          }
        },
        "813fb35b9d1d425d841b662c9c2139a1": {
          "model_module": "@jupyter-widgets/base",
          "model_name": "LayoutModel",
          "model_module_version": "1.2.0",
          "state": {
            "_model_module": "@jupyter-widgets/base",
            "_model_module_version": "1.2.0",
            "_model_name": "LayoutModel",
            "_view_count": null,
            "_view_module": "@jupyter-widgets/base",
            "_view_module_version": "1.2.0",
            "_view_name": "LayoutView",
            "align_content": null,
            "align_items": null,
            "align_self": null,
            "border": null,
            "bottom": null,
            "display": null,
            "flex": null,
            "flex_flow": null,
            "grid_area": null,
            "grid_auto_columns": null,
            "grid_auto_flow": null,
            "grid_auto_rows": null,
            "grid_column": null,
            "grid_gap": null,
            "grid_row": null,
            "grid_template_areas": null,
            "grid_template_columns": null,
            "grid_template_rows": null,
            "height": null,
            "justify_content": null,
            "justify_items": null,
            "left": null,
            "margin": null,
            "max_height": null,
            "max_width": null,
            "min_height": null,
            "min_width": null,
            "object_fit": null,
            "object_position": null,
            "order": null,
            "overflow": null,
            "overflow_x": null,
            "overflow_y": null,
            "padding": null,
            "right": null,
            "top": null,
            "visibility": null,
            "width": null
          }
        },
        "e4134c5c1429459cb288db7854b5deba": {
          "model_module": "@jupyter-widgets/controls",
          "model_name": "DescriptionStyleModel",
          "model_module_version": "1.5.0",
          "state": {
            "_model_module": "@jupyter-widgets/controls",
            "_model_module_version": "1.5.0",
            "_model_name": "DescriptionStyleModel",
            "_view_count": null,
            "_view_module": "@jupyter-widgets/base",
            "_view_module_version": "1.2.0",
            "_view_name": "StyleView",
            "description_width": ""
          }
        },
        "b3bc4a8527ae462ab3dff73edf3577c6": {
          "model_module": "@jupyter-widgets/base",
          "model_name": "LayoutModel",
          "model_module_version": "1.2.0",
          "state": {
            "_model_module": "@jupyter-widgets/base",
            "_model_module_version": "1.2.0",
            "_model_name": "LayoutModel",
            "_view_count": null,
            "_view_module": "@jupyter-widgets/base",
            "_view_module_version": "1.2.0",
            "_view_name": "LayoutView",
            "align_content": null,
            "align_items": null,
            "align_self": null,
            "border": null,
            "bottom": null,
            "display": null,
            "flex": null,
            "flex_flow": null,
            "grid_area": null,
            "grid_auto_columns": null,
            "grid_auto_flow": null,
            "grid_auto_rows": null,
            "grid_column": null,
            "grid_gap": null,
            "grid_row": null,
            "grid_template_areas": null,
            "grid_template_columns": null,
            "grid_template_rows": null,
            "height": null,
            "justify_content": null,
            "justify_items": null,
            "left": null,
            "margin": null,
            "max_height": null,
            "max_width": null,
            "min_height": null,
            "min_width": null,
            "object_fit": null,
            "object_position": null,
            "order": null,
            "overflow": null,
            "overflow_x": null,
            "overflow_y": null,
            "padding": null,
            "right": null,
            "top": null,
            "visibility": null,
            "width": null
          }
        },
        "f1e752ca11884044aee7ebf95055c376": {
          "model_module": "@jupyter-widgets/controls",
          "model_name": "ProgressStyleModel",
          "model_module_version": "1.5.0",
          "state": {
            "_model_module": "@jupyter-widgets/controls",
            "_model_module_version": "1.5.0",
            "_model_name": "ProgressStyleModel",
            "_view_count": null,
            "_view_module": "@jupyter-widgets/base",
            "_view_module_version": "1.2.0",
            "_view_name": "StyleView",
            "bar_color": null,
            "description_width": ""
          }
        },
        "e0fe11a5e1a443168d72061af459e61b": {
          "model_module": "@jupyter-widgets/base",
          "model_name": "LayoutModel",
          "model_module_version": "1.2.0",
          "state": {
            "_model_module": "@jupyter-widgets/base",
            "_model_module_version": "1.2.0",
            "_model_name": "LayoutModel",
            "_view_count": null,
            "_view_module": "@jupyter-widgets/base",
            "_view_module_version": "1.2.0",
            "_view_name": "LayoutView",
            "align_content": null,
            "align_items": null,
            "align_self": null,
            "border": null,
            "bottom": null,
            "display": null,
            "flex": null,
            "flex_flow": null,
            "grid_area": null,
            "grid_auto_columns": null,
            "grid_auto_flow": null,
            "grid_auto_rows": null,
            "grid_column": null,
            "grid_gap": null,
            "grid_row": null,
            "grid_template_areas": null,
            "grid_template_columns": null,
            "grid_template_rows": null,
            "height": null,
            "justify_content": null,
            "justify_items": null,
            "left": null,
            "margin": null,
            "max_height": null,
            "max_width": null,
            "min_height": null,
            "min_width": null,
            "object_fit": null,
            "object_position": null,
            "order": null,
            "overflow": null,
            "overflow_x": null,
            "overflow_y": null,
            "padding": null,
            "right": null,
            "top": null,
            "visibility": null,
            "width": null
          }
        },
        "f34d3b575dca45c492cdd7a78406846b": {
          "model_module": "@jupyter-widgets/controls",
          "model_name": "DescriptionStyleModel",
          "model_module_version": "1.5.0",
          "state": {
            "_model_module": "@jupyter-widgets/controls",
            "_model_module_version": "1.5.0",
            "_model_name": "DescriptionStyleModel",
            "_view_count": null,
            "_view_module": "@jupyter-widgets/base",
            "_view_module_version": "1.2.0",
            "_view_name": "StyleView",
            "description_width": ""
          }
        }
      }
    }
  },
  "cells": [
    {
      "cell_type": "markdown",
      "metadata": {
        "id": "view-in-github",
        "colab_type": "text"
      },
      "source": [
        "<a href=\"https://colab.research.google.com/github/chararchter/intent-detection/blob/master/intent_detection.ipynb\" target=\"_parent\"><img src=\"https://colab.research.google.com/assets/colab-badge.svg\" alt=\"Open In Colab\"/></a>"
      ]
    },
    {
      "cell_type": "code",
      "execution_count": 1,
      "metadata": {
        "id": "jEP12XTE1Zva",
        "colab": {
          "base_uri": "https://localhost:8080/"
        },
        "outputId": "6d755f49-cbb4-4d37-c668-96e7cb8a4978"
      },
      "outputs": [
        {
          "output_type": "stream",
          "name": "stdout",
          "text": [
            "Looking in indexes: https://pypi.org/simple, https://us-python.pkg.dev/colab-wheels/public/simple/\n",
            "Collecting transformers\n",
            "  Downloading transformers-4.25.1-py3-none-any.whl (5.8 MB)\n",
            "\u001b[K     |████████████████████████████████| 5.8 MB 7.0 MB/s \n",
            "\u001b[?25hCollecting tokenizers!=0.11.3,<0.14,>=0.11.1\n",
            "  Downloading tokenizers-0.13.2-cp38-cp38-manylinux_2_17_x86_64.manylinux2014_x86_64.whl (7.6 MB)\n",
            "\u001b[K     |████████████████████████████████| 7.6 MB 40.4 MB/s \n",
            "\u001b[?25hRequirement already satisfied: regex!=2019.12.17 in /usr/local/lib/python3.8/dist-packages (from transformers) (2022.6.2)\n",
            "Requirement already satisfied: requests in /usr/local/lib/python3.8/dist-packages (from transformers) (2.23.0)\n",
            "Requirement already satisfied: pyyaml>=5.1 in /usr/local/lib/python3.8/dist-packages (from transformers) (6.0)\n",
            "Requirement already satisfied: packaging>=20.0 in /usr/local/lib/python3.8/dist-packages (from transformers) (21.3)\n",
            "Collecting huggingface-hub<1.0,>=0.10.0\n",
            "  Downloading huggingface_hub-0.11.1-py3-none-any.whl (182 kB)\n",
            "\u001b[K     |████████████████████████████████| 182 kB 43.8 MB/s \n",
            "\u001b[?25hRequirement already satisfied: filelock in /usr/local/lib/python3.8/dist-packages (from transformers) (3.8.0)\n",
            "Requirement already satisfied: tqdm>=4.27 in /usr/local/lib/python3.8/dist-packages (from transformers) (4.64.1)\n",
            "Requirement already satisfied: numpy>=1.17 in /usr/local/lib/python3.8/dist-packages (from transformers) (1.21.6)\n",
            "Requirement already satisfied: typing-extensions>=3.7.4.3 in /usr/local/lib/python3.8/dist-packages (from huggingface-hub<1.0,>=0.10.0->transformers) (4.4.0)\n",
            "Requirement already satisfied: pyparsing!=3.0.5,>=2.0.2 in /usr/local/lib/python3.8/dist-packages (from packaging>=20.0->transformers) (3.0.9)\n",
            "Requirement already satisfied: urllib3!=1.25.0,!=1.25.1,<1.26,>=1.21.1 in /usr/local/lib/python3.8/dist-packages (from requests->transformers) (1.24.3)\n",
            "Requirement already satisfied: certifi>=2017.4.17 in /usr/local/lib/python3.8/dist-packages (from requests->transformers) (2022.9.24)\n",
            "Requirement already satisfied: idna<3,>=2.5 in /usr/local/lib/python3.8/dist-packages (from requests->transformers) (2.10)\n",
            "Requirement already satisfied: chardet<4,>=3.0.2 in /usr/local/lib/python3.8/dist-packages (from requests->transformers) (3.0.4)\n",
            "Installing collected packages: tokenizers, huggingface-hub, transformers\n",
            "Successfully installed huggingface-hub-0.11.1 tokenizers-0.13.2 transformers-4.25.1\n"
          ]
        }
      ],
      "source": [
        "!pip install transformers\n",
        "# !pip install datasets\n",
        "# !pip install PyGithub\n",
        "# !pip install dagshub"
      ]
    },
    {
      "cell_type": "code",
      "source": [
        "import os\n",
        "from pathlib import Path\n",
        "from typing import List\n",
        "\n",
        "from transformers import AutoModelForSequenceClassification, AutoTokenizer\n",
        "from transformers import BertTokenizer, TFBertModel\n",
        "\n",
        "# to mount google drive and access NLU-datasets\n",
        "from google.colab import drive\n",
        "\n",
        "# imports from NLU-datasets\n",
        "import tensorflow as tf\n",
        "\n",
        "from keras.utils.vis_utils import plot_model\n",
        "from keras.models import Sequential, Model\n",
        "from keras.layers import (Dense, Activation, Conv1D, MaxPooling1D, \n",
        "                          Dropout, Flatten, Input, Add, Average,\n",
        "                          LSTM, Lambda, AveragePooling1D,\n",
        "                          Reshape)\n",
        "from keras.callbacks import TensorBoard\n",
        "from tensorflow.keras.optimizers import SGD, Adam\n",
        "from keras import regularizers\n",
        "from keras import backend as K\n",
        "from sklearn.model_selection import StratifiedKFold"
      ],
      "metadata": {
        "id": "rPkjjO49zRpN"
      },
      "execution_count": 38,
      "outputs": []
    },
    {
      "cell_type": "markdown",
      "source": [
        "Mount google drive to access NLU-datasets https://github.com/tilde-nlp/NLU-datasets that I presaved in my google drive in NLU-datasets directory. This will trigger a pop up window that asks for permission to access google drive.\n",
        "\n",
        "TODO: Upload it to huggingface and use directly from there https://huggingface.co/docs/datasets/upload_dataset (the dataset has Creative Commons Attribution-ShareAlike 4.0 International License, which allows it)"
      ],
      "metadata": {
        "id": "9UWpPBl3Ebjj"
      }
    },
    {
      "cell_type": "code",
      "source": [
        "drive.mount('/content/drive')"
      ],
      "metadata": {
        "colab": {
          "base_uri": "https://localhost:8080/"
        },
        "id": "N-8kRT0F24H2",
        "outputId": "c427a364-83a8-4382-d7bd-7121d709a115"
      },
      "execution_count": 3,
      "outputs": [
        {
          "output_type": "stream",
          "name": "stdout",
          "text": [
            "Mounted at /content/drive\n"
          ]
        }
      ]
    },
    {
      "cell_type": "code",
      "source": [
        "if \"NLU-datasets\" not in os.getcwd():\n",
        "  os.chdir(\"drive/My Drive/NLU-datasets\")"
      ],
      "metadata": {
        "id": "xc-cNkn_3RT9"
      },
      "execution_count": 4,
      "outputs": []
    },
    {
      "cell_type": "code",
      "source": [
        "!ls"
      ],
      "metadata": {
        "colab": {
          "base_uri": "https://localhost:8080/"
        },
        "id": "2yGYNtrJ3pOG",
        "outputId": "2f420bf0-ad41-41f6-d19f-309b33d30cae"
      },
      "execution_count": 5,
      "outputs": [
        {
          "output_type": "stream",
          "name": "stdout",
          "text": [
            "askubuntu  chatbot  README.md  webapps\n"
          ]
        }
      ]
    },
    {
      "cell_type": "code",
      "source": [
        "def get_data(path: str) -> List[str]:\n",
        "  with open(path) as f:\n",
        "    array = []\n",
        "    for line in list(f):\n",
        "      array.append(line.split('\\n')[0])\n",
        "    return array\n",
        "\n",
        "\n",
        "pathlist = Path(\"chatbot\").glob(\"**/*.txt\")\n",
        "\n",
        "for path in pathlist:\n",
        "  # because path is object not string\n",
        "  path_in_str = str(path)\n",
        "  print(path_in_str)\n",
        "  if path_in_str == \"chatbot/chatbot_train_ans.txt\":\n",
        "    chatbot_train_ans = get_data(path_in_str)\n",
        "  elif path_in_str == \"chatbot/chatbot_test_ans.txt\":\n",
        "    chatbot_test_ans  = get_data(path_in_str)\n",
        "  elif path_in_str == \"chatbot/en/chatbot_test_q.txt\":\n",
        "    en_test  = get_data(path_in_str)\n",
        "  elif path_in_str == \"chatbot/en/chatbot_train_q.txt\":\n",
        "    en_train  = get_data(path_in_str)\n",
        "  elif path_in_str == \"chatbot/lv/chatbot_test_q.txt\":\n",
        "    lv_test  = get_data(path_in_str)\n",
        "  elif path_in_str == \"chatbot/lv/chatbot_train_q.txt\":\n",
        "    lv_train  = get_data(path_in_str)\n",
        "\n",
        "print(chatbot_train_ans)\n",
        "print(chatbot_test_ans)\n",
        "print(en_test)"
      ],
      "metadata": {
        "colab": {
          "base_uri": "https://localhost:8080/"
        },
        "id": "DVT2iJ687_Hj",
        "outputId": "991e76e2-8bc0-4c76-921c-03086e1517f6"
      },
      "execution_count": 6,
      "outputs": [
        {
          "output_type": "stream",
          "name": "stdout",
          "text": [
            "chatbot/chatbot_train_ans.txt\n",
            "chatbot/chatbot_test_ans.txt\n",
            "chatbot/en/chatbot_test_q.txt\n",
            "chatbot/en/chatbot_train_q.txt\n",
            "chatbot/lv/chatbot_test_q.txt\n",
            "chatbot/lv/chatbot_train_q.txt\n",
            "chatbot/et/chatbot_train_q.txt\n",
            "chatbot/et/chatbot_test_q.txt\n",
            "chatbot/ru/chatbot_train_q.txt\n",
            "chatbot/ru/chatbot_test_q.txt\n",
            "chatbot/lt/chatbot_test_q.txt\n",
            "chatbot/lt/chatbot_train_q.txt\n",
            "['FindConnection', 'FindConnection', 'FindConnection', 'FindConnection', 'FindConnection', 'FindConnection', 'FindConnection', 'FindConnection', 'FindConnection', 'FindConnection', 'FindConnection', 'FindConnection', 'FindConnection', 'FindConnection', 'FindConnection', 'FindConnection', 'FindConnection', 'FindConnection', 'FindConnection', 'FindConnection', 'FindConnection', 'DepartureTime', 'FindConnection', 'FindConnection', 'DepartureTime', 'FindConnection', 'FindConnection', 'FindConnection', 'FindConnection', 'FindConnection', 'FindConnection', 'DepartureTime', 'DepartureTime', 'DepartureTime', 'DepartureTime', 'DepartureTime', 'DepartureTime', 'DepartureTime', 'DepartureTime', 'DepartureTime', 'DepartureTime', 'DepartureTime', 'DepartureTime', 'DepartureTime', 'DepartureTime', 'DepartureTime', 'DepartureTime', 'DepartureTime', 'DepartureTime', 'DepartureTime', 'DepartureTime', 'DepartureTime', 'DepartureTime', 'DepartureTime', 'DepartureTime', 'DepartureTime', 'DepartureTime', 'DepartureTime', 'DepartureTime', 'DepartureTime', 'DepartureTime', 'DepartureTime', 'FindConnection', 'DepartureTime', 'FindConnection', 'FindConnection', 'FindConnection', 'FindConnection', 'DepartureTime', 'DepartureTime', 'DepartureTime', 'DepartureTime', 'FindConnection', 'FindConnection', 'FindConnection', 'FindConnection', 'FindConnection', 'FindConnection', 'FindConnection', 'DepartureTime', 'FindConnection', 'FindConnection', 'FindConnection', 'FindConnection', 'DepartureTime', 'FindConnection', 'FindConnection', 'FindConnection', 'FindConnection', 'FindConnection', 'FindConnection', 'FindConnection', 'FindConnection', 'DepartureTime', 'DepartureTime', 'FindConnection', 'FindConnection', 'DepartureTime', 'FindConnection', 'FindConnection']\n",
            "['FindConnection', 'DepartureTime', 'DepartureTime', 'FindConnection', 'FindConnection', 'FindConnection', 'FindConnection', 'FindConnection', 'FindConnection', 'FindConnection', 'FindConnection', 'DepartureTime', 'FindConnection', 'FindConnection', 'FindConnection', 'FindConnection', 'FindConnection', 'DepartureTime', 'FindConnection', 'FindConnection', 'FindConnection', 'DepartureTime', 'FindConnection', 'FindConnection', 'FindConnection', 'FindConnection', 'DepartureTime', 'FindConnection', 'FindConnection', 'FindConnection', 'FindConnection', 'FindConnection', 'DepartureTime', 'FindConnection', 'DepartureTime', 'FindConnection', 'DepartureTime', 'FindConnection', 'FindConnection', 'FindConnection', 'FindConnection', 'FindConnection', 'FindConnection', 'FindConnection', 'DepartureTime', 'FindConnection', 'DepartureTime', 'FindConnection', 'FindConnection', 'DepartureTime', 'DepartureTime', 'DepartureTime', 'DepartureTime', 'DepartureTime', 'DepartureTime', 'DepartureTime', 'FindConnection', 'DepartureTime', 'FindConnection', 'DepartureTime', 'FindConnection', 'DepartureTime', 'DepartureTime', 'DepartureTime', 'DepartureTime', 'FindConnection', 'FindConnection', 'FindConnection', 'FindConnection', 'FindConnection', 'FindConnection', 'FindConnection', 'FindConnection', 'FindConnection', 'FindConnection', 'FindConnection', 'FindConnection', 'FindConnection', 'DepartureTime', 'FindConnection', 'FindConnection', 'FindConnection', 'FindConnection', 'DepartureTime', 'DepartureTime', 'DepartureTime', 'DepartureTime', 'DepartureTime', 'DepartureTime', 'FindConnection', 'FindConnection', 'FindConnection', 'FindConnection', 'DepartureTime', 'FindConnection', 'FindConnection', 'DepartureTime', 'DepartureTime', 'FindConnection', 'FindConnection', 'FindConnection', 'FindConnection', 'FindConnection', 'FindConnection', 'DepartureTime', 'FindConnection']\n",
            "['i want to go marienplatz', 'when is the next train in muncher freiheit?', 'when does the next u-bahn leaves from garching forschungszentrum?', 'from olympia einkaufszentrum to hauptbahnhof', 'when is the next train from winterstraße 12 to kieferngarten', 'when is the next rocket from winterstraße 12 to kieferngarte', 'can you find a connection from garching to hauptbahnhof?', 'how to get from untere strassäcker 21 to fröttmaning', 'how i can get from marienplatz to garching', 'connection from boltzmannstraße to kieferngarten', 'how to get from bonner platz to freimann?', 'when is the next s-bahn leaving at garching?', 'how do i get from oez to hbf?', 'how to get from winterstrasse 12 to fröttmaning', 'how do i get from garching forschungszentrum to pasing', 'theresienstraße to assling', 'how can i get from theresienstraße to munich east?', 'when does the next bus starts from garching?', 'from quiddestraße to garching?', 'can you find a connection from kurt-eisner-straße to garching forschungszentrum?', 'can you find a connection from quiddestraße to garching forschungszentrum?', 'when does the next train leaves at garching?', 'from hauptbahnhof to garching?', 'how can i get to glockenbachviertel from garching forschungszentrum?', 'how i can get from garching to nordfriedhof', 'how can i get to glockenbachviertel from garching forschungszentrum?', 'when is the next train leaving in garching forschungszentrum', 'how can i get from moosach to quiddestraße?', 'how can i get from moosach to poccistraße?', 'how can i get from kurt-eisner-straße to garching forschungszentrum?', 'how can i get from moosach to quiddestraße?', 'how can i get from moosach to odeonsplatz?', 'when does the next bus starts at garching?', \"what's the shortest way from quiddestraße to odeonsplatz?\", 'when is the next bus from ostbahnhof', 'how i can get from garching to neuperlach sued', 'when is the next train in munchner freiheit?', 'how i can get from marienplatz to garching?', 'how do i get from poccistraße to laim', 'i want to go garching from marienplatz', 'how i can get from marienplatz to garching?', 'how can i get from hauptbahnhof to odeonsplatz', 'prinzregentenplatz to rotkreuzplatz', 'i want to go to garching from marienplatz', 'next train from garching', 'from prinzregentenplatz to rotkreuzplatz', 'when is the next subway from garching forschungszentrum', 'from garching to klinikum', 'from garching foschungszentrum to odeonsplatz', 'next bus in garching', 'when does the train leaving in garching forschungszentrum', 'next subway from garching forschungszentrum', 'tell me the next bus from garching', '\"next bus from garching, please.\"', 'next bus from garching', 'next bus from central station', 'from garching to marienplatz', 'next bus from garching.', 'connection from garching to hauptbahnhof?', 'when does the next bus departs from garching?', 'find connection from hauptbahnhof to odeonsplatz', 'when does the next u-bahn departs at garching forschungszentrum?', 'when does the next u-bahn departs at garching?', 'when does the next subway departs at garching', 'when is the next train in garching?', 'how to get from münchner freiheit to garching ?', 'implerstraße to ostbahnhof', 'how can i get from hauptbahnhof to odeonsplatz?', 'how can i go from garching forschungszentrum to prinzregentenplatz', 'how can i get from mangfallplatz to garching', 'how can i get to hohenlindenerstraße', 'harthaus to hackerbrücke', 'how can i get from feldmoching to garching forschungszentrum?', 'from marienplatz to petershausen', 'when is the train from garching to marienplatz', 'neufahrn to garching', 'how can i get from mangfallplatz to garching', 'how can i get to hohenlindenerstr', 'when is the next bus from garching forschungzentrum', 'how do i get from spitzingplatz to poccistraße?', 'how can i get from garching forschungszentrum to marienplatz', 'how can i get from klinkum to marienplatz?', 'how to get from alte heide to marienplatz', 'next train from muenchen freicheit', '\"depart in garching, i assume\"', 'when does the next u-bahn depart at garching?', 'the next bus from garching forschungzentrum', 'when is the next train in alte heide?', 'or depart from garching', 'hello munich city bot! how do i get from münchner freiheit to scheidplatz?', 'how can i get from garching forschungszentrum to prinzregentenplatz', 'how can i get from neufahrn to garching', 'take me to the airport', 'when does the next u6 leave from garching forschungszentrum', 'how i can get from munchner freiheit to nordfriedhof?', 'from harthaus to hackerbrücke', 'when is the train from garching', 'what is the next train from münchner freiheit', 'how can i get from theresienstrasse to garching forschungszentrum', 'how can i get from münchner freiheit to odeonsplatz', 'from garching to hauptbahnhof', 'how can i get from garching to odeonsplatz', 'start: neufahrn end:garching', 'how can i get from studentenstadt to garching', 'when is the next bus from garching', 'take me from hauptbahnhof to odeonsplatz']\n"
          ]
        }
      ]
    },
    {
      "cell_type": "code",
      "source": [
        "set(chatbot_train_ans)"
      ],
      "metadata": {
        "colab": {
          "base_uri": "https://localhost:8080/"
        },
        "id": "8OUDuGVZoA4m",
        "outputId": "6e284ff7-84f4-47df-ad49-51d209e1fcd0"
      },
      "execution_count": 23,
      "outputs": [
        {
          "output_type": "execute_result",
          "data": {
            "text/plain": [
              "{'DepartureTime', 'FindConnection'}"
            ]
          },
          "metadata": {},
          "execution_count": 23
        }
      ]
    },
    {
      "cell_type": "markdown",
      "source": [
        "what tokenizer does? what model does?\n",
        "\n",
        "enconded_input shape changes by increasing word count: 4 words: (1, 6), 5 words: (1, 9); 7 words: (1, 13) what shape should go into classifier? sentence vector or individual word vectors? what do input_ids, token_type_ids and attention_mask mean in encoded_input? which one should i pass to classifier? probably input_ids because its the only one different from 0 and 1\n"
      ],
      "metadata": {
        "id": "Cf7N2yoxOQ9g"
      }
    },
    {
      "cell_type": "code",
      "source": [
        "model_name = \"bert-base-multilingual-cased\"\n",
        "\n",
        "tokenizer = BertTokenizer.from_pretrained(model_name)\n",
        "model = TFBertModel.from_pretrained(model_name)"
      ],
      "metadata": {
        "colab": {
          "base_uri": "https://localhost:8080/",
          "height": 254,
          "referenced_widgets": [
            "a8710a91cdb149dcab4e84060326f65a",
            "0e4d829d066d4dbabae23c09a5531f4d",
            "3159236e93e548bd87f5708947a59c3a",
            "cf6cd653d9c848f7925c89bbcb4ba9b5",
            "87d9598d6d804683990bb67acd3ea2a5",
            "3b208ee501044bb7bced50d5ea8c0d71",
            "e551c866583c444d9a01cb81bf73ef2e",
            "6232ba3b4592482490881ce1cf3bcd51",
            "b948fd2b55394935b3563f4aee728022",
            "e558fcbcd6d74250adeb830d030c07db",
            "de588febd9ed4d2a9e799cda7da5caaf",
            "3f254814229d492b94c505e9f5d79b9a",
            "c238d991283b4aed8daab5bdf3b5199a",
            "4a27e1f7e99146bc889f296a413a509e",
            "2e795710c7ed4fceb719c99617e48f8b",
            "4d150f63ccd0439fab9d61c2efeccdd3",
            "e2018b2d5e6942ac8f363230ce0a5863",
            "eaf60ff7f8174ee9a7454bf12bd3ce65",
            "4428dba5b44a4180b5b6b255dc1f4e0c",
            "a61580962b124549b95019db444e440b",
            "f26d0979273942808e56b47de11bffb3",
            "4d40b7ad4cd54ce897705add5ad1db99",
            "d21b44c50f94412fb545919110cc0157",
            "e9a0a1e327354a67a89c5a6522ac3b04",
            "480853c6b5d5443d915747a30f42026f",
            "0852afe1b3454c45911b12ea54b9686f",
            "f0d0931e9668458eaa0998e183421661",
            "9069cbd0a68e4273b04679169e014f38",
            "b7719de98aa74c14bd50c7a4c465a6e3",
            "7faebfdd0c054131a02de498f4acc2be",
            "1d3a4468f3374c14b4368a8bd53e6645",
            "36996534111644a59c8773ee61b69951",
            "1900d56e3e5142d29cf98a7efd583d12",
            "495a6d6ca4c84b749dbfc1d11e007950",
            "0ddc0a9598e04be89920bd3eb7780ce2",
            "f6b7cc76c3dd4b55b27b1be893ab481d",
            "1c6a04f55b1f42089e72d6db6842b3f1",
            "ed75b728d48940d881b63855e11efc31",
            "813fb35b9d1d425d841b662c9c2139a1",
            "e4134c5c1429459cb288db7854b5deba",
            "b3bc4a8527ae462ab3dff73edf3577c6",
            "f1e752ca11884044aee7ebf95055c376",
            "e0fe11a5e1a443168d72061af459e61b",
            "f34d3b575dca45c492cdd7a78406846b"
          ]
        },
        "id": "vWlJLyQkkNls",
        "outputId": "8040371d-086d-4b35-8e5b-6d09b22bbf4e"
      },
      "execution_count": 7,
      "outputs": [
        {
          "output_type": "display_data",
          "data": {
            "text/plain": [
              "Downloading:   0%|          | 0.00/996k [00:00<?, ?B/s]"
            ],
            "application/vnd.jupyter.widget-view+json": {
              "version_major": 2,
              "version_minor": 0,
              "model_id": "a8710a91cdb149dcab4e84060326f65a"
            }
          },
          "metadata": {}
        },
        {
          "output_type": "display_data",
          "data": {
            "text/plain": [
              "Downloading:   0%|          | 0.00/29.0 [00:00<?, ?B/s]"
            ],
            "application/vnd.jupyter.widget-view+json": {
              "version_major": 2,
              "version_minor": 0,
              "model_id": "3f254814229d492b94c505e9f5d79b9a"
            }
          },
          "metadata": {}
        },
        {
          "output_type": "display_data",
          "data": {
            "text/plain": [
              "Downloading:   0%|          | 0.00/625 [00:00<?, ?B/s]"
            ],
            "application/vnd.jupyter.widget-view+json": {
              "version_major": 2,
              "version_minor": 0,
              "model_id": "d21b44c50f94412fb545919110cc0157"
            }
          },
          "metadata": {}
        },
        {
          "output_type": "display_data",
          "data": {
            "text/plain": [
              "Downloading:   0%|          | 0.00/1.08G [00:00<?, ?B/s]"
            ],
            "application/vnd.jupyter.widget-view+json": {
              "version_major": 2,
              "version_minor": 0,
              "model_id": "495a6d6ca4c84b749dbfc1d11e007950"
            }
          },
          "metadata": {}
        },
        {
          "output_type": "stream",
          "name": "stderr",
          "text": [
            "Some layers from the model checkpoint at bert-base-multilingual-cased were not used when initializing TFBertModel: ['nsp___cls', 'mlm___cls']\n",
            "- This IS expected if you are initializing TFBertModel from the checkpoint of a model trained on another task or with another architecture (e.g. initializing a BertForSequenceClassification model from a BertForPreTraining model).\n",
            "- This IS NOT expected if you are initializing TFBertModel from the checkpoint of a model that you expect to be exactly identical (initializing a BertForSequenceClassification model from a BertForSequenceClassification model).\n",
            "All the layers of TFBertModel were initialized from the model checkpoint at bert-base-multilingual-cased.\n",
            "If your task is similar to the task the model of the checkpoint was trained on, you can already use TFBertModel for predictions without further training.\n"
          ]
        }
      ]
    },
    {
      "cell_type": "code",
      "source": [
        "encoded_input = tokenizer(en_test[0], return_tensors='tf')\n",
        "output = model(encoded_input)\n",
        "\n",
        "print(encoded_input)\n",
        "print(output)"
      ],
      "metadata": {
        "colab": {
          "base_uri": "https://localhost:8080/"
        },
        "id": "uQ5fZd7sl75y",
        "outputId": "c2da8391-75b2-49e2-f555-68608eb9f841"
      },
      "execution_count": 8,
      "outputs": [
        {
          "output_type": "stream",
          "name": "stdout",
          "text": [
            "{'input_ids': <tf.Tensor: shape=(1, 9), dtype=int32, numpy=\n",
            "array([[  101,   177, 21528, 10114, 11783, 24538, 10136, 20732,   102]],\n",
            "      dtype=int32)>, 'token_type_ids': <tf.Tensor: shape=(1, 9), dtype=int32, numpy=array([[0, 0, 0, 0, 0, 0, 0, 0, 0]], dtype=int32)>, 'attention_mask': <tf.Tensor: shape=(1, 9), dtype=int32, numpy=array([[1, 1, 1, 1, 1, 1, 1, 1, 1]], dtype=int32)>}\n",
            "TFBaseModelOutputWithPoolingAndCrossAttentions(last_hidden_state=<tf.Tensor: shape=(1, 9, 768), dtype=float32, numpy=\n",
            "array([[[-0.0801833 ,  0.03810789,  0.27046832, ...,  0.39124045,\n",
            "         -0.11388008, -0.04561074],\n",
            "        [-0.13535473, -0.6108815 ,  0.83754236, ...,  0.6064944 ,\n",
            "         -0.36229718,  0.06997184],\n",
            "        [-0.9340397 , -0.27897662,  0.34910232, ...,  1.0008135 ,\n",
            "         -0.27053487,  0.39220354],\n",
            "        ...,\n",
            "        [-0.6494424 ,  0.01610382,  0.0694848 , ...,  0.9110728 ,\n",
            "         -0.33973166, -0.44170994],\n",
            "        [-0.43948   ,  0.11157995,  0.09911817, ...,  0.7545627 ,\n",
            "          0.09094203, -0.18004183],\n",
            "        [-0.28581655, -0.2066401 ,  1.011272  , ...,  0.43730482,\n",
            "         -0.19045137,  0.07825352]]], dtype=float32)>, pooler_output=<tf.Tensor: shape=(1, 768), dtype=float32, numpy=\n",
            "array([[ 0.24232769, -0.05618593,  0.26164392, -0.1876519 , -0.06455278,\n",
            "         0.4678913 ,  0.2218737 ,  0.21415153, -0.42583662,  0.2915675 ,\n",
            "        -0.11752243, -0.18155739, -0.06529998, -0.21620412,  0.1797729 ,\n",
            "        -0.1952968 ,  0.581094  ,  0.05634788,  0.08462796, -0.387982  ,\n",
            "        -0.9999868 , -0.10416295, -0.30478424, -0.07286766, -0.33806986,\n",
            "         0.0821249 , -0.18015946,  0.03782574,  0.2093541 , -0.19827877,\n",
            "         0.02490443, -0.99998635,  0.6165413 ,  0.5865973 ,  0.16271682,\n",
            "        -0.14495035,  0.14894831,  0.1941543 ,  0.33267397, -0.4574388 ,\n",
            "        -0.1246235 ,  0.01604405, -0.06251224,  0.15347761, -0.16285159,\n",
            "        -0.13825464, -0.17305006,  0.23588915, -0.25791675,  0.10568982,\n",
            "         0.04876257,  0.24903095,  0.47646284,  0.3414033 ,  0.23470636,\n",
            "         0.13513899,  0.3381268 ,  0.17920761,  0.25480908, -0.22910817,\n",
            "         0.10437197,  0.20882386,  0.12598369, -0.20330541, -0.26493514,\n",
            "        -0.3457421 ,  0.06662577, -0.1095832 ,  0.5208785 , -0.06793378,\n",
            "        -0.1433982 , -0.41794372, -0.1937139 ,  0.20427918,  0.17209233,\n",
            "        -0.15335043,  0.2969203 ,  0.3493508 ,  0.01971051, -0.08284781,\n",
            "        -0.32395315, -0.51309824, -0.20078844,  0.24605933, -0.2060645 ,\n",
            "         0.2104683 ,  0.3057139 , -0.3228387 ,  0.15065049, -0.03159758,\n",
            "         0.27051443,  0.52858007, -0.2884668 ,  0.2992724 , -0.1126912 ,\n",
            "        -0.16289395, -0.75594914, -0.06938032, -0.09728772, -0.36411783,\n",
            "        -0.1650774 ,  0.12249114, -0.32296118, -0.17144006, -0.23071648,\n",
            "        -0.2789623 ,  0.15811504,  0.2888429 , -0.16779403,  0.32930452,\n",
            "         0.0859087 , -0.3691809 , -0.25086617,  0.06250836, -0.20347254,\n",
            "         0.9445709 , -0.1877853 ,  0.1008089 , -0.05169698, -0.18025908,\n",
            "        -0.5868383 ,  0.9999886 ,  0.09179711, -0.18645054,  0.06576973,\n",
            "         0.17460719, -0.5830254 ,  0.16584915,  0.2659451 ,  0.19902164,\n",
            "         0.14343224, -0.11045912, -0.161838  , -0.37560448, -0.7185435 ,\n",
            "        -0.22926158, -0.16664696,  0.2229277 , -0.27732953, -0.22696754,\n",
            "         0.17727073,  0.48412263,  0.13182606, -0.09331817, -0.06564659,\n",
            "         0.01643515,  0.24957262, -0.24064833,  0.99998605,  0.6490046 ,\n",
            "        -0.12972414, -0.27669072,  0.4524959 , -0.63711214, -0.30463538,\n",
            "        -0.26609868, -0.3198329 , -0.43857494,  0.27750075,  0.14790782,\n",
            "         0.05697856, -0.15109964, -0.10980625, -0.22093791,  0.3021035 ,\n",
            "        -0.6313071 , -0.14017016,  0.32548657,  0.35715902,  0.2692676 ,\n",
            "        -0.09429877,  0.27027807,  0.11266762, -0.15978275,  0.01210873,\n",
            "         0.19305843,  0.11712768, -0.04853673, -0.12266678, -0.1244616 ,\n",
            "         0.19152954, -0.10552248, -0.3845768 ,  0.0228172 , -0.09960536,\n",
            "        -0.45459574,  0.11685495, -0.08052409, -0.24212255,  0.27672035,\n",
            "        -0.12484295,  0.25991726, -0.23264751,  0.1354776 ,  0.3000853 ,\n",
            "         0.09591666, -0.38296536,  0.30548918,  0.32211614,  0.32973135,\n",
            "         0.26017055,  0.1267153 ,  0.14626627,  0.07372171, -0.07507657,\n",
            "        -0.50458884,  0.16440263,  0.11583094,  0.366788  , -0.16686007,\n",
            "        -0.4336349 , -0.17470865,  0.5755828 ,  0.33613893, -0.3172788 ,\n",
            "         0.10809416,  0.19746934, -0.10580697, -0.17105488,  0.22659281,\n",
            "        -0.12105501, -0.4066551 , -0.23523937, -0.1688423 , -0.05507452,\n",
            "         0.26865113,  0.14290793,  0.19301863,  0.19090904, -0.19836216,\n",
            "        -0.12285288, -0.12664917,  0.06950495,  0.3103272 , -0.04528731,\n",
            "         0.7422599 , -0.22385968,  0.24980047, -0.45618623, -0.13096322,\n",
            "         0.3658271 , -0.15952577,  0.26448798,  0.89488924,  0.17346361,\n",
            "        -0.20882769,  0.18839936,  0.19629239,  0.23744357, -0.14788677,\n",
            "        -0.0138278 , -0.5627268 ,  0.62372667,  0.15402529,  0.05887977,\n",
            "        -0.99998444,  0.15153484,  0.1624834 ,  0.4675872 ,  0.26257303,\n",
            "         0.22329201,  0.08521704,  0.21060112,  0.8207373 , -0.34074628,\n",
            "        -0.3631325 , -0.3072087 , -0.20767267, -0.49125546, -0.19929782,\n",
            "        -0.115297  , -0.2428571 , -0.071025  , -0.00764845, -0.08959524,\n",
            "         0.16713688,  0.31336626, -0.97283095,  0.78139   ,  0.16532749,\n",
            "        -0.06722901, -0.00432473,  0.27838197, -0.9999853 ,  0.27995256,\n",
            "        -0.05082882, -0.14949937,  0.26635632, -0.42327952, -0.23430736,\n",
            "         0.17723471,  0.43671113,  0.26923415,  0.26254746,  0.26389453,\n",
            "         0.44254008, -0.12421033,  0.06137362,  0.16928871, -0.06226453,\n",
            "         0.5012739 ,  0.03208357,  0.07038089,  0.3664621 , -0.15819824,\n",
            "         0.2873214 , -0.07258386,  0.2838618 ,  0.364647  ,  0.08507951,\n",
            "         0.13552296, -0.25513342,  0.25738397, -0.6732214 ,  0.04801915,\n",
            "        -0.25611424, -0.09197336, -0.0685558 ,  0.10372084, -0.12070595,\n",
            "        -0.32020417,  0.09339135, -0.18827303,  0.99998724,  0.237709  ,\n",
            "        -0.11039475, -0.36407837,  0.6035017 ,  0.38086364, -0.19675887,\n",
            "        -0.55076176, -0.15454367,  0.57589966,  0.35415456,  0.25632232,\n",
            "         0.07222595, -0.09279232,  0.21038696, -0.23680349, -0.13632381,\n",
            "         0.0882543 , -0.37756974,  0.21939926, -0.11911323, -0.22942197,\n",
            "         0.1992355 , -0.10525565, -0.13297729, -0.7493726 ,  0.26748586,\n",
            "         0.08229566,  0.11621217,  0.18570656,  0.22679196, -0.29640722,\n",
            "         0.5193764 ,  0.3250995 , -0.2061204 , -0.35330448, -0.30367765,\n",
            "        -0.3071721 , -0.06812316, -0.29418275, -0.29721022,  0.13088566,\n",
            "        -0.602966  ,  0.11374373,  0.02738597, -0.17504479, -0.2680129 ,\n",
            "         0.28861958, -0.9999889 , -0.2402446 ,  0.2186081 , -0.33333543,\n",
            "         0.19612296, -0.39286044, -0.23199844,  0.23300311,  0.20822127,\n",
            "        -0.02044428,  0.00390442, -0.37816864,  0.11283331, -0.09241367,\n",
            "         0.08266838,  0.8017138 ,  0.4170538 ,  0.12097134, -0.23571993,\n",
            "         0.08050412, -0.51830274, -0.11076852,  0.14667107,  0.23749317,\n",
            "        -0.21113946,  0.19556828,  0.10593136,  0.14596674, -0.07577426,\n",
            "         0.2440757 , -0.17559043, -0.1210015 ,  0.24076723,  0.04977646,\n",
            "        -0.18407148, -0.13631622,  0.25300536, -0.41056582,  0.22030969,\n",
            "         0.06844483,  0.2937085 ,  0.15820023,  0.28058863, -0.2219317 ,\n",
            "         0.00147453, -0.1032373 , -0.04097251, -0.23642841, -0.18251075,\n",
            "        -0.1065336 ,  0.9999876 ,  0.35018888,  0.40003303, -0.32014325,\n",
            "         0.13358884,  0.19947484, -0.35943592,  0.15959793,  0.19656564,\n",
            "         0.23033808, -0.20022653,  0.02254265,  0.05337501,  0.32838544,\n",
            "         0.2913558 ,  0.10178178,  0.4017433 , -0.19859824,  0.6000612 ,\n",
            "        -0.11190733, -0.33091456, -0.9724219 ,  0.12298211,  0.194798  ,\n",
            "        -0.31411675, -0.40885264,  0.06335925, -0.27536473,  0.06946437,\n",
            "        -0.01135673,  0.18243608,  0.11206461, -0.07024106,  0.25351703,\n",
            "        -0.2962302 ,  0.99998754, -0.09662157,  0.11582548,  0.2649378 ,\n",
            "         0.1815019 , -0.18930703, -0.02619482, -0.07486696,  0.3014733 ,\n",
            "        -0.09069544,  0.15354614, -0.88246465,  0.19738637,  0.05238432,\n",
            "         0.32690504, -0.15079364,  0.16666979, -0.30966365,  0.22185023,\n",
            "        -0.07934599, -0.12990654, -0.28168222,  0.22769995, -0.34255818,\n",
            "         0.4302312 , -0.16272056,  0.15080135, -0.29926002,  0.2519222 ,\n",
            "        -0.12154678,  0.25302154, -0.11053543,  0.25634462, -0.10383493,\n",
            "        -0.3094849 , -0.32902196,  0.11701321, -0.416589  ,  0.99998665,\n",
            "        -0.08439627,  0.09367778, -0.18193096,  0.17715256, -0.22264369,\n",
            "         0.31705058,  0.581238  , -0.32207626,  0.21783626,  0.2692106 ,\n",
            "        -0.51470166,  0.15263572, -0.07250386, -0.6872008 , -0.25161958,\n",
            "         0.9072693 ,  0.15630533,  0.4088658 ,  0.19831176,  0.12380094,\n",
            "         0.03442969, -0.15300083,  0.24482843,  0.79762733,  0.22282955,\n",
            "         0.22279373,  0.20259385,  0.00408382, -0.23096105, -0.11891878,\n",
            "         0.9999848 ,  0.9999841 ,  0.07806809,  0.41654232, -0.29286674,\n",
            "        -0.28344214, -0.17747694,  0.21590492,  0.22796795,  0.25619674,\n",
            "        -0.16872518, -0.08945131, -0.2658812 , -0.24764031, -0.14058447,\n",
            "        -0.12931901, -0.20724449,  0.1335859 , -0.22219867,  0.41451958,\n",
            "         0.36740214,  0.0058579 ,  0.40634087,  0.22774196,  0.06651957,\n",
            "        -0.06876242, -0.2331964 ,  0.4635547 , -0.17159323, -0.08842202,\n",
            "        -0.321454  ,  0.03216924, -0.9999806 , -0.17823112, -0.29201552,\n",
            "        -0.19391891,  0.43389043,  0.22508092,  0.11719791, -0.3110008 ,\n",
            "        -0.05733523, -0.22572012,  0.28040758,  0.10240874, -0.0393411 ,\n",
            "        -0.11397184, -0.38983315,  0.41034725, -0.38885483,  0.20040858,\n",
            "        -0.23743626, -0.24477747, -0.55221736, -0.17495242, -0.24742806,\n",
            "         0.2416189 , -0.21726336, -0.1990034 ,  0.18841562,  0.29228035,\n",
            "         0.24242522, -0.21749856,  0.34929818, -0.32990986,  0.10182434,\n",
            "         0.2931385 ,  0.23093173,  0.20872079, -0.29058662, -0.28627604,\n",
            "        -0.11197584, -0.16615532, -0.20999092,  0.32294318, -0.27574876,\n",
            "         0.2652925 , -0.0754239 ,  0.19347455, -0.26192072,  0.07527664,\n",
            "         0.2511332 ,  0.4276329 , -0.2797546 ,  0.40136296,  0.21831088,\n",
            "        -0.12230741,  0.40176114, -0.03221957, -0.24969788, -0.16555797,\n",
            "         0.999989  ,  0.44394702,  0.24213451,  0.18314722, -0.15278599,\n",
            "         0.31293035,  0.16298021,  0.42751223, -0.40619364,  0.744315  ,\n",
            "        -0.2198201 ,  0.2044717 ,  0.05369829,  0.270415  ,  0.01171088,\n",
            "         0.21632306,  0.351659  ,  0.6895465 ,  0.11637003,  0.14976802,\n",
            "         0.16637234,  0.26014218,  0.2839449 ,  0.31885588,  0.24261522,\n",
            "         0.35312   ,  0.37101918, -0.15396021,  0.18451998,  0.0094373 ,\n",
            "        -0.17233735, -0.06490246, -0.15054506, -0.21573679,  0.20302486,\n",
            "        -0.23101074, -0.19715552, -0.12501948,  0.38342518, -0.23397419,\n",
            "         0.29771566, -0.14923665, -0.36455464,  0.5364871 , -0.39313066,\n",
            "         0.10538919, -0.17958646,  0.1147361 , -0.7356784 ,  0.02463738,\n",
            "        -0.19101547, -0.49034566, -0.18266843, -0.4166935 ,  0.17487717,\n",
            "         0.21368001, -0.05847029,  0.2368615 , -0.2066761 ,  0.2647895 ,\n",
            "        -0.17719239, -0.14374797,  0.14514218, -0.9999879 ,  0.02852344,\n",
            "         0.08569474, -0.21936432,  0.11582773,  0.07985748,  0.21785736,\n",
            "         0.16434225, -0.2399015 , -0.18497686, -0.01892203,  0.20262364,\n",
            "        -0.2758098 ,  0.01353151,  0.17490102, -0.3619102 , -0.25757003,\n",
            "         0.01111384, -0.09126326,  0.17004202,  0.28724495, -0.27175796,\n",
            "         0.152312  , -0.30123413,  0.25435087, -0.07980814,  0.2522373 ,\n",
            "        -0.24300338, -0.20408154,  0.2896057 , -0.42646605, -0.30784205,\n",
            "        -0.189313  ,  0.08753507, -0.09628372,  0.04968995,  0.08904816,\n",
            "        -0.16971631,  0.3685835 , -0.11618016,  0.26065552, -0.279124  ,\n",
            "         0.25341743, -0.7259753 , -0.302521  , -0.23771773, -0.19329421,\n",
            "         0.31707397,  0.2744068 ,  0.07511761,  0.20567761, -0.08300207,\n",
            "         0.17799264, -0.11622906,  0.08164931,  0.24501689, -0.14514692,\n",
            "         0.0891374 , -0.14130287,  0.3728473 , -0.3367152 ,  0.13173606,\n",
            "        -0.967807  , -0.24601601,  0.12715213,  0.32034138,  0.34080383,\n",
            "        -0.22942631, -0.08909445, -0.22619472, -0.07071298,  0.14493603,\n",
            "         0.3153937 ,  0.24869992,  0.10723921,  0.257378  , -0.15506083,\n",
            "        -0.07636289,  0.5801629 , -0.30704   ,  0.041307  ,  0.3794492 ,\n",
            "         0.14497106,  0.7452646 ,  0.2831058 ,  0.2406505 ,  0.19796336,\n",
            "        -0.34868243,  0.24804853,  0.2646354 ]], dtype=float32)>, past_key_values=None, hidden_states=None, attentions=None, cross_attentions=None)\n"
          ]
        }
      ]
    },
    {
      "cell_type": "code",
      "source": [
        "encoded_input['input_ids']"
      ],
      "metadata": {
        "id": "SrwjN0GImcrT",
        "colab": {
          "base_uri": "https://localhost:8080/"
        },
        "outputId": "7da682c4-8203-4daf-fa24-85fca9fbddc6"
      },
      "execution_count": 9,
      "outputs": [
        {
          "output_type": "execute_result",
          "data": {
            "text/plain": [
              "<tf.Tensor: shape=(1, 9), dtype=int32, numpy=\n",
              "array([[  101,   177, 21528, 10114, 11783, 24538, 10136, 20732,   102]],\n",
              "      dtype=int32)>"
            ]
          },
          "metadata": {},
          "execution_count": 9
        }
      ]
    },
    {
      "cell_type": "code",
      "source": [
        "encoded_input['token_type_ids']"
      ],
      "metadata": {
        "colab": {
          "base_uri": "https://localhost:8080/"
        },
        "id": "uVmJ_O-Os-hk",
        "outputId": "50bf54d0-5d80-45a4-c157-e644a10138ca"
      },
      "execution_count": 10,
      "outputs": [
        {
          "output_type": "execute_result",
          "data": {
            "text/plain": [
              "<tf.Tensor: shape=(1, 9), dtype=int32, numpy=array([[0, 0, 0, 0, 0, 0, 0, 0, 0]], dtype=int32)>"
            ]
          },
          "metadata": {},
          "execution_count": 10
        }
      ]
    },
    {
      "cell_type": "code",
      "source": [
        "encoded_input['attention_mask']"
      ],
      "metadata": {
        "colab": {
          "base_uri": "https://localhost:8080/"
        },
        "id": "bOY89JKXtI1y",
        "outputId": "4f9dd488-7062-4a97-a3da-f043adaa81bd"
      },
      "execution_count": 11,
      "outputs": [
        {
          "output_type": "execute_result",
          "data": {
            "text/plain": [
              "<tf.Tensor: shape=(1, 9), dtype=int32, numpy=array([[1, 1, 1, 1, 1, 1, 1, 1, 1]], dtype=int32)>"
            ]
          },
          "metadata": {},
          "execution_count": 11
        }
      ]
    },
    {
      "cell_type": "code",
      "source": [
        "output[\"last_hidden_state\"]"
      ],
      "metadata": {
        "colab": {
          "base_uri": "https://localhost:8080/"
        },
        "id": "YKWfoNOTaMKX",
        "outputId": "3c1abb6a-c224-426b-f131-1bcb9972f786"
      },
      "execution_count": 12,
      "outputs": [
        {
          "output_type": "execute_result",
          "data": {
            "text/plain": [
              "<tf.Tensor: shape=(1, 9, 768), dtype=float32, numpy=\n",
              "array([[[-0.0801833 ,  0.03810789,  0.27046832, ...,  0.39124045,\n",
              "         -0.11388008, -0.04561074],\n",
              "        [-0.13535473, -0.6108815 ,  0.83754236, ...,  0.6064944 ,\n",
              "         -0.36229718,  0.06997184],\n",
              "        [-0.9340397 , -0.27897662,  0.34910232, ...,  1.0008135 ,\n",
              "         -0.27053487,  0.39220354],\n",
              "        ...,\n",
              "        [-0.6494424 ,  0.01610382,  0.0694848 , ...,  0.9110728 ,\n",
              "         -0.33973166, -0.44170994],\n",
              "        [-0.43948   ,  0.11157995,  0.09911817, ...,  0.7545627 ,\n",
              "          0.09094203, -0.18004183],\n",
              "        [-0.28581655, -0.2066401 ,  1.011272  , ...,  0.43730482,\n",
              "         -0.19045137,  0.07825352]]], dtype=float32)>"
            ]
          },
          "metadata": {},
          "execution_count": 12
        }
      ]
    },
    {
      "cell_type": "code",
      "source": [
        "output[\"last_hidden_state\"][-1][-1]"
      ],
      "metadata": {
        "colab": {
          "base_uri": "https://localhost:8080/"
        },
        "id": "M_yIv5FsZokb",
        "outputId": "96ba1535-2877-45d3-d8a4-9e96ebed0272"
      },
      "execution_count": 13,
      "outputs": [
        {
          "output_type": "execute_result",
          "data": {
            "text/plain": [
              "<tf.Tensor: shape=(768,), dtype=float32, numpy=\n",
              "array([-2.85816550e-01, -2.06640095e-01,  1.01127195e+00,  1.69524789e-01,\n",
              "        4.14486468e-01,  4.47487116e-01, -8.07733417e-01, -3.04689705e-02,\n",
              "        6.30858660e-01,  1.63276047e-01,  4.42681983e-02,  2.33404160e-01,\n",
              "        2.33043700e-01,  9.90202278e-02,  7.55258724e-02, -3.19861799e-01,\n",
              "        1.78901076e-01,  1.21485829e+00,  4.84492630e-02,  3.46210957e-01,\n",
              "        1.32623047e-01, -1.11739606e-01, -6.08281076e-01, -8.09178874e-02,\n",
              "        6.48078918e-01, -8.46023560e-02, -6.56183779e-01,  5.01036823e-01,\n",
              "       -3.52555275e-01, -1.67582184e-01,  1.31201491e-01,  1.03604145e-01,\n",
              "        6.91109747e-02, -2.77196527e-01,  3.67442280e-01,  1.57708317e-01,\n",
              "       -2.31118575e-01, -2.12884232e-01, -2.05561444e-01, -3.60636175e-01,\n",
              "       -5.36699355e-01,  3.67783606e-01,  5.39835542e-02,  1.12441890e-02,\n",
              "        8.39076161e-01, -2.81842530e-01,  3.12413156e-01,  2.32986048e-01,\n",
              "        4.03371036e-01, -6.85853481e-01,  4.51511323e-01, -2.10318416e-01,\n",
              "        2.84558147e-01,  2.58256525e-01, -5.63610613e-01,  4.21300769e-01,\n",
              "        9.46427137e-02,  1.32349841e-02, -4.05709088e-01,  1.88809171e-01,\n",
              "       -1.44207060e-01,  3.87139559e-01,  2.44497627e-01, -1.04777895e-01,\n",
              "       -3.45820576e-01,  4.68845725e-01,  2.78003365e-01,  2.04300880e-01,\n",
              "       -2.18669266e-01,  4.27456051e-01, -2.19886318e-01,  5.75293154e-02,\n",
              "       -1.26909256e-01, -5.16492799e-02, -1.53261408e-01,  2.24426642e-01,\n",
              "        8.11321676e-01, -4.95805025e-01, -4.01497781e-01, -9.19829682e-02,\n",
              "        4.68910933e-01,  4.82407153e-01,  3.94808501e-02, -2.93477625e-03,\n",
              "       -2.83889621e-01, -1.36572853e-01,  2.09818557e-01, -5.48422217e-01,\n",
              "       -2.05539465e-02, -3.32251847e-01, -1.12188980e-02, -1.91230431e-01,\n",
              "       -4.45190370e-02,  1.93756074e-03, -4.50221956e-01,  1.92824885e-01,\n",
              "        1.98963702e-01,  2.95937479e-01, -2.32716233e-01, -3.54259640e-01,\n",
              "        2.01171376e-02,  4.12118018e-01,  9.03980672e-01, -3.57013434e-01,\n",
              "        2.49629885e-01,  9.73820090e-02, -9.96089727e-02,  2.35421449e-01,\n",
              "        7.02706456e-01,  1.75870866e-01,  4.19463277e-01,  3.82103235e-01,\n",
              "        3.19059044e-01, -3.64237487e-01,  4.62172061e-01, -6.67077780e-01,\n",
              "       -2.44159356e-01, -1.53169751e-01, -4.35915887e-01, -5.49263597e-01,\n",
              "        5.13579786e-01,  2.19663337e-01, -1.22415297e-01, -4.19832841e-02,\n",
              "        4.54382822e-02, -2.06553653e-01, -3.21208149e-01,  1.52795941e-01,\n",
              "        5.17704606e-01,  1.17602766e-01,  3.49385619e-01, -1.59357861e-02,\n",
              "        1.08301848e-01, -4.14139926e-01,  6.79191828e-01, -1.98099315e-01,\n",
              "        1.61974683e-01,  2.56566405e-01, -6.25641942e-02,  5.97930372e-01,\n",
              "        2.69413203e-01, -8.55500251e-03,  3.65314394e-01, -7.47421265e-01,\n",
              "       -3.57180297e-01,  7.44907260e-02, -4.90380615e-01,  6.62856936e-01,\n",
              "       -4.24647957e-01, -6.03128970e-01,  1.73317209e-01, -4.63161826e-01,\n",
              "       -1.69517279e-01,  3.93769473e-01, -7.85249770e-02, -6.84223846e-02,\n",
              "       -8.78730267e-02,  5.67879602e-02, -8.84528577e-01,  8.60205889e-01,\n",
              "        8.19397941e-02,  1.28017902e-01, -2.17226624e-01,  1.17579651e+00,\n",
              "       -2.43889689e-02,  4.35459286e-01, -1.81569606e-01, -3.39139372e-01,\n",
              "       -2.71363318e-01,  2.69404620e-01,  1.20889828e-01, -6.05950058e-02,\n",
              "        1.95134655e-01, -1.57935947e-01, -5.31454459e-02,  2.13355839e-01,\n",
              "       -4.16825384e-01, -2.24940181e-02, -6.04171634e-01, -1.66436836e-01,\n",
              "        7.80303553e-02,  1.27279103e-01,  3.20868433e-01, -4.38308388e-01,\n",
              "       -1.30322903e-01,  6.23459741e-02,  5.72400093e-01, -6.66642308e-01,\n",
              "        4.00330573e-01, -3.18446964e-01,  4.57224622e-02, -8.70798528e-02,\n",
              "        5.41860938e-01,  5.25675893e-01,  1.49866343e-01,  3.60417128e-01,\n",
              "        3.08892548e-01,  5.71978465e-03,  5.60817271e-02,  3.13636154e-01,\n",
              "        5.11408225e-02,  3.45627308e-01,  3.72931391e-01,  1.17386065e-01,\n",
              "       -2.74849027e-01,  8.41779768e-01, -5.43140471e-02, -3.26076269e-01,\n",
              "        2.78972626e-01,  6.49880767e-01, -3.08778405e-01,  1.39830589e-01,\n",
              "       -4.99592364e-01,  3.81206751e-01,  5.46358526e-01,  1.38149753e-01,\n",
              "        2.72831589e-01,  1.56108409e-01,  1.59384921e-01,  7.32686222e-01,\n",
              "        6.05923422e-02,  5.40770292e-02,  6.71958253e-02,  3.29531938e-01,\n",
              "       -3.80940020e-01,  5.70598245e-03, -1.67265117e-01, -4.39212322e-02,\n",
              "        1.87274903e-01, -4.70077470e-02,  6.19620502e-01, -1.03310496e-01,\n",
              "        1.30680680e-01,  6.30404204e-02, -1.35994628e-01, -2.62013614e-01,\n",
              "        5.86318552e-01, -4.32817847e-01, -5.10477602e-01, -9.56838056e-02,\n",
              "        1.64153799e-01,  4.44056779e-01,  1.27369151e-01,  1.78020626e-01,\n",
              "        4.76168811e-01,  2.03438759e-01, -3.77374262e-01, -1.10471517e-01,\n",
              "        2.81329155e-01, -1.26292229e-01,  1.07341975e-01, -2.83406198e-01,\n",
              "       -2.34891281e-01, -9.06384051e-01, -1.89783961e-01,  3.76103580e-01,\n",
              "        1.31107271e-01, -4.41241592e-01,  6.49643183e-01, -3.18239808e-01,\n",
              "        1.97111607e-01,  5.92054836e-02, -9.19916093e-01,  3.59331787e-01,\n",
              "        2.38291606e-01,  3.71299237e-02,  1.77036300e-01,  3.23552549e-01,\n",
              "        1.03888810e-01,  4.77385148e-02, -3.59365165e-01, -2.33726427e-02,\n",
              "       -7.12844729e-03, -1.45022422e-01,  6.20604046e-02,  7.50772953e-01,\n",
              "       -8.59631747e-02,  5.27193546e-01,  9.71225500e-02,  3.26113999e-02,\n",
              "       -3.32435906e-01, -9.65553299e-02,  6.45875484e-02,  6.31056949e-02,\n",
              "        1.94391429e-01,  6.59414604e-02, -4.48927879e-01, -4.42695379e-01,\n",
              "        6.76456332e-01, -4.45428550e-01, -1.59391835e-02, -4.66791928e-01,\n",
              "       -4.57706422e-01, -3.76626343e-01, -6.01712316e-02, -7.09635735e-01,\n",
              "       -1.37758434e-01,  1.67054683e-02,  4.14628595e-01,  6.14046454e-02,\n",
              "        1.82368755e-02,  1.34254247e-02,  4.27764773e-01,  2.68416315e-01,\n",
              "       -5.30354738e-01,  2.98981816e-01,  7.67689124e-02,  3.96752179e-01,\n",
              "        7.06507981e-01,  2.15186447e-01, -5.69129109e-01,  1.65979072e-01,\n",
              "       -2.00982168e-01, -5.16051173e-01, -5.74900508e-01,  6.94315135e-03,\n",
              "        2.43656769e-01,  9.54560041e-02, -3.38463217e-01,  3.60024989e-01,\n",
              "       -4.26431388e-01, -2.23148465e-02,  3.35906804e-01,  3.34955901e-01,\n",
              "        6.89532042e-01, -5.78617305e-02, -6.96334958e-01,  1.45707369e-01,\n",
              "        5.85918240e-02, -4.19518530e-01, -1.52050015e-02,  1.12363303e+00,\n",
              "       -1.59252346e-01, -4.39666986e-01, -9.53885764e-02,  2.03923270e-01,\n",
              "       -6.79944754e-01, -2.35162586e-01,  1.11793149e-02, -2.49766409e-01,\n",
              "        3.94428045e-01, -1.11095473e-01,  7.98156738e-01, -8.71114433e-03,\n",
              "        3.08948249e-01, -7.05544949e-02,  2.52334595e-01, -9.25362706e-01,\n",
              "        4.50950384e-01,  3.89005035e-01,  3.40767801e-01,  4.09751981e-01,\n",
              "        1.16663791e-01, -2.48011589e-01,  3.13341588e-01,  2.85420567e-02,\n",
              "       -3.50882828e-01, -1.16870865e-01, -2.20195040e-01,  2.36313164e-01,\n",
              "       -2.56663293e-01,  5.98742604e-01,  2.61334479e-01, -1.20855212e-01,\n",
              "       -1.48609996e-01, -4.47829813e-02, -1.13650128e-01, -5.77470899e-01,\n",
              "        1.12387612e-01,  5.82270563e-01,  2.37785459e-01,  8.46618295e-01,\n",
              "        3.17186832e-01, -1.03964055e+00,  1.17253184e-01, -4.76830862e-02,\n",
              "        1.63088888e-01, -1.39187902e-01, -1.80286169e-01,  2.00927466e-01,\n",
              "        1.94118559e-01, -8.54068846e-02,  4.92368549e-01,  4.12422448e-01,\n",
              "       -1.58445597e-01, -4.36133444e-01, -2.36982137e-01, -3.22809726e-01,\n",
              "       -4.75310594e-01, -3.42006356e-01, -1.75786242e-01,  1.24056332e-01,\n",
              "       -6.60770059e-01, -4.16538477e-01, -1.35152474e-01, -4.60845381e-02,\n",
              "       -3.62291336e-02, -5.08159041e-01,  3.02727968e-01, -1.20899037e-01,\n",
              "        1.29482642e-01,  6.77704811e-05,  2.52349555e-01,  5.51285207e-01,\n",
              "       -1.95860788e-01,  6.47259235e-01,  4.93433952e-01,  5.36372662e-01,\n",
              "       -2.36729920e-01, -5.30318916e-01,  5.69343984e-01, -4.21287298e-01,\n",
              "        6.04071796e-01,  2.49168754e-01, -6.25000596e-02,  5.29597819e-01,\n",
              "        6.90577775e-02,  2.94274479e-01,  1.85477018e-01,  8.70892406e-02,\n",
              "        2.42106676e-01, -1.81197166e-01,  2.09176674e-01, -2.62410074e-01,\n",
              "       -4.21382971e-02,  4.97218370e-01, -7.18232840e-02, -1.42972037e-01,\n",
              "        2.41115645e-01, -1.36599690e-01, -2.86012441e-01,  2.45657921e-01,\n",
              "        1.78140581e-01, -3.23621094e-01,  2.84895301e-04, -3.30172122e-01,\n",
              "       -7.60148883e-01,  3.45205039e-01, -2.41938353e-01, -2.46228933e-01,\n",
              "        5.55311143e-01,  1.00406349e-01, -2.77250767e-01, -4.09296900e-01,\n",
              "       -8.71885046e-02, -1.73547730e-01,  2.45169461e-01, -4.76627126e-02,\n",
              "        3.78541350e-02,  1.43223077e-01,  6.56522274e-01, -7.09633291e-01,\n",
              "        2.67187953e-01, -2.57691294e-01, -1.78659350e-01,  9.92668718e-02,\n",
              "       -2.88078189e-01, -7.80422613e-03,  7.48416036e-03,  4.30483282e-01,\n",
              "       -1.25212461e-01,  4.38185371e-02,  8.03196803e-02, -3.14660281e-01,\n",
              "        9.84108672e-02, -6.69231534e-01,  2.95108795e-01, -1.06098585e-01,\n",
              "       -6.66114807e-01,  5.42845786e-01, -1.68367282e-01, -2.57126898e-01,\n",
              "       -1.81225985e-01, -6.88810468e-01, -7.90516496e-01, -5.73382974e-02,\n",
              "        3.17683995e-01,  9.50794220e-02, -3.14331830e-01, -2.22909078e-01,\n",
              "        1.93633363e-01, -1.35151654e-01, -1.47719830e-01, -3.16717863e-01,\n",
              "       -1.38224438e-01,  2.61772007e-01,  1.63825780e-01, -1.67614639e-01,\n",
              "       -1.90040678e-01,  3.02418470e-01,  4.73224521e-01,  1.76332101e-01,\n",
              "       -1.56253457e-01, -8.95074129e-01, -3.05069685e-01,  2.58753270e-01,\n",
              "        4.39184666e-01,  5.08795857e-01, -1.66541129e-01,  6.26373366e-02,\n",
              "        9.86550823e-02,  1.37591094e-01,  4.70217466e-02,  2.39685476e-01,\n",
              "       -2.80979872e-01,  1.08998381e-02, -4.43042189e-01,  3.07912558e-01,\n",
              "       -4.83941883e-01,  9.15899873e-04,  4.99923527e-01, -8.17625642e-01,\n",
              "       -2.93857276e-01,  4.63313401e-01, -5.06004356e-02,  6.14728173e-03,\n",
              "        1.36106059e-01, -2.95474865e-02, -2.34591514e-02, -2.64125764e-02,\n",
              "        8.10875058e-01,  5.14766425e-02, -6.64945394e-02, -3.65823388e-01,\n",
              "       -4.21176195e-01,  6.33993894e-02, -6.82030380e-01, -7.74076939e-01,\n",
              "        2.64785230e-01,  1.56101093e-01, -2.54985422e-01, -3.67181838e-01,\n",
              "        3.62849265e-01, -4.00208950e-01, -2.35196427e-01, -2.16209933e-01,\n",
              "       -4.08105135e-01, -7.52454400e-02, -2.86143050e-02, -1.78851426e-01,\n",
              "       -3.93948816e-02, -4.18642104e-01, -2.67353714e-01,  1.61866069e-01,\n",
              "       -1.12993479e-01,  7.41494894e-01, -9.99383777e-02,  7.19359517e-03,\n",
              "        1.38308674e-01, -1.41391084e-01,  1.15507096e-02,  5.54998040e-01,\n",
              "        1.90380529e-01, -1.29044116e-01,  6.04743212e-02, -5.96018434e-02,\n",
              "        1.00561246e-01, -2.84038126e-01, -3.73123854e-01, -1.60772204e-01,\n",
              "        3.38831544e-01,  1.05463624e-01,  1.87083840e-01, -2.91792959e-01,\n",
              "        5.30131638e-01, -1.53510988e-01, -2.43731007e-01,  5.79494298e-01,\n",
              "       -4.48026389e-01, -5.64986348e-01, -1.76453844e-01,  9.27974939e-01,\n",
              "       -3.83208781e-01, -3.44717741e-01,  9.64853048e-01, -2.68156290e-01,\n",
              "        4.52105403e-02, -2.97780782e-02,  1.80308670e-01,  1.23893596e-01,\n",
              "        4.11581457e-01, -2.45345756e-01, -4.82726067e-01,  1.74870938e-02,\n",
              "       -3.17304552e-01,  1.64379284e-01, -1.28541678e-01,  1.21511810e-01,\n",
              "        2.31434889e-02, -6.09168649e-01,  3.24698538e-01, -1.67121693e-01,\n",
              "        5.18700361e-01,  2.44335830e-01,  3.96150917e-01,  5.70004880e-01,\n",
              "        1.25744969e-01, -2.79413104e-01,  1.09607205e-01, -3.76889259e-02,\n",
              "        7.73679733e-01,  1.46494240e-01,  7.47730061e-02, -2.06387788e-01,\n",
              "       -5.69465935e-01, -7.28282109e-02,  4.70536388e-02,  5.60407996e-01,\n",
              "       -3.97506088e-01, -2.75590867e-01,  3.08578730e-01,  3.62201810e-01,\n",
              "        1.27736181e-01,  1.21515505e-01,  2.86969751e-01, -6.33756444e-02,\n",
              "       -1.10089993e+00, -3.12928557e-01,  3.84609073e-01,  9.62477326e-02,\n",
              "        6.39832854e-01,  1.61125898e-01, -5.12564361e-01, -1.01030678e-01,\n",
              "       -1.78194508e-01, -4.02539402e-01, -1.11375272e-01, -2.30566770e-01,\n",
              "        1.55034333e-01, -4.26173568e-01, -4.11964089e-01, -9.98288095e-02,\n",
              "        4.64542091e-01,  1.11155406e-01,  6.71861291e-01, -1.09924525e-01,\n",
              "       -3.71593088e-01, -5.68120718e-01, -1.51593894e-01,  3.51967573e-01,\n",
              "       -2.53942376e-03, -2.27937520e-01,  5.07026650e-02, -3.27710748e-01,\n",
              "       -2.11562082e-01, -3.54315281e-01, -5.59671342e-01,  4.68993783e-01,\n",
              "        1.11513153e-01,  4.11673427e-01,  6.68358445e-01,  9.91535783e-02,\n",
              "        6.00878745e-02, -2.15515822e-01, -3.66470456e-01,  1.28733829e-01,\n",
              "       -1.03945129e-01, -2.42616415e-01, -3.02587375e-02,  1.68921173e-01,\n",
              "        5.39801836e-01,  1.55235007e-01, -5.85156977e-02,  2.52358675e-01,\n",
              "       -4.31718528e-01,  1.10531680e-01,  2.45183110e-02, -1.37204811e-01,\n",
              "       -5.78828305e-02, -2.26016223e-01,  4.74803925e-01,  1.05264552e-01,\n",
              "        4.38713074e-01,  8.06266218e-02, -1.55072734e-02, -2.39287123e-01,\n",
              "       -2.95301229e-01,  5.44720471e-01,  4.09555435e-01, -4.23217893e-01,\n",
              "       -1.32792383e-01,  1.12116978e-01, -4.12389934e-01,  7.78917968e-02,\n",
              "        5.81272244e-02, -2.83252269e-01, -6.00816786e-01,  2.77925134e-01,\n",
              "        8.91798064e-02,  4.46161330e-01,  3.34344745e-01,  1.47307783e-01,\n",
              "       -1.77421644e-02, -1.98334381e-01, -2.32897624e-01, -1.27014101e-01,\n",
              "       -7.22842813e-02,  2.81923056e-01,  2.67958403e-01, -3.55866671e-01,\n",
              "        4.27254401e-02, -6.10265374e-01, -1.36279672e-01, -1.20306648e-01,\n",
              "       -5.20314455e-01, -8.24904218e-02, -1.09902494e-01, -4.46083248e-01,\n",
              "       -3.24514806e-01, -1.89207569e-01,  3.25707585e-01,  4.87750232e-01,\n",
              "       -1.17499352e-01,  3.49850297e-01, -1.73082143e-01,  3.74771357e-02,\n",
              "        8.04487467e-02, -3.46426696e-01, -1.87402546e-01,  1.78140163e-01,\n",
              "        3.09378684e-01,  3.36175561e-01, -8.75705853e-02,  2.53735870e-01,\n",
              "       -2.88126379e-01,  1.33394122e-01, -1.73565775e-01, -1.13275267e-01,\n",
              "       -5.21809980e-02, -1.64721891e-01,  3.27755362e-02, -1.94928992e+00,\n",
              "       -4.58866864e-01,  3.07317488e-02, -4.65006620e-01, -2.12246358e-01,\n",
              "       -2.93509573e-01,  5.78221619e-01, -1.23930782e-01,  2.66766250e-01,\n",
              "        1.39501929e-01, -1.96275055e-01, -3.17313671e-01, -1.61552116e-01,\n",
              "        3.02689467e-02, -2.97903776e-01, -7.86186337e-01, -2.18155757e-01,\n",
              "       -4.89708543e-01, -7.15894639e-01,  2.80782312e-01, -5.84632397e-01,\n",
              "       -1.39302276e-02, -1.21601671e-01, -4.28091824e-01,  8.85997638e-02,\n",
              "        3.25245410e-01,  4.68616411e-02,  2.92554706e-01,  5.31755328e-01,\n",
              "       -6.81953013e-01, -4.36720133e-01,  4.81320649e-01,  1.81273833e-01,\n",
              "        2.98608005e-01,  4.37304825e-01, -1.90451369e-01,  7.82535225e-02],\n",
              "      dtype=float32)>"
            ]
          },
          "metadata": {},
          "execution_count": 13
        }
      ]
    },
    {
      "cell_type": "markdown",
      "source": [
        "docs: https://huggingface.co/transformers/v3.0.2/model_doc/bert.html\n",
        "\n",
        "\n",
        "**batch_size** -  number of data points sampled to calculate the gradient on each iteration\n",
        "\n",
        "large vs small batch size performance table2 https://arxiv.org/pdf/1609.04836.pdf\n",
        "\n",
        "**sequence_length** -  number of tokens (words) in a sentence. causes the layer to pad or truncate sequences to exactly sequence_length values. how to handle variable-length inputs (sentences of different lengths)?\n",
        "\n",
        "**hidden_size** (int, optional, defaults to 768) — Dimensionality of the encoder layers and the pooler layer.\n",
        "\n",
        "**last_hidden_state** (tf.Tensor of shape (batch_size, sequence_length, hidden_size)) — Sequence of hidden-states at the output of the last layer of the model.\n",
        "\n",
        "\n",
        "**pooler_output** (tf.Tensor of shape (batch_size, hidden_size)) — Last layer hidden-state of the first token of the sequence (classification token) further processed by a Linear layer and a Tanh activation function. The Linear layer weights are trained from the next sentence prediction (classification) objective during pretraining.\n",
        "\n",
        "This output is usually not a good summary of the semantic content of the input, you’re often better with averaging or pooling the sequence of hidden-states for the whole input sequence.\n",
        "\n",
        "https://huggingface.co/docs/transformers/main_classes/output#transformers.modeling_outputs.BaseModelOutputWithPooling\n",
        "\n",
        "\n",
        "**Tokenization** - splitting strings into tokens (for example, splitting a sentence into individual words, by splitting on whitespace).\n",
        "\n",
        "**Vectorization** - converting tokens into numbers so they can be fed into a neural network. \n",
        "\n",
        "https://www.tensorflow.org/tutorials/keras/text_classification"
      ],
      "metadata": {
        "id": "2Gp4Go7dYfLs"
      }
    },
    {
      "cell_type": "code",
      "source": [
        "# which one (last_hidden_state or pooler_output) should be passed to classifier?\n",
        "# i guess try both and see how it works\n",
        "output"
      ],
      "metadata": {
        "colab": {
          "base_uri": "https://localhost:8080/"
        },
        "id": "Dg448LAPtN5y",
        "outputId": "367ccad4-23b1-4217-d954-3a63b5d36110"
      },
      "execution_count": 14,
      "outputs": [
        {
          "output_type": "execute_result",
          "data": {
            "text/plain": [
              "TFBaseModelOutputWithPoolingAndCrossAttentions(last_hidden_state=<tf.Tensor: shape=(1, 9, 768), dtype=float32, numpy=\n",
              "array([[[-0.0801833 ,  0.03810789,  0.27046832, ...,  0.39124045,\n",
              "         -0.11388008, -0.04561074],\n",
              "        [-0.13535473, -0.6108815 ,  0.83754236, ...,  0.6064944 ,\n",
              "         -0.36229718,  0.06997184],\n",
              "        [-0.9340397 , -0.27897662,  0.34910232, ...,  1.0008135 ,\n",
              "         -0.27053487,  0.39220354],\n",
              "        ...,\n",
              "        [-0.6494424 ,  0.01610382,  0.0694848 , ...,  0.9110728 ,\n",
              "         -0.33973166, -0.44170994],\n",
              "        [-0.43948   ,  0.11157995,  0.09911817, ...,  0.7545627 ,\n",
              "          0.09094203, -0.18004183],\n",
              "        [-0.28581655, -0.2066401 ,  1.011272  , ...,  0.43730482,\n",
              "         -0.19045137,  0.07825352]]], dtype=float32)>, pooler_output=<tf.Tensor: shape=(1, 768), dtype=float32, numpy=\n",
              "array([[ 0.24232769, -0.05618593,  0.26164392, -0.1876519 , -0.06455278,\n",
              "         0.4678913 ,  0.2218737 ,  0.21415153, -0.42583662,  0.2915675 ,\n",
              "        -0.11752243, -0.18155739, -0.06529998, -0.21620412,  0.1797729 ,\n",
              "        -0.1952968 ,  0.581094  ,  0.05634788,  0.08462796, -0.387982  ,\n",
              "        -0.9999868 , -0.10416295, -0.30478424, -0.07286766, -0.33806986,\n",
              "         0.0821249 , -0.18015946,  0.03782574,  0.2093541 , -0.19827877,\n",
              "         0.02490443, -0.99998635,  0.6165413 ,  0.5865973 ,  0.16271682,\n",
              "        -0.14495035,  0.14894831,  0.1941543 ,  0.33267397, -0.4574388 ,\n",
              "        -0.1246235 ,  0.01604405, -0.06251224,  0.15347761, -0.16285159,\n",
              "        -0.13825464, -0.17305006,  0.23588915, -0.25791675,  0.10568982,\n",
              "         0.04876257,  0.24903095,  0.47646284,  0.3414033 ,  0.23470636,\n",
              "         0.13513899,  0.3381268 ,  0.17920761,  0.25480908, -0.22910817,\n",
              "         0.10437197,  0.20882386,  0.12598369, -0.20330541, -0.26493514,\n",
              "        -0.3457421 ,  0.06662577, -0.1095832 ,  0.5208785 , -0.06793378,\n",
              "        -0.1433982 , -0.41794372, -0.1937139 ,  0.20427918,  0.17209233,\n",
              "        -0.15335043,  0.2969203 ,  0.3493508 ,  0.01971051, -0.08284781,\n",
              "        -0.32395315, -0.51309824, -0.20078844,  0.24605933, -0.2060645 ,\n",
              "         0.2104683 ,  0.3057139 , -0.3228387 ,  0.15065049, -0.03159758,\n",
              "         0.27051443,  0.52858007, -0.2884668 ,  0.2992724 , -0.1126912 ,\n",
              "        -0.16289395, -0.75594914, -0.06938032, -0.09728772, -0.36411783,\n",
              "        -0.1650774 ,  0.12249114, -0.32296118, -0.17144006, -0.23071648,\n",
              "        -0.2789623 ,  0.15811504,  0.2888429 , -0.16779403,  0.32930452,\n",
              "         0.0859087 , -0.3691809 , -0.25086617,  0.06250836, -0.20347254,\n",
              "         0.9445709 , -0.1877853 ,  0.1008089 , -0.05169698, -0.18025908,\n",
              "        -0.5868383 ,  0.9999886 ,  0.09179711, -0.18645054,  0.06576973,\n",
              "         0.17460719, -0.5830254 ,  0.16584915,  0.2659451 ,  0.19902164,\n",
              "         0.14343224, -0.11045912, -0.161838  , -0.37560448, -0.7185435 ,\n",
              "        -0.22926158, -0.16664696,  0.2229277 , -0.27732953, -0.22696754,\n",
              "         0.17727073,  0.48412263,  0.13182606, -0.09331817, -0.06564659,\n",
              "         0.01643515,  0.24957262, -0.24064833,  0.99998605,  0.6490046 ,\n",
              "        -0.12972414, -0.27669072,  0.4524959 , -0.63711214, -0.30463538,\n",
              "        -0.26609868, -0.3198329 , -0.43857494,  0.27750075,  0.14790782,\n",
              "         0.05697856, -0.15109964, -0.10980625, -0.22093791,  0.3021035 ,\n",
              "        -0.6313071 , -0.14017016,  0.32548657,  0.35715902,  0.2692676 ,\n",
              "        -0.09429877,  0.27027807,  0.11266762, -0.15978275,  0.01210873,\n",
              "         0.19305843,  0.11712768, -0.04853673, -0.12266678, -0.1244616 ,\n",
              "         0.19152954, -0.10552248, -0.3845768 ,  0.0228172 , -0.09960536,\n",
              "        -0.45459574,  0.11685495, -0.08052409, -0.24212255,  0.27672035,\n",
              "        -0.12484295,  0.25991726, -0.23264751,  0.1354776 ,  0.3000853 ,\n",
              "         0.09591666, -0.38296536,  0.30548918,  0.32211614,  0.32973135,\n",
              "         0.26017055,  0.1267153 ,  0.14626627,  0.07372171, -0.07507657,\n",
              "        -0.50458884,  0.16440263,  0.11583094,  0.366788  , -0.16686007,\n",
              "        -0.4336349 , -0.17470865,  0.5755828 ,  0.33613893, -0.3172788 ,\n",
              "         0.10809416,  0.19746934, -0.10580697, -0.17105488,  0.22659281,\n",
              "        -0.12105501, -0.4066551 , -0.23523937, -0.1688423 , -0.05507452,\n",
              "         0.26865113,  0.14290793,  0.19301863,  0.19090904, -0.19836216,\n",
              "        -0.12285288, -0.12664917,  0.06950495,  0.3103272 , -0.04528731,\n",
              "         0.7422599 , -0.22385968,  0.24980047, -0.45618623, -0.13096322,\n",
              "         0.3658271 , -0.15952577,  0.26448798,  0.89488924,  0.17346361,\n",
              "        -0.20882769,  0.18839936,  0.19629239,  0.23744357, -0.14788677,\n",
              "        -0.0138278 , -0.5627268 ,  0.62372667,  0.15402529,  0.05887977,\n",
              "        -0.99998444,  0.15153484,  0.1624834 ,  0.4675872 ,  0.26257303,\n",
              "         0.22329201,  0.08521704,  0.21060112,  0.8207373 , -0.34074628,\n",
              "        -0.3631325 , -0.3072087 , -0.20767267, -0.49125546, -0.19929782,\n",
              "        -0.115297  , -0.2428571 , -0.071025  , -0.00764845, -0.08959524,\n",
              "         0.16713688,  0.31336626, -0.97283095,  0.78139   ,  0.16532749,\n",
              "        -0.06722901, -0.00432473,  0.27838197, -0.9999853 ,  0.27995256,\n",
              "        -0.05082882, -0.14949937,  0.26635632, -0.42327952, -0.23430736,\n",
              "         0.17723471,  0.43671113,  0.26923415,  0.26254746,  0.26389453,\n",
              "         0.44254008, -0.12421033,  0.06137362,  0.16928871, -0.06226453,\n",
              "         0.5012739 ,  0.03208357,  0.07038089,  0.3664621 , -0.15819824,\n",
              "         0.2873214 , -0.07258386,  0.2838618 ,  0.364647  ,  0.08507951,\n",
              "         0.13552296, -0.25513342,  0.25738397, -0.6732214 ,  0.04801915,\n",
              "        -0.25611424, -0.09197336, -0.0685558 ,  0.10372084, -0.12070595,\n",
              "        -0.32020417,  0.09339135, -0.18827303,  0.99998724,  0.237709  ,\n",
              "        -0.11039475, -0.36407837,  0.6035017 ,  0.38086364, -0.19675887,\n",
              "        -0.55076176, -0.15454367,  0.57589966,  0.35415456,  0.25632232,\n",
              "         0.07222595, -0.09279232,  0.21038696, -0.23680349, -0.13632381,\n",
              "         0.0882543 , -0.37756974,  0.21939926, -0.11911323, -0.22942197,\n",
              "         0.1992355 , -0.10525565, -0.13297729, -0.7493726 ,  0.26748586,\n",
              "         0.08229566,  0.11621217,  0.18570656,  0.22679196, -0.29640722,\n",
              "         0.5193764 ,  0.3250995 , -0.2061204 , -0.35330448, -0.30367765,\n",
              "        -0.3071721 , -0.06812316, -0.29418275, -0.29721022,  0.13088566,\n",
              "        -0.602966  ,  0.11374373,  0.02738597, -0.17504479, -0.2680129 ,\n",
              "         0.28861958, -0.9999889 , -0.2402446 ,  0.2186081 , -0.33333543,\n",
              "         0.19612296, -0.39286044, -0.23199844,  0.23300311,  0.20822127,\n",
              "        -0.02044428,  0.00390442, -0.37816864,  0.11283331, -0.09241367,\n",
              "         0.08266838,  0.8017138 ,  0.4170538 ,  0.12097134, -0.23571993,\n",
              "         0.08050412, -0.51830274, -0.11076852,  0.14667107,  0.23749317,\n",
              "        -0.21113946,  0.19556828,  0.10593136,  0.14596674, -0.07577426,\n",
              "         0.2440757 , -0.17559043, -0.1210015 ,  0.24076723,  0.04977646,\n",
              "        -0.18407148, -0.13631622,  0.25300536, -0.41056582,  0.22030969,\n",
              "         0.06844483,  0.2937085 ,  0.15820023,  0.28058863, -0.2219317 ,\n",
              "         0.00147453, -0.1032373 , -0.04097251, -0.23642841, -0.18251075,\n",
              "        -0.1065336 ,  0.9999876 ,  0.35018888,  0.40003303, -0.32014325,\n",
              "         0.13358884,  0.19947484, -0.35943592,  0.15959793,  0.19656564,\n",
              "         0.23033808, -0.20022653,  0.02254265,  0.05337501,  0.32838544,\n",
              "         0.2913558 ,  0.10178178,  0.4017433 , -0.19859824,  0.6000612 ,\n",
              "        -0.11190733, -0.33091456, -0.9724219 ,  0.12298211,  0.194798  ,\n",
              "        -0.31411675, -0.40885264,  0.06335925, -0.27536473,  0.06946437,\n",
              "        -0.01135673,  0.18243608,  0.11206461, -0.07024106,  0.25351703,\n",
              "        -0.2962302 ,  0.99998754, -0.09662157,  0.11582548,  0.2649378 ,\n",
              "         0.1815019 , -0.18930703, -0.02619482, -0.07486696,  0.3014733 ,\n",
              "        -0.09069544,  0.15354614, -0.88246465,  0.19738637,  0.05238432,\n",
              "         0.32690504, -0.15079364,  0.16666979, -0.30966365,  0.22185023,\n",
              "        -0.07934599, -0.12990654, -0.28168222,  0.22769995, -0.34255818,\n",
              "         0.4302312 , -0.16272056,  0.15080135, -0.29926002,  0.2519222 ,\n",
              "        -0.12154678,  0.25302154, -0.11053543,  0.25634462, -0.10383493,\n",
              "        -0.3094849 , -0.32902196,  0.11701321, -0.416589  ,  0.99998665,\n",
              "        -0.08439627,  0.09367778, -0.18193096,  0.17715256, -0.22264369,\n",
              "         0.31705058,  0.581238  , -0.32207626,  0.21783626,  0.2692106 ,\n",
              "        -0.51470166,  0.15263572, -0.07250386, -0.6872008 , -0.25161958,\n",
              "         0.9072693 ,  0.15630533,  0.4088658 ,  0.19831176,  0.12380094,\n",
              "         0.03442969, -0.15300083,  0.24482843,  0.79762733,  0.22282955,\n",
              "         0.22279373,  0.20259385,  0.00408382, -0.23096105, -0.11891878,\n",
              "         0.9999848 ,  0.9999841 ,  0.07806809,  0.41654232, -0.29286674,\n",
              "        -0.28344214, -0.17747694,  0.21590492,  0.22796795,  0.25619674,\n",
              "        -0.16872518, -0.08945131, -0.2658812 , -0.24764031, -0.14058447,\n",
              "        -0.12931901, -0.20724449,  0.1335859 , -0.22219867,  0.41451958,\n",
              "         0.36740214,  0.0058579 ,  0.40634087,  0.22774196,  0.06651957,\n",
              "        -0.06876242, -0.2331964 ,  0.4635547 , -0.17159323, -0.08842202,\n",
              "        -0.321454  ,  0.03216924, -0.9999806 , -0.17823112, -0.29201552,\n",
              "        -0.19391891,  0.43389043,  0.22508092,  0.11719791, -0.3110008 ,\n",
              "        -0.05733523, -0.22572012,  0.28040758,  0.10240874, -0.0393411 ,\n",
              "        -0.11397184, -0.38983315,  0.41034725, -0.38885483,  0.20040858,\n",
              "        -0.23743626, -0.24477747, -0.55221736, -0.17495242, -0.24742806,\n",
              "         0.2416189 , -0.21726336, -0.1990034 ,  0.18841562,  0.29228035,\n",
              "         0.24242522, -0.21749856,  0.34929818, -0.32990986,  0.10182434,\n",
              "         0.2931385 ,  0.23093173,  0.20872079, -0.29058662, -0.28627604,\n",
              "        -0.11197584, -0.16615532, -0.20999092,  0.32294318, -0.27574876,\n",
              "         0.2652925 , -0.0754239 ,  0.19347455, -0.26192072,  0.07527664,\n",
              "         0.2511332 ,  0.4276329 , -0.2797546 ,  0.40136296,  0.21831088,\n",
              "        -0.12230741,  0.40176114, -0.03221957, -0.24969788, -0.16555797,\n",
              "         0.999989  ,  0.44394702,  0.24213451,  0.18314722, -0.15278599,\n",
              "         0.31293035,  0.16298021,  0.42751223, -0.40619364,  0.744315  ,\n",
              "        -0.2198201 ,  0.2044717 ,  0.05369829,  0.270415  ,  0.01171088,\n",
              "         0.21632306,  0.351659  ,  0.6895465 ,  0.11637003,  0.14976802,\n",
              "         0.16637234,  0.26014218,  0.2839449 ,  0.31885588,  0.24261522,\n",
              "         0.35312   ,  0.37101918, -0.15396021,  0.18451998,  0.0094373 ,\n",
              "        -0.17233735, -0.06490246, -0.15054506, -0.21573679,  0.20302486,\n",
              "        -0.23101074, -0.19715552, -0.12501948,  0.38342518, -0.23397419,\n",
              "         0.29771566, -0.14923665, -0.36455464,  0.5364871 , -0.39313066,\n",
              "         0.10538919, -0.17958646,  0.1147361 , -0.7356784 ,  0.02463738,\n",
              "        -0.19101547, -0.49034566, -0.18266843, -0.4166935 ,  0.17487717,\n",
              "         0.21368001, -0.05847029,  0.2368615 , -0.2066761 ,  0.2647895 ,\n",
              "        -0.17719239, -0.14374797,  0.14514218, -0.9999879 ,  0.02852344,\n",
              "         0.08569474, -0.21936432,  0.11582773,  0.07985748,  0.21785736,\n",
              "         0.16434225, -0.2399015 , -0.18497686, -0.01892203,  0.20262364,\n",
              "        -0.2758098 ,  0.01353151,  0.17490102, -0.3619102 , -0.25757003,\n",
              "         0.01111384, -0.09126326,  0.17004202,  0.28724495, -0.27175796,\n",
              "         0.152312  , -0.30123413,  0.25435087, -0.07980814,  0.2522373 ,\n",
              "        -0.24300338, -0.20408154,  0.2896057 , -0.42646605, -0.30784205,\n",
              "        -0.189313  ,  0.08753507, -0.09628372,  0.04968995,  0.08904816,\n",
              "        -0.16971631,  0.3685835 , -0.11618016,  0.26065552, -0.279124  ,\n",
              "         0.25341743, -0.7259753 , -0.302521  , -0.23771773, -0.19329421,\n",
              "         0.31707397,  0.2744068 ,  0.07511761,  0.20567761, -0.08300207,\n",
              "         0.17799264, -0.11622906,  0.08164931,  0.24501689, -0.14514692,\n",
              "         0.0891374 , -0.14130287,  0.3728473 , -0.3367152 ,  0.13173606,\n",
              "        -0.967807  , -0.24601601,  0.12715213,  0.32034138,  0.34080383,\n",
              "        -0.22942631, -0.08909445, -0.22619472, -0.07071298,  0.14493603,\n",
              "         0.3153937 ,  0.24869992,  0.10723921,  0.257378  , -0.15506083,\n",
              "        -0.07636289,  0.5801629 , -0.30704   ,  0.041307  ,  0.3794492 ,\n",
              "         0.14497106,  0.7452646 ,  0.2831058 ,  0.2406505 ,  0.19796336,\n",
              "        -0.34868243,  0.24804853,  0.2646354 ]], dtype=float32)>, past_key_values=None, hidden_states=None, attentions=None, cross_attentions=None)"
            ]
          },
          "metadata": {},
          "execution_count": 14
        }
      ]
    },
    {
      "cell_type": "code",
      "source": [
        "output[\"last_hidden_state\"]"
      ],
      "metadata": {
        "colab": {
          "base_uri": "https://localhost:8080/"
        },
        "id": "d1aynW3xnho7",
        "outputId": "e22155a2-e8c1-41c6-b5bd-4bf7aaa68a0f"
      },
      "execution_count": 20,
      "outputs": [
        {
          "output_type": "execute_result",
          "data": {
            "text/plain": [
              "<tf.Tensor: shape=(1, 9, 768), dtype=float32, numpy=\n",
              "array([[[-0.0801833 ,  0.03810789,  0.27046832, ...,  0.39124045,\n",
              "         -0.11388008, -0.04561074],\n",
              "        [-0.13535473, -0.6108815 ,  0.83754236, ...,  0.6064944 ,\n",
              "         -0.36229718,  0.06997184],\n",
              "        [-0.9340397 , -0.27897662,  0.34910232, ...,  1.0008135 ,\n",
              "         -0.27053487,  0.39220354],\n",
              "        ...,\n",
              "        [-0.6494424 ,  0.01610382,  0.0694848 , ...,  0.9110728 ,\n",
              "         -0.33973166, -0.44170994],\n",
              "        [-0.43948   ,  0.11157995,  0.09911817, ...,  0.7545627 ,\n",
              "          0.09094203, -0.18004183],\n",
              "        [-0.28581655, -0.2066401 ,  1.011272  , ...,  0.43730482,\n",
              "         -0.19045137,  0.07825352]]], dtype=float32)>"
            ]
          },
          "metadata": {},
          "execution_count": 20
        }
      ]
    },
    {
      "cell_type": "code",
      "source": [
        "output[\"last_hidden_state\"].shape"
      ],
      "metadata": {
        "colab": {
          "base_uri": "https://localhost:8080/"
        },
        "id": "2czwX_tmnul5",
        "outputId": "5dc825ba-551e-4be1-9eb9-9637d622a962"
      },
      "execution_count": 21,
      "outputs": [
        {
          "output_type": "execute_result",
          "data": {
            "text/plain": [
              "TensorShape([1, 9, 768])"
            ]
          },
          "metadata": {},
          "execution_count": 21
        }
      ]
    },
    {
      "cell_type": "code",
      "source": [
        "output[\"last_hidden_state\"].shape[-1]"
      ],
      "metadata": {
        "colab": {
          "base_uri": "https://localhost:8080/"
        },
        "id": "3ED1OiMJoXOh",
        "outputId": "387559d4-4eda-4b7b-d406-786968055891"
      },
      "execution_count": 25,
      "outputs": [
        {
          "output_type": "execute_result",
          "data": {
            "text/plain": [
              "768"
            ]
          },
          "metadata": {},
          "execution_count": 25
        }
      ]
    },
    {
      "cell_type": "code",
      "source": [
        "# model = tf.keras.Sequential([\n",
        "#   layers.Embedding(max_features + 1, embedding_dim),\n",
        "#   layers.Dropout(0.2),\n",
        "#   layers.GlobalAveragePooling1D(),\n",
        "#   layers.Dropout(0.2),\n",
        "#   layers.Dense(1)])\n",
        "\n",
        "# model.summary()"
      ],
      "metadata": {
        "id": "27X-RxfQXzWU"
      },
      "execution_count": 16,
      "outputs": []
    },
    {
      "cell_type": "code",
      "source": [
        "# This model is not used (as CNN is better).\n",
        "# This would require sentence vector as input (instead of word vectors)\n",
        "# how to get sentence vector?\n",
        "def createModel1(vectorSpaceSize, nClasses, **kwargs):\n",
        "    model = Sequential()\n",
        "    model.add(Dense(nClasses, input_dim=vectorSpaceSize, activation='softmax'))\n",
        "    return model"
      ],
      "metadata": {
        "id": "k7AICObnyegu"
      },
      "execution_count": 32,
      "outputs": []
    },
    {
      "cell_type": "code",
      "source": [
        "# is nClasses the number of different classes im trying to classify? in that case its 2\n",
        "# {'DepartureTime', 'FindConnection'}\n",
        "\n",
        "createModel1(vectorSpaceSize=output[\"last_hidden_state\"].shape[-1], nClasses=2)"
      ],
      "metadata": {
        "colab": {
          "base_uri": "https://localhost:8080/"
        },
        "id": "04B5b71cnalL",
        "outputId": "b79a77ed-8365-49da-c22d-36c2b047e090"
      },
      "execution_count": 33,
      "outputs": [
        {
          "output_type": "execute_result",
          "data": {
            "text/plain": [
              "<keras.engine.sequential.Sequential at 0x7fa9a518d5e0>"
            ]
          },
          "metadata": {},
          "execution_count": 33
        }
      ]
    },
    {
      "cell_type": "code",
      "source": [
        "def createAdamOptimizer(lr=0.001, beta_1=0.9, beta_2=0.999, decay=0, epsilon=None, amsgrad=False):\n",
        "    return Adam(learning_rate=lr, beta_1=beta_1, beta_2=beta_2, epsilon=epsilon, decay=decay, amsgrad=amsgrad)\n",
        "\n",
        "learning_rate = 0.03\n",
        "optimizer = createAdamOptimizer(lr=learning_rate)"
      ],
      "metadata": {
        "id": "NhWtGmZbn6Zy"
      },
      "execution_count": 34,
      "outputs": []
    },
    {
      "cell_type": "code",
      "source": [
        "model.compile(optimizer=optimizer,\n",
        "              #loss='categorical_crossentropy',\n",
        "              loss=tf.keras.losses.BinaryCrossentropy(from_logits=False),\n",
        "              metrics=['accuracy'])"
      ],
      "metadata": {
        "id": "OdrE5uQOou6c"
      },
      "execution_count": 35,
      "outputs": []
    },
    {
      "cell_type": "code",
      "source": [
        "plot_model(model)"
      ],
      "metadata": {
        "colab": {
          "base_uri": "https://localhost:8080/",
          "height": 77
        },
        "id": "eCyrZMDJpJc5",
        "outputId": "814bd633-2f89-4c48-8302-9e14ebb3582d"
      },
      "execution_count": 36,
      "outputs": [
        {
          "output_type": "execute_result",
          "data": {
            "image/png": "[encoded data removed]",
            "text/plain": [
              "<IPython.core.display.Image object>"
            ]
          },
          "metadata": {},
          "execution_count": 36
        }
      ]
    },
    {
      "cell_type": "code",
      "source": [
        "logDir = \".\"\n",
        "tbCallBack = TensorBoard(log_dir=logDir, histogram_freq=0, # histogram_freq=1,\n",
        "        write_graph=True, write_images=True)\n",
        "\n",
        "with open(os.path.join(logDir, 'params.txt'), 'w', encoding='utf-8', buffering=1) as out:\n",
        "  out.write(model.to_json() + \"\\n\\n\")\n",
        "  model.summary(print_fn=lambda x: out.write(x + '\\n'))\n",
        "  out.write(\"\\n\")"
      ],
      "metadata": {
        "id": "gS1zdhWmpwac"
      },
      "execution_count": 40,
      "outputs": []
    },
    {
      "cell_type": "code",
      "source": [
        "# TODO:  en_test  ->  encoded_input -> output -> classifier(output[\"pooler_output\"]) -> ????? ->  testX, testY"
      ],
      "metadata": {
        "id": "xTvW_snF2AWk"
      },
      "execution_count": 42,
      "outputs": []
    },
    {
      "cell_type": "code",
      "source": [
        "history = model.fit(trainX, trainY, epochs=epochs, verbose=0,\n",
        "    callbacks=[tbCallBack, CustomCallback()],\n",
        "    validation_data=(testX, testY),\n",
        ")\n",
        "model.save(os.path.join(logDir, \"model.hdf\"))"
      ],
      "metadata": {
        "colab": {
          "base_uri": "https://localhost:8080/",
          "height": 241
        },
        "id": "G2HSEXqMq0ju",
        "outputId": "80848233-51f0-4db4-c4e5-afe9d52f1ee3"
      },
      "execution_count": 41,
      "outputs": [
        {
          "output_type": "error",
          "ename": "NameError",
          "evalue": "ignored",
          "traceback": [
            "\u001b[0;31m---------------------------------------------------------------------------\u001b[0m",
            "\u001b[0;31mNameError\u001b[0m                                 Traceback (most recent call last)",
            "\u001b[0;32m<ipython-input-41-5e036cdc160b>\u001b[0m in \u001b[0;36m<module>\u001b[0;34m\u001b[0m\n\u001b[0;32m----> 1\u001b[0;31m history = model.fit(trainX, trainY, epochs=epochs, verbose=0,\n\u001b[0m\u001b[1;32m      2\u001b[0m     \u001b[0mcallbacks\u001b[0m\u001b[0;34m=\u001b[0m\u001b[0;34m[\u001b[0m\u001b[0mtbCallBack\u001b[0m\u001b[0;34m,\u001b[0m \u001b[0mCustomCallback\u001b[0m\u001b[0;34m(\u001b[0m\u001b[0;34m)\u001b[0m\u001b[0;34m]\u001b[0m\u001b[0;34m,\u001b[0m\u001b[0;34m\u001b[0m\u001b[0;34m\u001b[0m\u001b[0m\n\u001b[1;32m      3\u001b[0m     \u001b[0mvalidation_data\u001b[0m\u001b[0;34m=\u001b[0m\u001b[0;34m(\u001b[0m\u001b[0mtestX\u001b[0m\u001b[0;34m,\u001b[0m \u001b[0mtestY\u001b[0m\u001b[0;34m)\u001b[0m\u001b[0;34m,\u001b[0m\u001b[0;34m\u001b[0m\u001b[0;34m\u001b[0m\u001b[0m\n\u001b[1;32m      4\u001b[0m )\n\u001b[1;32m      5\u001b[0m \u001b[0mmodel\u001b[0m\u001b[0;34m.\u001b[0m\u001b[0msave\u001b[0m\u001b[0;34m(\u001b[0m\u001b[0mos\u001b[0m\u001b[0;34m.\u001b[0m\u001b[0mpath\u001b[0m\u001b[0;34m.\u001b[0m\u001b[0mjoin\u001b[0m\u001b[0;34m(\u001b[0m\u001b[0mlogDir\u001b[0m\u001b[0;34m,\u001b[0m \u001b[0;34m\"model.hdf\"\u001b[0m\u001b[0;34m)\u001b[0m\u001b[0;34m)\u001b[0m\u001b[0;34m\u001b[0m\u001b[0;34m\u001b[0m\u001b[0m\n",
            "\u001b[0;31mNameError\u001b[0m: name 'trainX' is not defined"
          ]
        }
      ]
    },
    {
      "cell_type": "code",
      "source": [],
      "metadata": {
        "id": "MWDrtHxGsApF"
      },
      "execution_count": null,
      "outputs": []
    }
  ]
}