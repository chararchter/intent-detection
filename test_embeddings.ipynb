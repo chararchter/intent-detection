{
  "nbformat": 4,
  "nbformat_minor": 0,
  "metadata": {
    "colab": {
      "provenance": [],
      "authorship_tag": "ABX9TyMnFAFu5cAdl/l201xOxCOr",
      "include_colab_link": true
    },
    "kernelspec": {
      "name": "python3",
      "display_name": "Python 3"
    },
    "language_info": {
      "name": "python"
    }
  },
  "cells": [
    {
      "cell_type": "markdown",
      "metadata": {
        "id": "view-in-github",
        "colab_type": "text"
      },
      "source": [
        "<a href=\"https://colab.research.google.com/github/chararchter/intent-detection/blob/master/test_embeddings.ipynb\" target=\"_parent\"><img src=\"https://colab.research.google.com/assets/colab-badge.svg\" alt=\"Open In Colab\"/></a>"
      ]
    },
    {
      "cell_type": "code",
      "execution_count": 14,
      "metadata": {
        "colab": {
          "base_uri": "https://localhost:8080/"
        },
        "id": "Sx3Ko_R4wflt",
        "outputId": "e82f4c25-3c42-4ddd-c46f-674c95fe7794"
      },
      "outputs": [
        {
          "output_type": "stream",
          "name": "stdout",
          "text": [
            "Looking in indexes: https://pypi.org/simple, https://us-python.pkg.dev/colab-wheels/public/simple/\n",
            "Requirement already satisfied: transformers in /usr/local/lib/python3.8/dist-packages (4.25.1)\n",
            "Requirement already satisfied: tqdm>=4.27 in /usr/local/lib/python3.8/dist-packages (from transformers) (4.64.1)\n",
            "Requirement already satisfied: packaging>=20.0 in /usr/local/lib/python3.8/dist-packages (from transformers) (21.3)\n",
            "Requirement already satisfied: filelock in /usr/local/lib/python3.8/dist-packages (from transformers) (3.9.0)\n",
            "Requirement already satisfied: regex!=2019.12.17 in /usr/local/lib/python3.8/dist-packages (from transformers) (2022.6.2)\n",
            "Requirement already satisfied: huggingface-hub<1.0,>=0.10.0 in /usr/local/lib/python3.8/dist-packages (from transformers) (0.11.1)\n",
            "Requirement already satisfied: requests in /usr/local/lib/python3.8/dist-packages (from transformers) (2.25.1)\n",
            "Requirement already satisfied: tokenizers!=0.11.3,<0.14,>=0.11.1 in /usr/local/lib/python3.8/dist-packages (from transformers) (0.13.2)\n",
            "Requirement already satisfied: numpy>=1.17 in /usr/local/lib/python3.8/dist-packages (from transformers) (1.21.6)\n",
            "Requirement already satisfied: pyyaml>=5.1 in /usr/local/lib/python3.8/dist-packages (from transformers) (6.0)\n",
            "Requirement already satisfied: typing-extensions>=3.7.4.3 in /usr/local/lib/python3.8/dist-packages (from huggingface-hub<1.0,>=0.10.0->transformers) (4.4.0)\n",
            "Requirement already satisfied: pyparsing!=3.0.5,>=2.0.2 in /usr/local/lib/python3.8/dist-packages (from packaging>=20.0->transformers) (3.0.9)\n",
            "Requirement already satisfied: chardet<5,>=3.0.2 in /usr/local/lib/python3.8/dist-packages (from requests->transformers) (4.0.0)\n",
            "Requirement already satisfied: certifi>=2017.4.17 in /usr/local/lib/python3.8/dist-packages (from requests->transformers) (2022.12.7)\n",
            "Requirement already satisfied: urllib3<1.27,>=1.21.1 in /usr/local/lib/python3.8/dist-packages (from requests->transformers) (1.24.3)\n",
            "Requirement already satisfied: idna<3,>=2.5 in /usr/local/lib/python3.8/dist-packages (from requests->transformers) (2.10)\n"
          ]
        }
      ],
      "source": [
        "!pip install transformers"
      ]
    },
    {
      "cell_type": "code",
      "source": [
        "import os\n",
        "from pathlib import Path\n",
        "from typing import List\n",
        "\n",
        "import tensorflow as tf\n",
        "from keras.layers import (Dense, Conv1D)\n",
        "from keras.models import Sequential\n",
        "from tensorflow.keras.optimizers import Adam\n",
        "from transformers import BertTokenizer, TFBertModel"
      ],
      "metadata": {
        "id": "_OENIgutwjp1"
      },
      "execution_count": 15,
      "outputs": []
    },
    {
      "cell_type": "code",
      "source": [
        "# define model and tokenizer\n",
        "model_name = \"bert-base-multilingual-cased\"\n",
        "tokenizer = BertTokenizer.from_pretrained(model_name)\n",
        "model_bert = TFBertModel.from_pretrained(model_name)"
      ],
      "metadata": {
        "colab": {
          "base_uri": "https://localhost:8080/"
        },
        "id": "rDWtw2FHxDOl",
        "outputId": "4be87e0b-445f-4835-a7a9-f4d766cb46cf"
      },
      "execution_count": 16,
      "outputs": [
        {
          "output_type": "stream",
          "name": "stderr",
          "text": [
            "Some layers from the model checkpoint at bert-base-multilingual-cased were not used when initializing TFBertModel: ['mlm___cls', 'nsp___cls']\n",
            "- This IS expected if you are initializing TFBertModel from the checkpoint of a model trained on another task or with another architecture (e.g. initializing a BertForSequenceClassification model from a BertForPreTraining model).\n",
            "- This IS NOT expected if you are initializing TFBertModel from the checkpoint of a model that you expect to be exactly identical (initializing a BertForSequenceClassification model from a BertForSequenceClassification model).\n",
            "All the layers of TFBertModel were initialized from the model checkpoint at bert-base-multilingual-cased.\n",
            "If your task is similar to the task the model of the checkpoint was trained on, you can already use TFBertModel for predictions without further training.\n"
          ]
        }
      ]
    },
    {
      "cell_type": "code",
      "source": [
        "# load the labels\n",
        "if not os.path.isfile(\"chatbot_test_ans.txt\"):\n",
        "  !wget https://raw.githubusercontent.com/tilde-nlp/NLU-datasets/master/chatbot/chatbot_test_ans.txt"
      ],
      "metadata": {
        "id": "_TsncJvPytUM"
      },
      "execution_count": 17,
      "outputs": []
    },
    {
      "cell_type": "code",
      "source": [
        "with open(\"chatbot_test_ans.txt\", \"r\") as f:\n",
        "  test_answers = f.readlines()\n",
        "\n",
        "test_answers"
      ],
      "metadata": {
        "colab": {
          "base_uri": "https://localhost:8080/"
        },
        "id": "v4tJ-Ri0yzP2",
        "outputId": "106f8794-a395-45e1-e5de-061686127713"
      },
      "execution_count": 18,
      "outputs": [
        {
          "output_type": "execute_result",
          "data": {
            "text/plain": [
              "['FindConnection\\n',\n",
              " 'DepartureTime\\n',\n",
              " 'DepartureTime\\n',\n",
              " 'FindConnection\\n',\n",
              " 'FindConnection\\n',\n",
              " 'FindConnection\\n',\n",
              " 'FindConnection\\n',\n",
              " 'FindConnection\\n',\n",
              " 'FindConnection\\n',\n",
              " 'FindConnection\\n',\n",
              " 'FindConnection\\n',\n",
              " 'DepartureTime\\n',\n",
              " 'FindConnection\\n',\n",
              " 'FindConnection\\n',\n",
              " 'FindConnection\\n',\n",
              " 'FindConnection\\n',\n",
              " 'FindConnection\\n',\n",
              " 'DepartureTime\\n',\n",
              " 'FindConnection\\n',\n",
              " 'FindConnection\\n',\n",
              " 'FindConnection\\n',\n",
              " 'DepartureTime\\n',\n",
              " 'FindConnection\\n',\n",
              " 'FindConnection\\n',\n",
              " 'FindConnection\\n',\n",
              " 'FindConnection\\n',\n",
              " 'DepartureTime\\n',\n",
              " 'FindConnection\\n',\n",
              " 'FindConnection\\n',\n",
              " 'FindConnection\\n',\n",
              " 'FindConnection\\n',\n",
              " 'FindConnection\\n',\n",
              " 'DepartureTime\\n',\n",
              " 'FindConnection\\n',\n",
              " 'DepartureTime\\n',\n",
              " 'FindConnection\\n',\n",
              " 'DepartureTime\\n',\n",
              " 'FindConnection\\n',\n",
              " 'FindConnection\\n',\n",
              " 'FindConnection\\n',\n",
              " 'FindConnection\\n',\n",
              " 'FindConnection\\n',\n",
              " 'FindConnection\\n',\n",
              " 'FindConnection\\n',\n",
              " 'DepartureTime\\n',\n",
              " 'FindConnection\\n',\n",
              " 'DepartureTime\\n',\n",
              " 'FindConnection\\n',\n",
              " 'FindConnection\\n',\n",
              " 'DepartureTime\\n',\n",
              " 'DepartureTime\\n',\n",
              " 'DepartureTime\\n',\n",
              " 'DepartureTime\\n',\n",
              " 'DepartureTime\\n',\n",
              " 'DepartureTime\\n',\n",
              " 'DepartureTime\\n',\n",
              " 'FindConnection\\n',\n",
              " 'DepartureTime\\n',\n",
              " 'FindConnection\\n',\n",
              " 'DepartureTime\\n',\n",
              " 'FindConnection\\n',\n",
              " 'DepartureTime\\n',\n",
              " 'DepartureTime\\n',\n",
              " 'DepartureTime\\n',\n",
              " 'DepartureTime\\n',\n",
              " 'FindConnection\\n',\n",
              " 'FindConnection\\n',\n",
              " 'FindConnection\\n',\n",
              " 'FindConnection\\n',\n",
              " 'FindConnection\\n',\n",
              " 'FindConnection\\n',\n",
              " 'FindConnection\\n',\n",
              " 'FindConnection\\n',\n",
              " 'FindConnection\\n',\n",
              " 'FindConnection\\n',\n",
              " 'FindConnection\\n',\n",
              " 'FindConnection\\n',\n",
              " 'FindConnection\\n',\n",
              " 'DepartureTime\\n',\n",
              " 'FindConnection\\n',\n",
              " 'FindConnection\\n',\n",
              " 'FindConnection\\n',\n",
              " 'FindConnection\\n',\n",
              " 'DepartureTime\\n',\n",
              " 'DepartureTime\\n',\n",
              " 'DepartureTime\\n',\n",
              " 'DepartureTime\\n',\n",
              " 'DepartureTime\\n',\n",
              " 'DepartureTime\\n',\n",
              " 'FindConnection\\n',\n",
              " 'FindConnection\\n',\n",
              " 'FindConnection\\n',\n",
              " 'FindConnection\\n',\n",
              " 'DepartureTime\\n',\n",
              " 'FindConnection\\n',\n",
              " 'FindConnection\\n',\n",
              " 'DepartureTime\\n',\n",
              " 'DepartureTime\\n',\n",
              " 'FindConnection\\n',\n",
              " 'FindConnection\\n',\n",
              " 'FindConnection\\n',\n",
              " 'FindConnection\\n',\n",
              " 'FindConnection\\n',\n",
              " 'FindConnection\\n',\n",
              " 'DepartureTime\\n',\n",
              " 'FindConnection\\n']"
            ]
          },
          "metadata": {},
          "execution_count": 18
        }
      ]
    },
    {
      "cell_type": "code",
      "source": [
        "os.path.isfile(\"chatbot_test_q.txt\")"
      ],
      "metadata": {
        "colab": {
          "base_uri": "https://localhost:8080/"
        },
        "id": "HOHPnWG1xIzo",
        "outputId": "31845f2c-b7e3-4f76-c58d-12065c3fe2f8"
      },
      "execution_count": 19,
      "outputs": [
        {
          "output_type": "execute_result",
          "data": {
            "text/plain": [
              "True"
            ]
          },
          "metadata": {},
          "execution_count": 19
        }
      ]
    },
    {
      "cell_type": "code",
      "source": [
        "# load the training data\n",
        "if not os.path.isfile(\"chatbot_test_q.txt\"):\n",
        "  !wget https://raw.githubusercontent.com/tilde-nlp/NLU-datasets/master/chatbot/en/chatbot_test_q.txt"
      ],
      "metadata": {
        "id": "KAfqoI33Mr8_"
      },
      "execution_count": 20,
      "outputs": []
    },
    {
      "cell_type": "code",
      "source": [
        "with open(\"chatbot_test_q.txt\", \"r\") as f:\n",
        "  en_test = f.readlines()\n",
        "\n",
        "en_test"
      ],
      "metadata": {
        "colab": {
          "base_uri": "https://localhost:8080/"
        },
        "id": "gCIuwCnExUwd",
        "outputId": "ac256aea-26f6-471f-d081-f5773ac3c545"
      },
      "execution_count": 21,
      "outputs": [
        {
          "output_type": "execute_result",
          "data": {
            "text/plain": [
              "['i want to go marienplatz\\n',\n",
              " 'when is the next train in muncher freiheit?\\n',\n",
              " 'when does the next u-bahn leaves from garching forschungszentrum?\\n',\n",
              " 'from olympia einkaufszentrum to hauptbahnhof\\n',\n",
              " 'when is the next train from winterstraße 12 to kieferngarten\\n',\n",
              " 'when is the next rocket from winterstraße 12 to kieferngarte\\n',\n",
              " 'can you find a connection from garching to hauptbahnhof?\\n',\n",
              " 'how to get from untere strassäcker 21 to fröttmaning\\n',\n",
              " 'how i can get from marienplatz to garching\\n',\n",
              " 'connection from boltzmannstraße to kieferngarten\\n',\n",
              " 'how to get from bonner platz to freimann?\\n',\n",
              " 'when is the next s-bahn leaving at garching?\\n',\n",
              " 'how do i get from oez to hbf?\\n',\n",
              " 'how to get from winterstrasse 12 to fröttmaning\\n',\n",
              " 'how do i get from garching forschungszentrum to pasing\\n',\n",
              " 'theresienstraße to assling\\n',\n",
              " 'how can i get from theresienstraße to munich east?\\n',\n",
              " 'when does the next bus starts from garching?\\n',\n",
              " 'from quiddestraße to garching?\\n',\n",
              " 'can you find a connection from kurt-eisner-straße to garching forschungszentrum?\\n',\n",
              " 'can you find a connection from quiddestraße to garching forschungszentrum?\\n',\n",
              " 'when does the next train leaves at garching?\\n',\n",
              " 'from hauptbahnhof to garching?\\n',\n",
              " 'how can i get to glockenbachviertel from garching forschungszentrum?\\n',\n",
              " 'how i can get from garching to nordfriedhof\\n',\n",
              " 'how can i get to glockenbachviertel from garching forschungszentrum?\\n',\n",
              " 'when is the next train leaving in garching forschungszentrum\\n',\n",
              " 'how can i get from moosach to quiddestraße?\\n',\n",
              " 'how can i get from moosach to poccistraße?\\n',\n",
              " 'how can i get from kurt-eisner-straße to garching forschungszentrum?\\n',\n",
              " 'how can i get from moosach to quiddestraße?\\n',\n",
              " 'how can i get from moosach to odeonsplatz?\\n',\n",
              " 'when does the next bus starts at garching?\\n',\n",
              " \"what's the shortest way from quiddestraße to odeonsplatz?\\n\",\n",
              " 'when is the next bus from ostbahnhof\\n',\n",
              " 'how i can get from garching to neuperlach sued\\n',\n",
              " 'when is the next train in munchner freiheit?\\n',\n",
              " 'how i can get from marienplatz to garching?\\n',\n",
              " 'how do i get from poccistraße to laim\\n',\n",
              " 'i want to go garching from marienplatz\\n',\n",
              " 'how i can get from marienplatz to garching?\\n',\n",
              " 'how can i get from hauptbahnhof to odeonsplatz\\n',\n",
              " 'prinzregentenplatz to rotkreuzplatz\\n',\n",
              " 'i want to go to garching from marienplatz\\n',\n",
              " 'next train from garching\\n',\n",
              " 'from prinzregentenplatz to rotkreuzplatz\\n',\n",
              " 'when is the next subway from garching forschungszentrum\\n',\n",
              " 'from garching to klinikum\\n',\n",
              " 'from garching foschungszentrum to odeonsplatz\\n',\n",
              " 'next bus in garching\\n',\n",
              " 'when does the train leaving in garching forschungszentrum\\n',\n",
              " 'next subway from garching forschungszentrum\\n',\n",
              " 'tell me the next bus from garching\\n',\n",
              " '\"next bus from garching, please.\"\\n',\n",
              " 'next bus from garching\\n',\n",
              " 'next bus from central station\\n',\n",
              " 'from garching to marienplatz\\n',\n",
              " 'next bus from garching.\\n',\n",
              " 'connection from garching to hauptbahnhof?\\n',\n",
              " 'when does the next bus departs from garching?\\n',\n",
              " 'find connection from hauptbahnhof to odeonsplatz\\n',\n",
              " 'when does the next u-bahn departs at garching forschungszentrum?\\n',\n",
              " 'when does the next u-bahn departs at garching?\\n',\n",
              " 'when does the next subway departs at garching\\n',\n",
              " 'when is the next train in garching?\\n',\n",
              " 'how to get from münchner freiheit to garching ?\\n',\n",
              " 'implerstraße to ostbahnhof\\n',\n",
              " 'how can i get from hauptbahnhof to odeonsplatz?\\n',\n",
              " 'how can i go from garching forschungszentrum to prinzregentenplatz\\n',\n",
              " 'how can i get from mangfallplatz to garching\\n',\n",
              " 'how can i get to hohenlindenerstraße\\n',\n",
              " 'harthaus to hackerbrücke\\n',\n",
              " 'how can i get from feldmoching to garching forschungszentrum?\\n',\n",
              " 'from marienplatz to petershausen\\n',\n",
              " 'when is the train from garching to marienplatz\\n',\n",
              " 'neufahrn to garching\\n',\n",
              " 'how can i get from mangfallplatz to garching\\n',\n",
              " 'how can i get to hohenlindenerstr\\n',\n",
              " 'when is the next bus from garching forschungzentrum\\n',\n",
              " 'how do i get from spitzingplatz to poccistraße?\\n',\n",
              " 'how can i get from garching forschungszentrum to marienplatz\\n',\n",
              " 'how can i get from klinkum to marienplatz?\\n',\n",
              " 'how to get from alte heide to marienplatz\\n',\n",
              " 'next train from muenchen freicheit\\n',\n",
              " '\"depart in garching, i assume\"\\n',\n",
              " 'when does the next u-bahn depart at garching?\\n',\n",
              " 'the next bus from garching forschungzentrum\\n',\n",
              " 'when is the next train in alte heide?\\n',\n",
              " 'or depart from garching\\n',\n",
              " 'hello munich city bot! how do i get from münchner freiheit to scheidplatz?\\n',\n",
              " 'how can i get from garching forschungszentrum to prinzregentenplatz\\n',\n",
              " 'how can i get from neufahrn to garching\\n',\n",
              " 'take me to the airport\\n',\n",
              " 'when does the next u6 leave from garching forschungszentrum\\n',\n",
              " 'how i can get from munchner freiheit to nordfriedhof?\\n',\n",
              " 'from harthaus to hackerbrücke\\n',\n",
              " 'when is the train from garching\\n',\n",
              " 'what is the next train from münchner freiheit\\n',\n",
              " 'how can i get from theresienstrasse to garching forschungszentrum\\n',\n",
              " 'how can i get from münchner freiheit to odeonsplatz\\n',\n",
              " 'from garching to hauptbahnhof\\n',\n",
              " 'how can i get from garching to odeonsplatz\\n',\n",
              " 'start: neufahrn end:garching\\n',\n",
              " 'how can i get from studentenstadt to garching\\n',\n",
              " 'when is the next bus from garching\\n',\n",
              " 'take me from hauptbahnhof to odeonsplatz\\n']"
            ]
          },
          "metadata": {},
          "execution_count": 21
        }
      ]
    },
    {
      "cell_type": "code",
      "source": [
        "assert len(test_answers) == len(en_test)"
      ],
      "metadata": {
        "id": "YAdAGm3lyq1u"
      },
      "execution_count": 22,
      "outputs": []
    },
    {
      "cell_type": "code",
      "source": [
        "def create_model_one_layer(units: int, batch_size: int, sentence_length: int, **kwargs):\n",
        "    \"\"\"\n",
        "    returns <tf.Tensor: shape=(1, batch_size, 1, units), dtype=float32\n",
        "    e.g. <tf.Tensor: shape=(1, 4, 1, 2), dtype=float32\n",
        "    where 4 = batch_size, 2 = units\n",
        "    \"\"\"\n",
        "    model = Sequential()\n",
        "    model.add(tf.keras.Input(shape=(batch_size, sentence_length, 768))) # from shape=(1, 9, 768)\n",
        "    model.add(Dense(units, activation='softmax'))\n",
        "    model.add(Conv1D(units, sentence_length, padding=\"valid\", activation=\"softmax\"))\n",
        "    return model\n",
        "\n",
        "\n",
        "def create_adam_optimizer(lr=0.001, beta_1=0.9, beta_2=0.999, decay=0, epsilon=None, amsgrad=False):\n",
        "    return tf.keras.optimizers.legacy.Adam(learning_rate=lr, beta_1=beta_1, beta_2=beta_2, epsilon=epsilon, decay=decay, amsgrad=amsgrad)\n",
        "\n",
        "\n",
        "def encode_labels(test_answers: List) -> List:\n",
        "    \"\"\" Encode labels in one hot-encoding\n",
        "    'FindConnection' corresponds to [[1, 0]]\n",
        "    'DepartureTime' corresponds to [[0, 1]]\n",
        "    \"\"\"\n",
        "    y_train = []\n",
        "    for answer in test_answers:\n",
        "        if answer == 'FindConnection':\n",
        "            y_train.append([[1, 0]])\n",
        "        else:\n",
        "            y_train.append([[0, 1]])\n",
        "    return y_train\n",
        "\n",
        "\n",
        "def expand_dimensions(y_train: List):\n",
        "    y_train_tensor = tf.convert_to_tensor(y_train, dtype=float)\n",
        "    return tf.expand_dims(y_train_tensor, axis=0)"
      ],
      "metadata": {
        "id": "5OYDOVvLyMso"
      },
      "execution_count": 23,
      "outputs": []
    },
    {
      "cell_type": "code",
      "source": [
        "batch_size = 32\n",
        "sentence_length = 20\n",
        "learning_rate = 0.03\n",
        "number_of_epochs = 5\n",
        "\n",
        "optimizer = create_adam_optimizer(lr=learning_rate)\n",
        "classification_model = create_model_one_layer(units=2, batch_size=batch_size, sentence_length=sentence_length)\n",
        "\n",
        "classification_model.compile(\n",
        "    optimizer=optimizer,\n",
        "    loss='categorical_crossentropy',\n",
        "    # loss=tf.keras.losses.BinaryCrossentropy(from_logits=False),\n",
        "    metrics=['accuracy']\n",
        ")"
      ],
      "metadata": {
        "id": "k_16_FkONblJ"
      },
      "execution_count": 24,
      "outputs": []
    },
    {
      "cell_type": "code",
      "source": [
        "for index in range(len(test_answers)//batch_size):\n",
        "    text = en_test[index*batch_size:(index+1)*batch_size]\n",
        "    encoded_input = tokenizer(text, padding='max_length', max_length=sentence_length, truncation=True, return_tensors='tf')\n",
        "    classification_input = tf.expand_dims(model_bert(encoded_input)[\"last_hidden_state\"], axis=0)\n",
        "\n",
        "    labels = encode_labels(test_answers)\n",
        "    labels_expanded = expand_dimensions(labels[index*batch_size:(index+1)*batch_size])\n",
        "    classification_model.fit(classification_input, y=labels_expanded, epochs=number_of_epochs)\n",
        "    # print(classification_model(classification_input))"
      ],
      "metadata": {
        "colab": {
          "base_uri": "https://localhost:8080/"
        },
        "id": "Q70JFAKk1ygJ",
        "outputId": "fee13c36-92e8-4344-86e1-b5e821bfa846"
      },
      "execution_count": 25,
      "outputs": [
        {
          "output_type": "stream",
          "name": "stdout",
          "text": [
            "Epoch 1/5\n",
            "1/1 [==============================] - 1s 1s/step - loss: 1.5140 - accuracy: 0.0000e+00\n",
            "Epoch 2/5\n",
            "1/1 [==============================] - 0s 25ms/step - loss: 0.2931 - accuracy: 1.0000\n",
            "Epoch 3/5\n",
            "1/1 [==============================] - 0s 25ms/step - loss: 0.0963 - accuracy: 1.0000\n",
            "Epoch 4/5\n",
            "1/1 [==============================] - 0s 37ms/step - loss: 0.0337 - accuracy: 1.0000\n",
            "Epoch 5/5\n",
            "1/1 [==============================] - 0s 26ms/step - loss: 0.0134 - accuracy: 1.0000\n",
            "Epoch 1/5\n",
            "1/1 [==============================] - 0s 23ms/step - loss: 0.0060 - accuracy: 1.0000\n",
            "Epoch 2/5\n",
            "1/1 [==============================] - 0s 14ms/step - loss: 0.0030 - accuracy: 1.0000\n",
            "Epoch 3/5\n",
            "1/1 [==============================] - 0s 36ms/step - loss: 0.0016 - accuracy: 1.0000\n",
            "Epoch 4/5\n",
            "1/1 [==============================] - 0s 42ms/step - loss: 9.1602e-04 - accuracy: 1.0000\n",
            "Epoch 5/5\n",
            "1/1 [==============================] - 0s 20ms/step - loss: 5.6175e-04 - accuracy: 1.0000\n",
            "Epoch 1/5\n",
            "1/1 [==============================] - 0s 19ms/step - loss: 3.6270e-04 - accuracy: 1.0000\n",
            "Epoch 2/5\n",
            "1/1 [==============================] - 0s 20ms/step - loss: 2.4496e-04 - accuracy: 1.0000\n",
            "Epoch 3/5\n",
            "1/1 [==============================] - 0s 17ms/step - loss: 1.7212e-04 - accuracy: 1.0000\n",
            "Epoch 4/5\n",
            "1/1 [==============================] - 0s 14ms/step - loss: 1.2516e-04 - accuracy: 1.0000\n",
            "Epoch 5/5\n",
            "1/1 [==============================] - 0s 14ms/step - loss: 9.3813e-05 - accuracy: 1.0000\n"
          ]
        }
      ]
    },
    {
      "cell_type": "code",
      "source": [],
      "metadata": {
        "id": "wB3HbmHb2Ugq"
      },
      "execution_count": 25,
      "outputs": []
    }
  ]
}